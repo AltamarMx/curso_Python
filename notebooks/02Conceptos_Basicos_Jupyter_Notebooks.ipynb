{
 "cells": [
  {
   "cell_type": "markdown",
   "metadata": {
    "id": "tn-dRJYsiNFW"
   },
   "source": [
    "## Objetivo\n",
    "\n",
    "#### Introducir al estudiante a los conceptos y uso de jupyter notebook así como su características.\n"
   ]
  },
  {
   "cell_type": "markdown",
   "metadata": {
    "id": "Gq8EKfHJiNFW"
   },
   "source": [
    "<a id='Indice'></a>\n",
    "## Índice\n",
    "[Inicio ▲](#Indice)\n",
    "\n",
    "1. [¿Qué es Jupyter Notebook?](#Que-Es-Jupyter-Notebooks)\n",
    "1. [Jupyter Notebook App](#Jupyter-Notebook-App)\n",
    "    1. [Kernel](#Kernel)\n",
    "    1. [Dashboard](#Dashboard)\n",
    "1. [Bibliografia](#Bibliografia)"
   ]
  },
  {
   "cell_type": "markdown",
   "metadata": {
    "id": "puaI1ibxiNFW"
   },
   "source": [
    "<a id='Que-Es-Jupyter-Notebooks'></a>\n",
    "## ¿Qué es Jupyter Notebooks?\n",
    "[Inicio ▲](#Indice)\n",
    "\n",
    "Jupyter Notebook (o más comunmente un \"notebook\" a secas), es un documento producido por la aplicación [Jupyter Notebook App](https://jupyter-notebook-beginner-guide.readthedocs.io/en/latest/what_is_jupyter.html#notebook-app), que contiene tanto código de computadora (por ejemplo, Python o R) como elementos de texto enriquecido (párrafos, ecuaciones, figuras, enlaces, etc.). Es tanto un documento legible por un ser humano, pudiendo contener la descripción de un análisis de datos y sus resultados (figuras, tablas, etc.), como ejecutable por una computadora, pudiendo contener snippets de código que ejecutan por ejemplo un análisis de datos.\n",
    "\n",
    "Debido a esta capacidad de mezclar, código y elementos de texto, este tipo de documentos son ideales para colocar el trabajo de un data scientist (científico de datos), reuniendo el análisis y los resultados en un mismo lugar, a la vez que permite ser ejecutado en tiempo real.\n",
    "\n",
    "Fuente: http://ipython.org/notebook.html#notebook-documents"
   ]
  },
  {
   "cell_type": "markdown",
   "metadata": {},
   "source": [
    "<img src=\"https://threathunterplaybook.com/_images/JUPYTER_ARCHITECTURE.png\" alt=\"Girl in a jacket\" width=\"500\" height=\"600\">\n"
   ]
  },
  {
   "cell_type": "markdown",
   "metadata": {
    "id": "Um9EuOlniNFX"
   },
   "source": [
    "<a id='Jupyter-Notebook-App'></a>\n",
    "## Jupyter Notebook App\n",
    "[Inicio ▲](#Indice)\n",
    "\n",
    "Jupyter Notebook App, es una aplicación cliente-servidor que permite editar y ejecutar notebooks a través de un navegador web. La aplicación se puede instalar y ejecutar de forma local en una PC y no requiere acceso a Internet. A su vez se puede instalar en un servidor web remoto para luego accederla a través de Internet.\n",
    "\n",
    "Sus dos componentes principales son: (i) kernels y (ii) dashboard.\n",
    "\n",
    "https://jupyter.org/\n",
    "\n",
    "<a id='Kernel'></a>\n",
    "### Kernel\n",
    "Un kernel es un \"motor\" computacional, que ejecuta el código contenido dentro del notebook. Cuando se abre un notebook, el kernel asociado se ejecuta de forma automática. Luego cuando se ejecuta un notebook (ya sea celda-por-celda o desde el menú *Cell -> Run All*, el kernel ejecuta los cálculos computacionales y produce los resultados.\n",
    "\n",
    "Por defecto la aplicación trae un kernel para el lenguaje Python, pero pueden agregarse kernels para otros lenguajes de programación como R.\n",
    "\n",
    "\n",
    "<a id='Dashboard'></a>\n",
    "### Dashboard\n",
    "El Dashboard de la aplicación, es la componente gráfica la cual se visualiza cuando uno ejecuta Jupyter Notebook App. Permite gestionar notebooks (agregar, crear, editar, etc), configurar y gestionar los Kernels disponibles (seleccionar, apagar, reiniciar, etc), entre otras opciones."
   ]
  },
  {
   "cell_type": "markdown",
   "metadata": {
    "id": "noFM2tEsiNFd"
   },
   "source": [
    "<a id='Bibliografia'></a>\n",
    "## Bilbiografía\n",
    "[Inicio ▲](#Indice)\n",
    "\n",
    "<ol>\n",
    "    <li><a href=\"https://www.datacamp.com/community/tutorials/tutorial-jupyter-notebook\">Tutorial Jupyter Notebooks</a></li>\n",
    "    <li><a href=\"http://maxmelnick.com/2016/04/19/python-beginner-tips-and-tricks.html\">Shortcuts Jupyter</a></li>\n",
    "</ol>"
   ]
  },
  {
   "cell_type": "code",
   "execution_count": null,
   "metadata": {},
   "outputs": [],
   "source": []
  }
 ],
 "metadata": {
  "colab": {
   "name": "01 - DS - Conceptos Basicos Jupyter Notebooks - R.ipynb",
   "provenance": []
  },
  "kernelspec": {
   "display_name": "Python 3",
   "language": "python",
   "name": "python3"
  },
  "language_info": {
   "codemirror_mode": {
    "name": "ipython",
    "version": 3
   },
   "file_extension": ".py",
   "mimetype": "text/x-python",
   "name": "python",
   "nbconvert_exporter": "python",
   "pygments_lexer": "ipython3",
   "version": "3.9.1"
  }
 },
 "nbformat": 4,
 "nbformat_minor": 1
}
