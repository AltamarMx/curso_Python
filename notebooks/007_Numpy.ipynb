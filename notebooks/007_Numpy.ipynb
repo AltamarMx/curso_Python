{
 "cells": [
  {
   "cell_type": "markdown",
   "id": "valuable-cancer",
   "metadata": {},
   "source": [
    "### NumPy\n",
    "\n",
    "El módulo NumPy proporciona un objeto ndarray que podemos usar para realizar operaciones en una arreglo de cualquier dimensión. El ndarray significa arreglo de N dimensiones donde N es cualquier número. Eso significa que los arreglos NumPy puede ser de cualquier dimensión.\n",
    "\n",
    "NumPy tiene una serie de ventajas sobre las listas de Python. Podemos realizar operaciones de alto rendimiento en los arreglos NumPy, tales como:\n",
    "\n",
    "\n",
    "* Ordenar los miembros de un arreglo\n",
    "* Operaciones matemáticas y lógicas.\n",
    "* Funciones de entrada / salida\n",
    "* Operaciones estadísticas y de álgebra lineal."
   ]
  },
  {
   "cell_type": "markdown",
   "id": "cordless-college",
   "metadata": {},
   "source": [
    "#### Instalando numpy"
   ]
  },
  {
   "cell_type": "code",
   "execution_count": null,
   "id": "parliamentary-zimbabwe",
   "metadata": {},
   "outputs": [],
   "source": [
    "import sys\n",
    "!{sys.executable} -m pip install numpy"
   ]
  },
  {
   "cell_type": "markdown",
   "id": "collective-rogers",
   "metadata": {},
   "source": [
    "#### Importando numpy"
   ]
  },
  {
   "cell_type": "code",
   "execution_count": 155,
   "id": "fantastic-traffic",
   "metadata": {},
   "outputs": [],
   "source": [
    "import numpy as np"
   ]
  },
  {
   "cell_type": "markdown",
   "id": "fatal-origin",
   "metadata": {},
   "source": [
    "Creando un arreglo con numpy"
   ]
  },
  {
   "cell_type": "code",
   "execution_count": 156,
   "id": "fifty-michigan",
   "metadata": {},
   "outputs": [
    {
     "data": {
      "text/plain": [
       "array([1, 2, 3])"
      ]
     },
     "execution_count": 156,
     "metadata": {},
     "output_type": "execute_result"
    }
   ],
   "source": [
    "a = np.array([1,2,3])\n",
    "a"
   ]
  },
  {
   "cell_type": "markdown",
   "id": "royal-legislation",
   "metadata": {},
   "source": [
    "En el ejemplo anterior simplemente hemos creado un array unidimensional conteniendo los valores 1, 2, 3. Podemos aplicarle una función que eleva cada valor del array al cuadrado:"
   ]
  },
  {
   "cell_type": "code",
   "execution_count": 157,
   "id": "numerical-worse",
   "metadata": {},
   "outputs": [
    {
     "data": {
      "text/plain": [
       "array([1, 4, 9])"
      ]
     },
     "execution_count": 157,
     "metadata": {},
     "output_type": "execute_result"
    }
   ],
   "source": [
    "np.square(a)"
   ]
  },
  {
   "cell_type": "code",
   "execution_count": 158,
   "id": "blind-geneva",
   "metadata": {},
   "outputs": [
    {
     "data": {
      "text/plain": [
       "array([1, 2, 3])"
      ]
     },
     "execution_count": 158,
     "metadata": {},
     "output_type": "execute_result"
    }
   ],
   "source": [
    "a"
   ]
  },
  {
   "cell_type": "markdown",
   "id": "tutorial-circulation",
   "metadata": {},
   "source": [
    "O, si tenemos otro array o un escalar, podemos realizar operaciones entre ellos:\n"
   ]
  },
  {
   "cell_type": "code",
   "execution_count": 159,
   "id": "broadband-sociology",
   "metadata": {},
   "outputs": [],
   "source": [
    "b= np.array([5,6,7])"
   ]
  },
  {
   "cell_type": "code",
   "execution_count": 160,
   "id": "passing-ferry",
   "metadata": {},
   "outputs": [
    {
     "data": {
      "text/plain": [
       "array([ 6,  8, 10])"
      ]
     },
     "execution_count": 160,
     "metadata": {},
     "output_type": "execute_result"
    }
   ],
   "source": [
    "a + b"
   ]
  },
  {
   "cell_type": "code",
   "execution_count": 161,
   "id": "silent-commodity",
   "metadata": {},
   "outputs": [
    {
     "data": {
      "text/plain": [
       "array([-1,  0,  1])"
      ]
     },
     "execution_count": 161,
     "metadata": {},
     "output_type": "execute_result"
    }
   ],
   "source": [
    "a - 2"
   ]
  },
  {
   "cell_type": "markdown",
   "id": "choice-bottle",
   "metadata": {},
   "source": [
    "Los arrays son contenedores multidimensionales para datos homogéneos. Es decir, todos los datos contenidos en un array deberán ser del mismo tipo. Todos los arrays tiene un número de dimensiones (ndim), un tamaño (shape) que define el número de elementos en cada dimensión del array, y un tipo (dtype) que describe el tipo de los datos contenidos en el array."
   ]
  },
  {
   "cell_type": "markdown",
   "id": "sitting-cancer",
   "metadata": {},
   "source": [
    "La función numpy.array es la forma más simple de crear un array a partir de un iterador como una simple lista (el iterador también puede ser otro array NumPy). En este ejemplo, partimos de una lista n y creamos un array, mostrando el número de dimensiones (atributo ndim), su tamaño (accesible a través de su atributo shape) y el tipo de los datos que contiene (accesible a través de su atributo dtype):"
   ]
  },
  {
   "cell_type": "code",
   "execution_count": 162,
   "id": "protecting-ribbon",
   "metadata": {},
   "outputs": [
    {
     "data": {
      "text/plain": [
       "array([1, 2, 3])"
      ]
     },
     "execution_count": 162,
     "metadata": {},
     "output_type": "execute_result"
    }
   ],
   "source": [
    "n=[1,2,3]\n",
    "m=np.array(n)\n",
    "m"
   ]
  },
  {
   "cell_type": "code",
   "execution_count": 163,
   "id": "fluid-appendix",
   "metadata": {},
   "outputs": [
    {
     "data": {
      "text/plain": [
       "dtype('int64')"
      ]
     },
     "execution_count": 163,
     "metadata": {},
     "output_type": "execute_result"
    }
   ],
   "source": [
    "m.dtype"
   ]
  },
  {
   "cell_type": "code",
   "execution_count": 164,
   "id": "welsh-heating",
   "metadata": {},
   "outputs": [
    {
     "data": {
      "text/plain": [
       "1"
      ]
     },
     "execution_count": 164,
     "metadata": {},
     "output_type": "execute_result"
    }
   ],
   "source": [
    "m.ndim"
   ]
  },
  {
   "cell_type": "code",
   "execution_count": 165,
   "id": "unlimited-cloud",
   "metadata": {},
   "outputs": [
    {
     "data": {
      "text/plain": [
       "(3,)"
      ]
     },
     "execution_count": 165,
     "metadata": {},
     "output_type": "execute_result"
    }
   ],
   "source": [
    "m.shape"
   ]
  },
  {
   "cell_type": "markdown",
   "id": "material-shopping",
   "metadata": {},
   "source": [
    "El atributo shape devuelve una tupla con tantas cifras como dimensiones tiene el array, y cada cifra indica el número de elementos en la correspondiente dimensión (este atributo también puede ser usado para fijar el tamaño del array).\n",
    "\n",
    "En este caso vemos que el array m recién creado tiene una única dimensión y 3 elementos en dicha dimensión. El tipo de los valores contenidos en él es int32 (enteros representados con 32 bits).\n",
    "\n",
    "Si alguno de los datos de la lista n utilizada hubiese sido un número real, por ejemplo, la función array habría modificado el tipo del array creado para adoptar uno que englobase a todos los tipos involucrados en la lista -en este caso el tipo float correspondiente a los números reales-:"
   ]
  },
  {
   "cell_type": "code",
   "execution_count": 167,
   "id": "consecutive-resistance",
   "metadata": {},
   "outputs": [
    {
     "name": "stdout",
     "output_type": "stream",
     "text": [
      "(3,)\n",
      "float64\n",
      "[1. 2. 3.]\n"
     ]
    }
   ],
   "source": [
    "n=[1.0,2,3]\n",
    "m=np.array(n)\n",
    "print(m.shape)\n",
    "print(m.dtype)\n",
    "print(m)"
   ]
  },
  {
   "cell_type": "markdown",
   "id": "exceptional-puppy",
   "metadata": {},
   "source": [
    "En un caso extremo, la función adoptaría como tipo común la cadena de texto (string):\n"
   ]
  },
  {
   "cell_type": "code",
   "execution_count": 168,
   "id": "peripheral-kenya",
   "metadata": {},
   "outputs": [
    {
     "name": "stdout",
     "output_type": "stream",
     "text": [
      "<U32\n",
      "['1.0' 'a' '3']\n"
     ]
    }
   ],
   "source": [
    "n=[1.0,'a',3]\n",
    "m=np.array(n)\n",
    "print(m.dtype)\n",
    "print(m)"
   ]
  },
  {
   "cell_type": "markdown",
   "id": "signed-diary",
   "metadata": {},
   "source": [
    "En este ejemplo, la lista a partir de la que se crea el array incluye números enteros, números reales y un string, siendo este último tipo el único capaz de englobar a todos ellos, por lo que el tipo del array pasa a ser \"<U32\", cadena de texto con caracteres unicode codificado como \"little-endian\" (con el bit menos significativo situado a la izquierda, lo que sabemos por el símbolo \"<\"). En la imagen se muestra también el array creado, quedando claro el tipo de sus elementos. Este proceso de modificación del tipo de forma que englobe a todos los tipos del iterador a partir del cual se crea el array es lo que se conoce como coerción de tipo."
   ]
  },
  {
   "cell_type": "markdown",
   "id": "vanilla-functionality",
   "metadata": {},
   "source": [
    "Esta función permite fijar el tipo del array con el parámetro dtype:"
   ]
  },
  {
   "cell_type": "code",
   "execution_count": 171,
   "id": "martial-hazard",
   "metadata": {},
   "outputs": [
    {
     "data": {
      "text/plain": [
       "dtype('float32')"
      ]
     },
     "execution_count": 171,
     "metadata": {},
     "output_type": "execute_result"
    }
   ],
   "source": [
    "a= np.array([1,2,3], dtype=\"float32\")\n",
    "a.dtype"
   ]
  },
  {
   "cell_type": "markdown",
   "id": "capital-thanksgiving",
   "metadata": {},
   "source": [
    "Si especificamos un tipo genérico como float (sin especificar el número de bytes), se asignará el tamaño por defecto para dicho tipo (64, como vemos en la imagen anterior). Si quisiéramos especificar el número de bits, podríamos hacerlo también:"
   ]
  },
  {
   "cell_type": "code",
   "execution_count": null,
   "id": "plain-aerospace",
   "metadata": {},
   "outputs": [],
   "source": [
    "a.dtype"
   ]
  },
  {
   "cell_type": "markdown",
   "id": "mediterranean-force",
   "metadata": {},
   "source": [
    "#### Arrays de dos dimensiones\n",
    "\n",
    "Si los elementos son estructuras más complejas -otras listas, por ejemplo- cada elemento principal de la lista se considera una fila en un array de dos dimensiones, y los elementos contenidos en dichos elementos se consideran repartidos en columnas:"
   ]
  },
  {
   "cell_type": "code",
   "execution_count": 172,
   "id": "removed-mailing",
   "metadata": {
    "scrolled": false
   },
   "outputs": [
    {
     "name": "stdout",
     "output_type": "stream",
     "text": [
      "(2, 3)\n",
      "[[10 11 12]\n",
      " [12 14 15]]\n"
     ]
    }
   ],
   "source": [
    "m = np.array([[10,11,12],\n",
    "            [12,14,15]])\n",
    "print(m.shape)\n",
    "print(m)"
   ]
  },
  {
   "cell_type": "markdown",
   "id": "affiliated-return",
   "metadata": {},
   "source": [
    "En el ejemplo anterior, la lista principal consta de dos elementos: el primero ([10, 11, 12]) constituye la primera fila del array, y el segundo ([13, 14, 15]) la segunda fila. Como ambos elementos son, a su vez, listas, cada uno de los elementos de estas listas se muestran en columnas."
   ]
  },
  {
   "cell_type": "markdown",
   "id": "stunning-treasury",
   "metadata": {},
   "source": [
    "El eje vertical recibe el nombre de \"eje 0\", y el eje horizontal \"eje 1\".\n",
    "\n",
    "Obsérvese que un array unidimensional como el visto al principio de esta sección no es lo mismo que un array bidimensional de una fila y tres columnas:"
   ]
  },
  {
   "cell_type": "code",
   "execution_count": 173,
   "id": "caring-duration",
   "metadata": {},
   "outputs": [
    {
     "name": "stdout",
     "output_type": "stream",
     "text": [
      "(1, 3)\n",
      "[[1 2 3]]\n"
     ]
    }
   ],
   "source": [
    "m=np.array([[1,2,3]])\n",
    "print(m.shape)\n",
    "print(m)"
   ]
  },
  {
   "cell_type": "markdown",
   "id": "streaming-clock",
   "metadata": {},
   "source": [
    "El tamaño de este array es (1, 3) -una fila y tres columnas-. La diferencia está en la lista usada para crear el array: en el ejemplo del array unidimensional se trataba de una simple lista de números ([1, 2, 3]) mientras que en el array recién creado se trata de una lista cuyo único elemento es otra lista de tres elementos (de ahí los dobles corchetes)."
   ]
  },
  {
   "cell_type": "markdown",
   "id": "julian-foundation",
   "metadata": {},
   "source": [
    "#### Arrays de tres dimensiones\n",
    "Si, a su vez, los elementos de segundo nivel son listas de elementos, nos encontramos ante un array de tres dimensiones:"
   ]
  },
  {
   "cell_type": "code",
   "execution_count": 174,
   "id": "choice-hepatitis",
   "metadata": {},
   "outputs": [
    {
     "name": "stdout",
     "output_type": "stream",
     "text": [
      "(2, 3, 3)\n",
      "[[[ 1  2  3]\n",
      "  [ 4  5  6]\n",
      "  [ 7  8  9]]\n",
      "\n",
      " [[11 12 13]\n",
      "  [14 15 16]\n",
      "  [17 18 19]]]\n"
     ]
    }
   ],
   "source": [
    "m= np.array([[[1,2,3],[4,5,6],[7,8,9]],\n",
    "            [[11,12,13],[14,15,16],[17,18,19]]])\n",
    "\n",
    "print(m.shape)\n",
    "print(m)"
   ]
  },
  {
   "cell_type": "markdown",
   "id": "sunset-swing",
   "metadata": {},
   "source": [
    "El esquema mostrado por la instrucción print(m) muestra que el primer elemento de la lista usada para crear el array ([[1, 2, 3], [4, 5, 6], [7, 8, 9]]) sigue siendo considerado como la primera fila del nuevo array, y el segundo elemento ([11, 12, 13], [14, 15, 16], [17, 18, 19]]) como la segunda fila. Es decir, la primera dimensión ocupa el eje vertical (eje 0)."
   ]
  },
  {
   "cell_type": "markdown",
   "id": "committed-exploration",
   "metadata": {},
   "source": [
    "Si nos imaginamos que esta estructura es una especie de cubo de Rubik, entendemos que los elementos del segundo nivel siguen mostrándose en columnas (eje horizontal, llamado eje 1) y que los del tercer nivel se muestran en el eje perpendicular a los anteriores (eje 2), llegamos a la conclusión de que el esquema mostrado por NumPy al imprimir el array nos sitúa en la vertical de la estructura, mirándola desde arriba (viendo los dos \"pisos\" simultáneamente: el piso superior encima y el inferior, debajo):\n",
    "\n",
    "<img src=\"https://interactivechaos.com/sites/default/files/inline-images/tutorial_numpy_ejemplos_arrays_05.JPG\">"
   ]
  },
  {
   "cell_type": "markdown",
   "id": "lined-diary",
   "metadata": {},
   "source": [
    "#### La función arange\n",
    "\n",
    "Otra función que nos permite crear un array NumPy es numpy.arange. Al igual que la función predefinida de Python range, genera un conjunto de números entre un valor de inicio y uno final, pudiendo especificar un incremento entre los valores, pero, al contrario de lo que ocurre con range, el resultado aquí es un array NumPy:\n"
   ]
  },
  {
   "cell_type": "code",
   "execution_count": 175,
   "id": "cloudy-destruction",
   "metadata": {},
   "outputs": [
    {
     "data": {
      "text/plain": [
       "array([2, 5, 8])"
      ]
     },
     "execution_count": 175,
     "metadata": {},
     "output_type": "execute_result"
    }
   ],
   "source": [
    "a= np.arange(2,10,3)\n",
    "a"
   ]
  },
  {
   "cell_type": "markdown",
   "id": "recognized-baseline",
   "metadata": {},
   "source": [
    "Si no especificamos el tercer argumento, se sobreentiende que el incremento es de 1:\n"
   ]
  },
  {
   "cell_type": "code",
   "execution_count": 176,
   "id": "unknown-sunset",
   "metadata": {
    "scrolled": true
   },
   "outputs": [
    {
     "data": {
      "text/plain": [
       "array([2, 3, 4, 5, 6, 7])"
      ]
     },
     "execution_count": 176,
     "metadata": {},
     "output_type": "execute_result"
    }
   ],
   "source": [
    "a= np.arange(2,8)\n",
    "a"
   ]
  },
  {
   "cell_type": "markdown",
   "id": "laden-helicopter",
   "metadata": {},
   "source": [
    "Si solo añadimos un valor como argumento, la función considera todos los valores desde el cero hasta dicho valor (sin incluirlo, como ya sabemos):"
   ]
  },
  {
   "cell_type": "code",
   "execution_count": 177,
   "id": "continental-elder",
   "metadata": {
    "scrolled": true
   },
   "outputs": [
    {
     "data": {
      "text/plain": [
       "array([0, 1, 2, 3, 4])"
      ]
     },
     "execution_count": 177,
     "metadata": {},
     "output_type": "execute_result"
    }
   ],
   "source": [
    "np.arange(5)"
   ]
  },
  {
   "cell_type": "markdown",
   "id": "victorian-curve",
   "metadata": {},
   "source": [
    "De los dos argumentos que definen los límites inferior y superior, el primer valor puede ser mayor que el segundo si se indica un incremento negativo:"
   ]
  },
  {
   "cell_type": "code",
   "execution_count": 178,
   "id": "offensive-device",
   "metadata": {
    "scrolled": true
   },
   "outputs": [
    {
     "data": {
      "text/plain": [
       "array([10,  7,  4])"
      ]
     },
     "execution_count": 178,
     "metadata": {},
     "output_type": "execute_result"
    }
   ],
   "source": [
    "a = np.arange(10,2,-3)\n",
    "a"
   ]
  },
  {
   "cell_type": "markdown",
   "id": "expanded-married",
   "metadata": {},
   "source": [
    "linspace\n",
    "\n",
    "La función numpy.linspace genera un array NumPy formado por n números equiespaciados entre dos dados. Su sintaxis es:\n",
    "\n",
    "numpy.linspace(valor-inicial, valor-final, número de valores)"
   ]
  },
  {
   "cell_type": "code",
   "execution_count": 179,
   "id": "subjective-evans",
   "metadata": {},
   "outputs": [
    {
     "data": {
      "text/plain": [
       "array([10, 20, 30, 40])"
      ]
     },
     "execution_count": 179,
     "metadata": {},
     "output_type": "execute_result"
    }
   ],
   "source": [
    "a= np.linspace(10,40,4, dtype=\"int\")\n",
    "a"
   ]
  },
  {
   "cell_type": "markdown",
   "id": "molecular-finding",
   "metadata": {},
   "source": [
    "Obsérvese que, por defecto, el array generado incluye el valor final (este comportamiento es configurable).\n",
    "\n",
    "Como en la práctica totalidad de funciones de creación de arrays NumPy, podemos especificar el tipo del array usando el parámetro dtype:"
   ]
  },
  {
   "cell_type": "code",
   "execution_count": 183,
   "id": "wrapped-essex",
   "metadata": {},
   "outputs": [
    {
     "data": {
      "text/plain": [
       "array([10.        , 10.32323232, 10.64646465, 10.96969697, 11.29292929,\n",
       "       11.61616162, 11.93939394, 12.26262626, 12.58585859, 12.90909091,\n",
       "       13.23232323, 13.55555556, 13.87878788, 14.2020202 , 14.52525253,\n",
       "       14.84848485, 15.17171717, 15.49494949, 15.81818182, 16.14141414,\n",
       "       16.46464646, 16.78787879, 17.11111111, 17.43434343, 17.75757576,\n",
       "       18.08080808, 18.4040404 , 18.72727273, 19.05050505, 19.37373737,\n",
       "       19.6969697 , 20.02020202, 20.34343434, 20.66666667, 20.98989899,\n",
       "       21.31313131, 21.63636364, 21.95959596, 22.28282828, 22.60606061,\n",
       "       22.92929293, 23.25252525, 23.57575758, 23.8989899 , 24.22222222,\n",
       "       24.54545455, 24.86868687, 25.19191919, 25.51515152, 25.83838384,\n",
       "       26.16161616, 26.48484848, 26.80808081, 27.13131313, 27.45454545,\n",
       "       27.77777778, 28.1010101 , 28.42424242, 28.74747475, 29.07070707,\n",
       "       29.39393939, 29.71717172, 30.04040404, 30.36363636, 30.68686869,\n",
       "       31.01010101, 31.33333333, 31.65656566, 31.97979798, 32.3030303 ,\n",
       "       32.62626263, 32.94949495, 33.27272727, 33.5959596 , 33.91919192,\n",
       "       34.24242424, 34.56565657, 34.88888889, 35.21212121, 35.53535354,\n",
       "       35.85858586, 36.18181818, 36.50505051, 36.82828283, 37.15151515,\n",
       "       37.47474747, 37.7979798 , 38.12121212, 38.44444444, 38.76767677,\n",
       "       39.09090909, 39.41414141, 39.73737374, 40.06060606, 40.38383838,\n",
       "       40.70707071, 41.03030303, 41.35353535, 41.67676768, 42.        ])"
      ]
     },
     "execution_count": 183,
     "metadata": {},
     "output_type": "execute_result"
    }
   ],
   "source": [
    "a = np.linspace(10, 42, 100 , dtype = \"float\")\n",
    "a"
   ]
  },
  {
   "cell_type": "code",
   "execution_count": 184,
   "id": "narrative-first",
   "metadata": {
    "scrolled": true
   },
   "outputs": [
    {
     "name": "stdout",
     "output_type": "stream",
     "text": [
      "float64\n",
      "(100,)\n"
     ]
    }
   ],
   "source": [
    "print(a.dtype)\n",
    "print(a.shape)"
   ]
  },
  {
   "cell_type": "markdown",
   "id": "industrial-direction",
   "metadata": {},
   "source": [
    "logspace\n",
    "\n",
    "De forma semejante, la función numpy.logspace genera un array NumPy formado también por n números entre dos dados, pero en una escala logarítmica. Por ejemplo:"
   ]
  },
  {
   "cell_type": "code",
   "execution_count": 185,
   "id": "correct-suggestion",
   "metadata": {},
   "outputs": [
    {
     "data": {
      "text/plain": [
       "array([ 100.        ,  129.1549665 ,  166.81005372,  215.443469  ,\n",
       "        278.25594022,  359.38136638,  464.15888336,  599.48425032,\n",
       "        774.26368268, 1000.        ])"
      ]
     },
     "execution_count": 185,
     "metadata": {},
     "output_type": "execute_result"
    }
   ],
   "source": [
    "m = np.logspace(2, 3, 10)\n",
    "m"
   ]
  },
  {
   "cell_type": "markdown",
   "id": "numerical-prospect",
   "metadata": {},
   "source": [
    "La base a aplicar (por defecto 10) puede especificarse en el argumento base.\n",
    "\n",
    "El resultado de esta función es equivalente a calcular los valores usando la función linspace vista y, a continuación, calcular la base elevada a cada uno de los números obtenidos:"
   ]
  },
  {
   "cell_type": "code",
   "execution_count": 186,
   "id": "upper-consequence",
   "metadata": {
    "scrolled": true
   },
   "outputs": [
    {
     "data": {
      "text/plain": [
       "array([2.        , 2.11111111, 2.22222222, 2.33333333, 2.44444444,\n",
       "       2.55555556, 2.66666667, 2.77777778, 2.88888889, 3.        ])"
      ]
     },
     "execution_count": 186,
     "metadata": {},
     "output_type": "execute_result"
    }
   ],
   "source": [
    "m = np.linspace(2, 3, 10)\n",
    "m"
   ]
  },
  {
   "cell_type": "code",
   "execution_count": 187,
   "id": "further-permission",
   "metadata": {},
   "outputs": [
    {
     "data": {
      "text/plain": [
       "array([ 100.        ,  129.1549665 ,  166.81005372,  215.443469  ,\n",
       "        278.25594022,  359.38136638,  464.15888336,  599.48425032,\n",
       "        774.26368268, 1000.        ])"
      ]
     },
     "execution_count": 187,
     "metadata": {},
     "output_type": "execute_result"
    }
   ],
   "source": [
    "np.power(10, m)"
   ]
  },
  {
   "cell_type": "markdown",
   "id": "statistical-southeast",
   "metadata": {},
   "source": [
    "Es posible crear arrays mediante otras funciones:\n",
    "\n",
    "numpy.zeros(): devuelve un array del tamaño y tipo indicados inicializando sus valores con ceros\n",
    "numpy.ones(): devuelve un array del tamaño y tipo indicados inicializando sus valores con unos\n",
    "numpy.empty(): devuelve un array del tamaño y tipo indicados sin inicializar sus valores\n",
    "En los tres casos se puede especificar el tamaño deseado con el parámetro shape, que deberá contener un número entero (si se desea crear un array unidimensional) o una tupla de enteros (si se desea crear un array multidimensional):"
   ]
  },
  {
   "cell_type": "code",
   "execution_count": 188,
   "id": "blind-knitting",
   "metadata": {},
   "outputs": [
    {
     "name": "stdout",
     "output_type": "stream",
     "text": [
      "[[1. 1. 1.]\n",
      " [1. 1. 1.]]\n"
     ]
    }
   ],
   "source": [
    "m=np.ones(shape = (2,3))\n",
    "print(m)"
   ]
  },
  {
   "cell_type": "markdown",
   "id": "violent-tyler",
   "metadata": {},
   "source": [
    "#### El método astype\n",
    "\n",
    "Es posible hacer un copia de un array aplicándole otro tipo de datos utilizando el método asociado a un array numpy.ndarray.astype():"
   ]
  },
  {
   "cell_type": "code",
   "execution_count": 191,
   "id": "renewable-twenty",
   "metadata": {},
   "outputs": [
    {
     "name": "stdout",
     "output_type": "stream",
     "text": [
      "float64\n"
     ]
    }
   ],
   "source": [
    "n=np.asarray([1.1,2.2,3.3])\n",
    "print(m.dtype)\n"
   ]
  },
  {
   "cell_type": "code",
   "execution_count": 192,
   "id": "furnished-possession",
   "metadata": {
    "scrolled": true
   },
   "outputs": [
    {
     "name": "stdout",
     "output_type": "stream",
     "text": [
      "int32\n",
      "[1 2 3]\n"
     ]
    }
   ],
   "source": [
    "m=n.astype(\"int32\")\n",
    "print(m.dtype)\n",
    "print(m)"
   ]
  },
  {
   "cell_type": "markdown",
   "id": "understood-laptop",
   "metadata": {},
   "source": [
    "También podemos crear un array de números a partir de un array que contenga textos representando números:"
   ]
  },
  {
   "cell_type": "code",
   "execution_count": 193,
   "id": "married-negative",
   "metadata": {
    "scrolled": true
   },
   "outputs": [
    {
     "name": "stdout",
     "output_type": "stream",
     "text": [
      "<U1\n"
     ]
    }
   ],
   "source": [
    "n= np.asarray([\"1\",\"2\",\"3\"])\n",
    "print(n.dtype)"
   ]
  },
  {
   "cell_type": "code",
   "execution_count": 194,
   "id": "textile-parliament",
   "metadata": {},
   "outputs": [
    {
     "name": "stdout",
     "output_type": "stream",
     "text": [
      "int32\n",
      "[1 2 3]\n"
     ]
    }
   ],
   "source": [
    "m=n.astype(\"int32\")\n",
    "print(m.dtype)\n",
    "print(m)"
   ]
  },
  {
   "cell_type": "markdown",
   "id": "intermediate-thumbnail",
   "metadata": {},
   "source": [
    "#### Indexado y selección\n",
    "\n",
    "Hay diferentes métodos para indexar y realizar selecciones en un array NumPy en función del número de dimensiones que tenga...\n",
    "\n",
    "Si se trata de un array unidimensional, la selección se realiza de modo semejante a las listas.\n",
    "\n",
    "Los índices comienzan en cero. Si el índice es negativo, estamos contando desde el final (y el último valor tiene índice -1):"
   ]
  },
  {
   "cell_type": "code",
   "execution_count": 195,
   "id": "sexual-nature",
   "metadata": {},
   "outputs": [],
   "source": [
    "m = np.array([1,2,3,4,5])"
   ]
  },
  {
   "cell_type": "code",
   "execution_count": 196,
   "id": "differential-shannon",
   "metadata": {},
   "outputs": [
    {
     "name": "stdout",
     "output_type": "stream",
     "text": [
      "1\n"
     ]
    }
   ],
   "source": [
    "print(m[0])"
   ]
  },
  {
   "cell_type": "code",
   "execution_count": 197,
   "id": "medium-cabin",
   "metadata": {
    "scrolled": true
   },
   "outputs": [
    {
     "name": "stdout",
     "output_type": "stream",
     "text": [
      "3\n"
     ]
    }
   ],
   "source": [
    "print(m[2])"
   ]
  },
  {
   "cell_type": "code",
   "execution_count": null,
   "id": "constitutional-tuesday",
   "metadata": {},
   "outputs": [],
   "source": [
    "Rangos"
   ]
  },
  {
   "cell_type": "code",
   "execution_count": 198,
   "id": "accessible-affiliation",
   "metadata": {
    "scrolled": true
   },
   "outputs": [
    {
     "name": "stdout",
     "output_type": "stream",
     "text": [
      "[2 3]\n"
     ]
    }
   ],
   "source": [
    "print(m[1:3])"
   ]
  },
  {
   "cell_type": "code",
   "execution_count": 199,
   "id": "oriental-cartridge",
   "metadata": {},
   "outputs": [
    {
     "name": "stdout",
     "output_type": "stream",
     "text": [
      "[1 2 3]\n"
     ]
    }
   ],
   "source": [
    "print(m[:3])"
   ]
  },
  {
   "cell_type": "code",
   "execution_count": 200,
   "id": "settled-hydrogen",
   "metadata": {
    "scrolled": false
   },
   "outputs": [
    {
     "name": "stdout",
     "output_type": "stream",
     "text": [
      "[4 5]\n"
     ]
    }
   ],
   "source": [
    "print(m[3:])"
   ]
  },
  {
   "cell_type": "markdown",
   "id": "handmade-breach",
   "metadata": {},
   "source": [
    "Tercer argumento en los rangos\n",
    "\n"
   ]
  },
  {
   "cell_type": "code",
   "execution_count": 201,
   "id": "purple-edinburgh",
   "metadata": {
    "scrolled": true
   },
   "outputs": [
    {
     "data": {
      "text/plain": [
       "array([ 0,  1,  2,  3,  4,  5,  6,  7,  8,  9, 10, 11, 12, 13, 14, 15, 16,\n",
       "       17, 18, 19])"
      ]
     },
     "execution_count": 201,
     "metadata": {},
     "output_type": "execute_result"
    }
   ],
   "source": [
    "m=np.arange(20)\n",
    "m"
   ]
  },
  {
   "cell_type": "code",
   "execution_count": 202,
   "id": "celtic-membership",
   "metadata": {
    "scrolled": true
   },
   "outputs": [
    {
     "data": {
      "text/plain": [
       "array([ 1,  3,  5,  7,  9, 11])"
      ]
     },
     "execution_count": 202,
     "metadata": {},
     "output_type": "execute_result"
    }
   ],
   "source": [
    "m[1:12:2]"
   ]
  },
  {
   "cell_type": "markdown",
   "id": "terminal-deficit",
   "metadata": {},
   "source": [
    "El incremento también puede ser negativo, siempre que el primer valor apunte a un valor posterior al segundo:"
   ]
  },
  {
   "cell_type": "code",
   "execution_count": 203,
   "id": "educated-track",
   "metadata": {},
   "outputs": [
    {
     "data": {
      "text/plain": [
       "array([12, 10,  8,  6,  4,  2])"
      ]
     },
     "execution_count": 203,
     "metadata": {},
     "output_type": "execute_result"
    }
   ],
   "source": [
    "m[12:1:-2]"
   ]
  },
  {
   "cell_type": "markdown",
   "id": "lightweight-distribution",
   "metadata": {},
   "source": [
    "#### Selecciones en arrays multidimensionales\n",
    "\n",
    "Si se trata, por ejemplo, de arrays bidimensionales, los elementos correspondientes a cada índice ya no son escalares, sino arrays unidimensionales (filas).\n",
    "\n",
    "Partamos, por ejemplo, de este array de ejemplo (generado con la función integrada de Python range y redimensionado con la función numpy.reshape):"
   ]
  },
  {
   "cell_type": "code",
   "execution_count": 205,
   "id": "forbidden-carry",
   "metadata": {},
   "outputs": [
    {
     "data": {
      "text/plain": [
       "(5, 5)"
      ]
     },
     "execution_count": 205,
     "metadata": {},
     "output_type": "execute_result"
    }
   ],
   "source": [
    "a.shape"
   ]
  },
  {
   "cell_type": "code",
   "execution_count": 206,
   "id": "divided-function",
   "metadata": {
    "scrolled": true
   },
   "outputs": [
    {
     "data": {
      "text/plain": [
       "array([ 6,  7,  8,  9, 10])"
      ]
     },
     "execution_count": 206,
     "metadata": {},
     "output_type": "execute_result"
    }
   ],
   "source": [
    "a[1]"
   ]
  },
  {
   "cell_type": "code",
   "execution_count": 207,
   "id": "individual-calgary",
   "metadata": {
    "scrolled": true
   },
   "outputs": [
    {
     "data": {
      "text/plain": [
       "array([16, 17, 18, 19, 20])"
      ]
     },
     "execution_count": 207,
     "metadata": {},
     "output_type": "execute_result"
    }
   ],
   "source": [
    "a[-2]"
   ]
  },
  {
   "cell_type": "code",
   "execution_count": 208,
   "id": "impossible-trail",
   "metadata": {
    "scrolled": true
   },
   "outputs": [
    {
     "data": {
      "text/plain": [
       "8"
      ]
     },
     "execution_count": 208,
     "metadata": {},
     "output_type": "execute_result"
    }
   ],
   "source": [
    "a[1][2]"
   ]
  },
  {
   "cell_type": "code",
   "execution_count": 204,
   "id": "weighted-russia",
   "metadata": {
    "scrolled": true
   },
   "outputs": [
    {
     "data": {
      "text/plain": [
       "array([[ 1,  2,  3,  4,  5],\n",
       "       [ 6,  7,  8,  9, 10],\n",
       "       [11, 12, 13, 14, 15],\n",
       "       [16, 17, 18, 19, 20],\n",
       "       [21, 22, 23, 24, 25]])"
      ]
     },
     "execution_count": 204,
     "metadata": {},
     "output_type": "execute_result"
    }
   ],
   "source": [
    "a= np.reshape(np.array(range(1,26)),(5,5))\n",
    "a"
   ]
  },
  {
   "cell_type": "code",
   "execution_count": 209,
   "id": "external-hampton",
   "metadata": {},
   "outputs": [
    {
     "data": {
      "text/plain": [
       "8"
      ]
     },
     "execution_count": 209,
     "metadata": {},
     "output_type": "execute_result"
    }
   ],
   "source": [
    "#más simple\n",
    "a[1,2]"
   ]
  },
  {
   "cell_type": "markdown",
   "id": "average-charles",
   "metadata": {},
   "source": [
    "Estos índices pueden ser rangos del tipo a:b. En el siguiente ejemplo estamos extrayendo los elementos que pertenecen a las filas 1 y 2 y columna 3 (recordemos que los índices comienzan en cero):"
   ]
  },
  {
   "cell_type": "code",
   "execution_count": 211,
   "id": "underlying-luxury",
   "metadata": {},
   "outputs": [
    {
     "data": {
      "text/plain": [
       "array([ 9, 14])"
      ]
     },
     "execution_count": 211,
     "metadata": {},
     "output_type": "execute_result"
    }
   ],
   "source": [
    "a[1:3,3]"
   ]
  },
  {
   "cell_type": "markdown",
   "id": "driven-handy",
   "metadata": {},
   "source": [
    "En este otro ejemplo estamos seleccionando los elementos que pertenecen a las filas 1 y 2, y columnas 2 y 3:"
   ]
  },
  {
   "cell_type": "code",
   "execution_count": 212,
   "id": "collect-invite",
   "metadata": {
    "scrolled": true
   },
   "outputs": [
    {
     "data": {
      "text/plain": [
       "array([[ 8,  9],\n",
       "       [13, 14]])"
      ]
     },
     "execution_count": 212,
     "metadata": {},
     "output_type": "execute_result"
    }
   ],
   "source": [
    "a[1:3,2:4]"
   ]
  },
  {
   "cell_type": "markdown",
   "id": "genuine-military",
   "metadata": {},
   "source": [
    "#### Selección con booleanos\n",
    "\n",
    "Partamos del siguiente array de una dimensión y 7 elementos:\n",
    "\n"
   ]
  },
  {
   "cell_type": "code",
   "execution_count": 213,
   "id": "connected-shelf",
   "metadata": {},
   "outputs": [
    {
     "name": "stdout",
     "output_type": "stream",
     "text": [
      "[1 2 3 4 5 6 7]\n"
     ]
    }
   ],
   "source": [
    "a= np.array([1,2,3,4,5,6,7])\n",
    "print(a)"
   ]
  },
  {
   "cell_type": "code",
   "execution_count": 216,
   "id": "auburn-duncan",
   "metadata": {},
   "outputs": [
    {
     "name": "stdout",
     "output_type": "stream",
     "text": [
      "[1 2 4 7]\n"
     ]
    }
   ],
   "source": [
    "mask=[True,True,False,True,False,False,True]\n",
    "print(a[mask])"
   ]
  },
  {
   "cell_type": "code",
   "execution_count": 218,
   "id": "early-robertson",
   "metadata": {},
   "outputs": [
    {
     "name": "stdout",
     "output_type": "stream",
     "text": [
      "[False False False  True  True  True  True]\n",
      "[4 5 6 7]\n"
     ]
    }
   ],
   "source": [
    "mask=a>3\n",
    "print(mask)\n",
    "print(a[mask])"
   ]
  },
  {
   "cell_type": "code",
   "execution_count": 222,
   "id": "framed-split",
   "metadata": {},
   "outputs": [
    {
     "name": "stdout",
     "output_type": "stream",
     "text": [
      "[-3 -2  0  1  4]\n",
      "[-2  1  0  4 -3]\n"
     ]
    }
   ],
   "source": [
    "### Ordenar\n",
    "a= np.array([-2,1,0,4,-3])\n",
    "print(np.sort(a))\n",
    "print(a)"
   ]
  },
  {
   "cell_type": "code",
   "execution_count": 223,
   "id": "framed-subscriber",
   "metadata": {},
   "outputs": [
    {
     "name": "stdout",
     "output_type": "stream",
     "text": [
      "[-3 -2  0  1  4]\n"
     ]
    }
   ],
   "source": [
    "a= np.array([-2,1,0,4,-3])\n",
    "a.sort()\n",
    "print(a)"
   ]
  },
  {
   "cell_type": "code",
   "execution_count": 225,
   "id": "statutory-istanbul",
   "metadata": {
    "scrolled": true
   },
   "outputs": [
    {
     "name": "stdout",
     "output_type": "stream",
     "text": [
      "[[1 2 3]\n",
      " [4 5 6]]\n",
      "(2, 3)\n"
     ]
    }
   ],
   "source": [
    "#Operaciones entre arrays\n",
    "a= np.array([[1,2,3],\n",
    "           [4,5,6]])\n",
    "print(a)\n",
    "print(a.shape)"
   ]
  },
  {
   "cell_type": "code",
   "execution_count": 226,
   "id": "hispanic-speed",
   "metadata": {
    "scrolled": false
   },
   "outputs": [
    {
     "data": {
      "text/plain": [
       "array([[2, 3, 4],\n",
       "       [5, 6, 7]])"
      ]
     },
     "execution_count": 226,
     "metadata": {},
     "output_type": "execute_result"
    }
   ],
   "source": [
    "a+1"
   ]
  },
  {
   "cell_type": "code",
   "execution_count": 227,
   "id": "cheap-desire",
   "metadata": {
    "scrolled": true
   },
   "outputs": [
    {
     "data": {
      "text/plain": [
       "array([[ 2,  4,  6],\n",
       "       [ 8, 10, 12]])"
      ]
     },
     "execution_count": 227,
     "metadata": {},
     "output_type": "execute_result"
    }
   ],
   "source": [
    "a*2"
   ]
  },
  {
   "cell_type": "markdown",
   "id": "reliable-customer",
   "metadata": {},
   "source": [
    "Usando dos arrays"
   ]
  },
  {
   "cell_type": "code",
   "execution_count": 228,
   "id": "latin-northern",
   "metadata": {},
   "outputs": [],
   "source": [
    "a= np.array([[1,2,3],\n",
    "           [4,5,6]])\n",
    "b= np.array([[2,4,2],\n",
    "           [0,-2,-4]])"
   ]
  },
  {
   "cell_type": "code",
   "execution_count": 229,
   "id": "closing-organization",
   "metadata": {
    "scrolled": true
   },
   "outputs": [
    {
     "name": "stdout",
     "output_type": "stream",
     "text": [
      "[[3 6 5]\n",
      " [4 3 2]]\n"
     ]
    }
   ],
   "source": [
    "print(a+b)"
   ]
  },
  {
   "cell_type": "code",
   "execution_count": 232,
   "id": "vocal-concord",
   "metadata": {},
   "outputs": [
    {
     "name": "stdout",
     "output_type": "stream",
     "text": [
      "[1 2 3]\n",
      "[100   2   3]\n",
      "[100   2   3]\n"
     ]
    }
   ],
   "source": [
    "### apuntando al mismo arreglo\n",
    "a= np.array([1,2,3])\n",
    "b=a[:]\n",
    "print(b)\n",
    "b[0]=100\n",
    "print(b)\n",
    "print(a)"
   ]
  },
  {
   "cell_type": "code",
   "execution_count": 234,
   "id": "advanced-heath",
   "metadata": {},
   "outputs": [
    {
     "name": "stdout",
     "output_type": "stream",
     "text": [
      "[100   2   3]\n",
      "[1 2 3]\n"
     ]
    }
   ],
   "source": [
    "###Copiando arreglos\n",
    "a=np.array([1,2,3])\n",
    "b=a[:].copy() #forzando la copia\n",
    "#print(b)\n",
    "b[0]=100\n",
    "print(b)\n",
    "print(a)"
   ]
  },
  {
   "cell_type": "markdown",
   "id": "inclusive-afghanistan",
   "metadata": {},
   "source": [
    "Referencia\n",
    "\n",
    "https://interactivechaos.com/es/manual/tutorial-de-numpy/"
   ]
  }
 ],
 "metadata": {
  "kernelspec": {
   "display_name": "Python 3",
   "language": "python",
   "name": "python3"
  },
  "language_info": {
   "codemirror_mode": {
    "name": "ipython",
    "version": 3
   },
   "file_extension": ".py",
   "mimetype": "text/x-python",
   "name": "python",
   "nbconvert_exporter": "python",
   "pygments_lexer": "ipython3",
   "version": "3.9.1"
  }
 },
 "nbformat": 4,
 "nbformat_minor": 5
}
