{
 "cells": [
  {
   "cell_type": "markdown",
   "id": "eleven-content",
   "metadata": {},
   "source": [
    "## Variables, tipos de datos y estructuras de control"
   ]
  },
  {
   "cell_type": "markdown",
   "id": "academic-instrument",
   "metadata": {},
   "source": [
    "### Objetivo: Conocer los conceptos de variable, tipos de datos y herramientas de control así como su funcionamiento"
   ]
  },
  {
   "cell_type": "markdown",
   "id": "outdoor-legislature",
   "metadata": {},
   "source": [
    "<p><font size=3>¿Qué es Programación y Codificación?\n",
    "\n",
    "Programación es el proceso de escribir “programas” que una computadora pueda ejecutar produciendo algún resultado (útil). La programación es un proceso de múltiples pasos que implican:   \n",
    "<br>\n",
    "    \n",
    "* Identificar los aspectos de un problema de la vida real que pueda ser resuelto computacionalmente.\n",
    "    \n",
    "* Identificar la (mejor) solución computacional.\n",
    "    \n",
    "* Implementar la solución en un lenguaje de programación específico.\n",
    "    \n",
    "* Testear, validar, y ajustar la solución implementada.\n",
    "    \n",
    "Mientras que “Programar” se refiere a todos los pasos nombrados, “Codificación” se refiere solo al paso 3: “Implementar la solución en un lenguaje de programación específico”.</font></p><br>\n",
    "\n",
    "\n",
    "<img src=\"https://upload.wikimedia.org/wikipedia/commons/f/f8/Python_logo_and_wordmark.svg\">\n",
    "\n",
    "\n"
   ]
  },
  {
   "cell_type": "markdown",
   "id": "blind-retreat",
   "metadata": {},
   "source": [
    "### Python es un lenguaje de programación de tipo general que soporta un desarrollo rápido de aplicaciones de análisis de datos.\n",
    "\n",
    "<p><font size=3>¿Qué es una variable?\n",
    "\n",
    "En programación, una variable es un espacio reservado en la memoria de nuestro ordenador para almacenar un dato que puede ser usado o modificado tantas veces como se desee. Además, las variables deben tener un nombre asociado al dato que almacenan. Es decir, podemos tener una variable llamada Nombre para almacenar el nombre (dato) de una persona, una variable llamada Edad para almacenar la edad (dato), etc.</font></p>\n",
    "\n",
    "<img src=\"https://www.aprendeprogramando.es/images/blockly/variables-y-tipos-de-datos/variables-en-programacion.png\">"
   ]
  },
  {
   "cell_type": "markdown",
   "id": "injured-couple",
   "metadata": {},
   "source": [
    "<p><font size=3>¿Qué es un dato?\n",
    "\n",
    "En programación, un dato es la expresión general que describe las características de las entidades sobre las cuales opera un algoritmo.\n",
    "\n",
    "Tipos de datos básicos\n",
    "\n",
    "<b>Numéricos</b>: En Python los números pueden ser enteros y flotantes.\n",
    "\n",
    "<b>Booleanos</b>: Los tipos de datos booleanos se utilizan para representar verdadero y falso, mediante las palabras reservadas True o False respectivamente. Este tipo de datos es muy importante en para el control de flujo de un programa.\n",
    "\n",
    "<b>Cadenas</b>: Aunque las cadenas no son usualmente importantes para análisis numérico, sí lo son para mostrar resultados por la terminal o shell. Una cadena debe delimitarse con comillas simples o dobles.\n",
    "\n",
    "<b>Listas</b>: Una lista es una colección de objetos: números enteros, flotantes, complejos, cadenas, etc. Una lista se delimita utilizando [] y sus elementos han de separarse con comas. Es posible acceder a sus elementos indicando el índice del elemento deseado.\n",
    "\n",
    "<b>Tuplas</b>: En muchos sentidos una tupla es como una lista pero no se puede modificar después de su creación. Puede ser de elementos del mismo o diferente tipo.\n",
    "\n",
    "<b>Diccionario</b>: Un diccionario se compone de dos partes: una llave (palabra) y un valor (definición). Las llaves siempre deben ser un tipo de dato primitivo. La llave y el valor se separan con : y sus elementos con comas.</font></p>"
   ]
  },
  {
   "cell_type": "code",
   "execution_count": null,
   "id": "becoming-generator",
   "metadata": {
    "scrolled": true
   },
   "outputs": [],
   "source": [
    "numero = 2017\n",
    "decimal = 5.20098876678766678899\n",
    "boleano = True\n",
    "cadena = \"Hola mundo de python 12345\"\n",
    "lista = [\"a\",\"b\",\"c\",10,False]\n",
    "tupla = (19645, 59621, '¡hola python!')\n",
    "diccionario = {\"a\":2, \"b\":14}\n",
    "\n",
    "type(tupla)"
   ]
  },
  {
   "cell_type": "markdown",
   "id": "suspended-basketball",
   "metadata": {},
   "source": [
    "<p><font size=3>Las variables en Python se crean cuando se definen por primera vez, es decir, cuando se les asigna un valor por primera vez. Para asignar un valor a una variable se utiliza el operador de igualdad (=). A la izquierda de la igualdad se escribe el nombre de la variable y a la derecha el valor que se quiere dar a la variable.\n",
    "\n",
    "\n",
    "Aunque no es obligatorio, se recomienda que el nombre de la variable esté relacionado con la información que se almacena en ella, para que sea más fácil entender el programa. Si el programa es trivial o mientras se está escribiendo un programa, esto no parece muy importante, pero si se consulta un programa escrito por otra persona o escrito por uno mismo pero hace tiempo, resultará mucho más fácil entender el programa si los nombres están bien elegidos.\n",
    "\n",
    "\n",
    "El nombre de una variable debe empezar por una letra o por un guion bajo (_) y puede seguir con más letras, números o guiones bajos.\n",
    "\n",
    "Los nombres de variables no pueden incluir espacios en blanco o empezar con un número ni ser palabras reservadas del lenguaje.\n",
    "\n",
    "Los nombres de las variables pueden contener mayúsculas, pero tenga en cuenta que Python distingue entre mayúsculas y minúsculas (en inglés se dice que Python es case-sensitive).\n",
    "\n",
    "Cuando el nombre de una variable contiene varias palabras, se aconseja separarlas con guiones bajos para facilitar la legibilidad, aunque también se utiliza la notación camelCase.\n",
    "</font></p>"
   ]
  },
  {
   "cell_type": "markdown",
   "id": "virgin-yahoo",
   "metadata": {},
   "source": [
    "### Empecemos con datos puros:"
   ]
  },
  {
   "cell_type": "code",
   "execution_count": null,
   "id": "distributed-cincinnati",
   "metadata": {
    "scrolled": true
   },
   "outputs": [],
   "source": [
    "10+54"
   ]
  },
  {
   "cell_type": "code",
   "execution_count": null,
   "id": "legendary-formation",
   "metadata": {
    "scrolled": true
   },
   "outputs": [],
   "source": [
    "6/2"
   ]
  },
  {
   "cell_type": "code",
   "execution_count": null,
   "id": "palestinian-cargo",
   "metadata": {
    "scrolled": true
   },
   "outputs": [],
   "source": [
    "3*5"
   ]
  },
  {
   "cell_type": "code",
   "execution_count": null,
   "id": "prompt-phrase",
   "metadata": {
    "scrolled": false
   },
   "outputs": [],
   "source": [
    "1234-10"
   ]
  },
  {
   "cell_type": "code",
   "execution_count": null,
   "id": "radical-mayor",
   "metadata": {
    "scrolled": true
   },
   "outputs": [],
   "source": [
    "#obtener el área de un circulo\n",
    "#radio 15\n",
    "3.1416 * (15*15)"
   ]
  },
  {
   "cell_type": "code",
   "execution_count": null,
   "id": "occasional-eclipse",
   "metadata": {
    "scrolled": false
   },
   "outputs": [],
   "source": [
    "3.1416 * (15**2)"
   ]
  },
  {
   "cell_type": "code",
   "execution_count": null,
   "id": "sunrise-assist",
   "metadata": {
    "scrolled": true
   },
   "outputs": [],
   "source": [
    "3.1416 * pow(15, 2)"
   ]
  },
  {
   "cell_type": "code",
   "execution_count": null,
   "id": "dental-explorer",
   "metadata": {
    "scrolled": false
   },
   "outputs": [],
   "source": [
    "#Tengo 12 le sumo 10 y a eso le resto 3, el resultado por 5\n",
    "12+10-3*5"
   ]
  },
  {
   "cell_type": "code",
   "execution_count": null,
   "id": "duplicate-clinton",
   "metadata": {
    "scrolled": true
   },
   "outputs": [],
   "source": [
    "#operación organizada por paréntesis\n",
    "((12+10)-3)*5"
   ]
  },
  {
   "cell_type": "markdown",
   "id": "dressed-harrison",
   "metadata": {},
   "source": [
    "Operadores\n",
    "\n"
   ]
  },
  {
   "cell_type": "code",
   "execution_count": null,
   "id": "enclosed-arrangement",
   "metadata": {
    "scrolled": true
   },
   "outputs": [],
   "source": [
    "2 + 2  # Suma"
   ]
  },
  {
   "cell_type": "code",
   "execution_count": null,
   "id": "weighted-massachusetts",
   "metadata": {
    "scrolled": true
   },
   "outputs": [],
   "source": [
    "6 * 7  # Multiplicación"
   ]
  },
  {
   "cell_type": "code",
   "execution_count": null,
   "id": "racial-involvement",
   "metadata": {
    "scrolled": true
   },
   "outputs": [],
   "source": [
    "2 ** 16  # Potencia"
   ]
  },
  {
   "cell_type": "code",
   "execution_count": null,
   "id": "authentic-brooks",
   "metadata": {
    "scrolled": true
   },
   "outputs": [],
   "source": [
    "13 % 5  # Módulo"
   ]
  },
  {
   "cell_type": "code",
   "execution_count": null,
   "id": "progressive-wichita",
   "metadata": {
    "scrolled": true
   },
   "outputs": [],
   "source": [
    "3 < 4"
   ]
  },
  {
   "cell_type": "code",
   "execution_count": null,
   "id": "genuine-figure",
   "metadata": {
    "scrolled": false
   },
   "outputs": [],
   "source": [
    "True and True"
   ]
  },
  {
   "cell_type": "code",
   "execution_count": null,
   "id": "veterinary-spice",
   "metadata": {
    "scrolled": true
   },
   "outputs": [],
   "source": [
    "True or False"
   ]
  },
  {
   "cell_type": "code",
   "execution_count": null,
   "id": "comprehensive-weekend",
   "metadata": {
    "scrolled": true
   },
   "outputs": [],
   "source": [
    "True and False"
   ]
  },
  {
   "cell_type": "markdown",
   "id": "aware-cylinder",
   "metadata": {},
   "source": [
    "Cadenas"
   ]
  },
  {
   "cell_type": "code",
   "execution_count": null,
   "id": "combined-highland",
   "metadata": {
    "scrolled": true
   },
   "outputs": [],
   "source": [
    "text = \"programando en python\"\n",
    "\n",
    "print(text)\n",
    "\n",
    "print(type(text))"
   ]
  },
  {
   "cell_type": "markdown",
   "id": "bored-librarian",
   "metadata": {},
   "source": [
    "Concatenar variables str\n"
   ]
  },
  {
   "cell_type": "code",
   "execution_count": null,
   "id": "reliable-sherman",
   "metadata": {
    "scrolled": true
   },
   "outputs": [],
   "source": [
    "palabra = \"Hola\"\n",
    "segunda_palabra = \"mundo\"\n",
    "mensaje=palabra+\" \"+segunda_palabra\n",
    "\n",
    "print(mensaje)"
   ]
  },
  {
   "cell_type": "code",
   "execution_count": null,
   "id": "encouraging-publicity",
   "metadata": {
    "scrolled": false
   },
   "outputs": [],
   "source": []
  },
  {
   "cell_type": "markdown",
   "id": "assumed-viking",
   "metadata": {},
   "source": [
    "<p><font size=3>\n",
    "Las variables de tipo cadena (str) son objetos.\n",
    "\n",
    "Un objeto es un tipo de dato cuya definición viene dada en una estructura llamada clase.\n",
    "\n",
    "La clase str en Python se utiliza para representar texto, más conocido en el mundo de la programación como string o cadena de caracteres.\n",
    "    \n",
    "Método\n",
    "\n",
    "Un método es una función que «pertenece a» un objeto. En Python, el término método no está limitado a instancias de clase: otros tipos de objetos pueden tener métodos también. Por ejemplo, los objetos lista tienen métodos llamados append, insert, remove, sort, y así sucesivamente.\n",
    "\n",
    "Función\n",
    "    \n",
    "Una función es un conjunto de líneas de código que realizan una tarea específica y puede retornar un valor.\n",
    "</font></p>"
   ]
  },
  {
   "cell_type": "code",
   "execution_count": null,
   "id": "sweet-oracle",
   "metadata": {
    "scrolled": false
   },
   "outputs": [],
   "source": [
    "type (text)"
   ]
  },
  {
   "cell_type": "markdown",
   "id": "caring-massage",
   "metadata": {},
   "source": [
    "<p><font size=3>Métodos comúnmente utlizados de string\n",
    "\n",
    "Convertir a mayúsculas.</font></p>\n"
   ]
  },
  {
   "cell_type": "code",
   "execution_count": null,
   "id": "satisfactory-polish",
   "metadata": {
    "scrolled": false
   },
   "outputs": [],
   "source": [
    "text.upper()"
   ]
  },
  {
   "cell_type": "markdown",
   "id": "allied-waters",
   "metadata": {},
   "source": [
    "<p><font size=3>Convertir a minúsculas.</font></p>"
   ]
  },
  {
   "cell_type": "code",
   "execution_count": null,
   "id": "happy-ocean",
   "metadata": {
    "scrolled": true
   },
   "outputs": [],
   "source": [
    "text.lower()"
   ]
  },
  {
   "cell_type": "markdown",
   "id": "suffering-extraction",
   "metadata": {},
   "source": [
    "<p><font size=3>Cadena con su primera letra en mayúscula</font></p>"
   ]
  },
  {
   "cell_type": "code",
   "execution_count": null,
   "id": "mounted-electric",
   "metadata": {
    "scrolled": true
   },
   "outputs": [],
   "source": [
    "text.capitalize()"
   ]
  },
  {
   "cell_type": "markdown",
   "id": "novel-elephant",
   "metadata": {},
   "source": [
    "<p><font size=3>Texto como título</font></p>"
   ]
  },
  {
   "cell_type": "code",
   "execution_count": null,
   "id": "civil-threat",
   "metadata": {
    "scrolled": false
   },
   "outputs": [],
   "source": [
    "text.title()"
   ]
  },
  {
   "cell_type": "markdown",
   "id": "designing-professional",
   "metadata": {},
   "source": [
    "<p><font size=3>Cadena con los caracteres en mayúsculas convertidos en minúsculas y viceversa</font></p>"
   ]
  },
  {
   "cell_type": "code",
   "execution_count": null,
   "id": "rolled-northern",
   "metadata": {
    "scrolled": true
   },
   "outputs": [],
   "source": [
    "text = \"PROgramando en pyTHON\"\n",
    "\n",
    "text.swapcase()"
   ]
  },
  {
   "cell_type": "markdown",
   "id": "mechanical-providence",
   "metadata": {},
   "source": [
    "<p><font size=3>Cadena reemplazada por una nueva</font></p>"
   ]
  },
  {
   "cell_type": "code",
   "execution_count": null,
   "id": "welsh-missile",
   "metadata": {
    "scrolled": true
   },
   "outputs": [],
   "source": [
    "text.replace(\"en\",\"con\")"
   ]
  },
  {
   "cell_type": "markdown",
   "id": "corporate-belgium",
   "metadata": {},
   "source": [
    "<p><font size=3>¿Cómo quedó el texto al final?</font></p>"
   ]
  },
  {
   "cell_type": "code",
   "execution_count": null,
   "id": "conventional-textbook",
   "metadata": {
    "scrolled": false
   },
   "outputs": [],
   "source": [
    "text=text.lower()\n",
    "print(text)"
   ]
  },
  {
   "cell_type": "code",
   "execution_count": null,
   "id": "superb-protection",
   "metadata": {},
   "outputs": [],
   "source": [
    "print(text)"
   ]
  },
  {
   "cell_type": "markdown",
   "id": "backed-operator",
   "metadata": {},
   "source": [
    "<p><font size=3>Cadena separada en secciones por algún caracter</font></p>"
   ]
  },
  {
   "cell_type": "code",
   "execution_count": null,
   "id": "compound-organization",
   "metadata": {
    "scrolled": false
   },
   "outputs": [],
   "source": [
    "text.split(\" \")"
   ]
  },
  {
   "cell_type": "code",
   "execution_count": null,
   "id": "floppy-municipality",
   "metadata": {
    "scrolled": true
   },
   "outputs": [],
   "source": [
    "nombres = \"Luis,Jose,Maria,Sofia,Miguel\"\n",
    "nombres.split(\",\")\n"
   ]
  },
  {
   "cell_type": "markdown",
   "id": "informational-preview",
   "metadata": {},
   "source": [
    "### Listas"
   ]
  },
  {
   "cell_type": "markdown",
   "id": "grand-clark",
   "metadata": {},
   "source": [
    "<p><font size=3>Las listas en Python son un tipo contenedor, compuesto, que se usan para almacenar conjuntos de elementos relacionados del mismo tipo o de tipos distintos.</font></p>\n",
    "\n",
    "\n",
    "\n",
    "<img src=\"data:image/jpeg;base64,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\">"
   ]
  },
  {
   "cell_type": "code",
   "execution_count": null,
   "id": "micro-tucson",
   "metadata": {
    "scrolled": true
   },
   "outputs": [],
   "source": [
    "numeros = [1, 2, 3, 4, 5, 6, 7, 8, 9, 10]\n"
   ]
  },
  {
   "cell_type": "code",
   "execution_count": null,
   "id": "occasional-opera",
   "metadata": {
    "scrolled": true
   },
   "outputs": [],
   "source": [
    "elementos = [3, 'a', 8, 7.2, 'hola']"
   ]
  },
  {
   "cell_type": "markdown",
   "id": "clinical-sound",
   "metadata": {},
   "source": [
    "<p><font size=3>Ingresando a los elementos de una lista</font></p>"
   ]
  },
  {
   "cell_type": "code",
   "execution_count": null,
   "id": "bridal-cedar",
   "metadata": {
    "scrolled": true
   },
   "outputs": [],
   "source": [
    "letras=['a', 'b', 'd', 'i', 'j']\n",
    "print(letras[1])\n"
   ]
  },
  {
   "cell_type": "markdown",
   "id": "analyzed-arbor",
   "metadata": {},
   "source": [
    "<p><font size=3>Añadir elementos a una lista en Python</font></p>"
   ]
  },
  {
   "cell_type": "code",
   "execution_count": null,
   "id": "aquatic-warner",
   "metadata": {
    "scrolled": true
   },
   "outputs": [],
   "source": [
    "vocales = ['a']\n",
    "vocales.append('e')\n",
    "print (vocales)\n",
    "\n",
    "vocales.extend(['i', 'o', 'u'])\n",
    "print (vocales)\n"
   ]
  },
  {
   "cell_type": "code",
   "execution_count": null,
   "id": "decent-manitoba",
   "metadata": {
    "scrolled": true
   },
   "outputs": [],
   "source": [
    "lista_1 = [1, 2, 3]\n",
    "lista_2 = [4, 5, 6]\n",
    "nueva_lista = lista_1 + lista_2\n",
    "nueva_lista"
   ]
  },
  {
   "cell_type": "code",
   "execution_count": null,
   "id": "recent-renewal",
   "metadata": {
    "scrolled": false
   },
   "outputs": [],
   "source": [
    "vocales = ['a', 'e', 'u']\n",
    "vocales.insert(2, 'i')\n",
    "vocales"
   ]
  },
  {
   "cell_type": "code",
   "execution_count": null,
   "id": "biblical-investigation",
   "metadata": {},
   "outputs": [],
   "source": [
    "mensaje=\"hola mundo\"\n",
    "mensaje[1]"
   ]
  },
  {
   "cell_type": "markdown",
   "id": "dimensional-laugh",
   "metadata": {},
   "source": [
    "<p><font size=3>Modificar elementos de una lista</font></p>"
   ]
  },
  {
   "cell_type": "code",
   "execution_count": null,
   "id": "isolated-suicide",
   "metadata": {
    "scrolled": true
   },
   "outputs": [],
   "source": [
    "vocales = ['o', 'o', 'o', 'o', 'u']\n",
    "vocales[0] = 'a'\n",
    "\n",
    "print (vocales)\n",
    "\n"
   ]
  },
  {
   "cell_type": "markdown",
   "id": "appointed-landscape",
   "metadata": {},
   "source": [
    "<p><font size=3>Eliminar elementos de una lista</font></p>"
   ]
  },
  {
   "cell_type": "code",
   "execution_count": null,
   "id": "worldwide-vacation",
   "metadata": {
    "scrolled": true
   },
   "outputs": [],
   "source": [
    "letras = ['a', 'b', 'k', 'a', 'v']\n",
    "\n",
    "letras.pop(2)\n",
    "\n",
    "letras"
   ]
  },
  {
   "cell_type": "markdown",
   "id": "running-review",
   "metadata": {},
   "source": [
    "<p><font size=3>Borrando una lista</font></p>"
   ]
  },
  {
   "cell_type": "code",
   "execution_count": null,
   "id": "moral-congress",
   "metadata": {
    "scrolled": true
   },
   "outputs": [],
   "source": [
    "letras.clear()"
   ]
  },
  {
   "cell_type": "markdown",
   "id": "enhanced-forty",
   "metadata": {},
   "source": [
    "<p><font size=3>Obteniendo la longitud de una lista</font></p>"
   ]
  },
  {
   "cell_type": "code",
   "execution_count": null,
   "id": "accessible-statistics",
   "metadata": {
    "scrolled": true
   },
   "outputs": [],
   "source": [
    "vocales = ['a', 'e', 'i', 'o', 'u']\n",
    "len(vocales)\n"
   ]
  },
  {
   "cell_type": "markdown",
   "id": "vocal-nerve",
   "metadata": {},
   "source": [
    "<p><font size=3>Saber si un elemento se encuentra dentro de la lista</font></p>"
   ]
  },
  {
   "cell_type": "code",
   "execution_count": null,
   "id": "radio-worst",
   "metadata": {},
   "outputs": [],
   "source": [
    "vocales = ['a', 'e', 'i', 'o', 'u']\n",
    "if 'a' in vocales:\n",
    "    print('Sí')"
   ]
  },
  {
   "cell_type": "code",
   "execution_count": null,
   "id": "following-brave",
   "metadata": {
    "scrolled": true
   },
   "outputs": [],
   "source": [
    "if 'b' not in vocales:\n",
    "    print('No')"
   ]
  },
  {
   "cell_type": "markdown",
   "id": "developed-trigger",
   "metadata": {},
   "source": [
    "Ordenar listas"
   ]
  },
  {
   "cell_type": "code",
   "execution_count": 36,
   "id": "magnetic-faith",
   "metadata": {
    "scrolled": true
   },
   "outputs": [
    {
     "data": {
      "text/plain": [
       "[1, 3, 4, 8, 9, 16, 20]"
      ]
     },
     "execution_count": 36,
     "metadata": {},
     "output_type": "execute_result"
    }
   ],
   "source": [
    "numeros = [16, 4, 9, 1, 3, 20, 8]\n",
    "numeros.sort() #ordenando los elementos de manera ascendente\n",
    "numeros"
   ]
  },
  {
   "cell_type": "code",
   "execution_count": 37,
   "id": "cheap-holiday",
   "metadata": {},
   "outputs": [
    {
     "data": {
      "text/plain": [
       "['avión', 'coche', 'gato', 'hola', 'manzana', 'perro']"
      ]
     },
     "execution_count": 37,
     "metadata": {},
     "output_type": "execute_result"
    }
   ],
   "source": [
    "palabras = [\"hola\", \"coche\", \"avión\", \"manzana\", \"perro\", \"gato\"]\n",
    "palabras.sort()\n",
    "palabras"
   ]
  },
  {
   "cell_type": "code",
   "execution_count": 38,
   "id": "distant-mattress",
   "metadata": {},
   "outputs": [
    {
     "ename": "TypeError",
     "evalue": "'<' not supported between instances of 'str' and 'int'",
     "output_type": "error",
     "traceback": [
      "\u001b[0;31m---------------------------------------------------------------------------\u001b[0m",
      "\u001b[0;31mTypeError\u001b[0m                                 Traceback (most recent call last)",
      "\u001b[0;32m<ipython-input-38-1c9a121908ae>\u001b[0m in \u001b[0;36m<module>\u001b[0;34m\u001b[0m\n\u001b[1;32m      1\u001b[0m \u001b[0mlista\u001b[0m \u001b[0;34m=\u001b[0m \u001b[0;34m[\u001b[0m\u001b[0;36m1\u001b[0m\u001b[0;34m,\u001b[0m \u001b[0;34m\"a\"\u001b[0m\u001b[0;34m,\u001b[0m \u001b[0;36m5\u001b[0m\u001b[0;34m,\u001b[0m \u001b[0;34m\"g\"\u001b[0m\u001b[0;34m,\u001b[0m \u001b[0;36m3\u001b[0m\u001b[0;34m,\u001b[0m \u001b[0;34m\"c\"\u001b[0m\u001b[0;34m]\u001b[0m\u001b[0;34m\u001b[0m\u001b[0;34m\u001b[0m\u001b[0m\n\u001b[0;32m----> 2\u001b[0;31m \u001b[0mlista\u001b[0m\u001b[0;34m.\u001b[0m\u001b[0msort\u001b[0m\u001b[0;34m(\u001b[0m\u001b[0;34m)\u001b[0m\u001b[0;34m\u001b[0m\u001b[0;34m\u001b[0m\u001b[0m\n\u001b[0m",
      "\u001b[0;31mTypeError\u001b[0m: '<' not supported between instances of 'str' and 'int'"
     ]
    }
   ],
   "source": [
    "lista = [1, \"a\", 5, \"g\", 3, \"c\"]\n",
    "lista.sort()"
   ]
  },
  {
   "cell_type": "code",
   "execution_count": 39,
   "id": "common-chess",
   "metadata": {},
   "outputs": [
    {
     "name": "stdout",
     "output_type": "stream",
     "text": [
      "[16, 4, 9, 1, 3, 20, 8]\n",
      "[1, 3, 4, 8, 9, 16, 20]\n"
     ]
    }
   ],
   "source": [
    "numeros = [16, 4, 9, 1, 3, 20, 8]\n",
    "ordenados= sorted(numeros)\n",
    "print (numeros)\n",
    "print (ordenados)\n"
   ]
  },
  {
   "cell_type": "code",
   "execution_count": 42,
   "id": "solved-devon",
   "metadata": {},
   "outputs": [
    {
     "name": "stdout",
     "output_type": "stream",
     "text": [
      "[16, 4, 9, 1, 3, 20, 8]\n",
      "[20, 16, 9, 8, 4, 3, 1]\n"
     ]
    }
   ],
   "source": [
    "numeros = [16, 4, 9, 1, 3, 20, 8]\n",
    "numeros.sort(reverse=True)\n",
    "#print(numeros)\n",
    "\n",
    "numeros = [16, 4, 9, 1, 3, 20, 8]\n",
    "ordenados=sorted(numeros,reverse=True)\n",
    "print(numeros)\n",
    "print(ordenados)\n"
   ]
  },
  {
   "cell_type": "markdown",
   "id": "formal-beast",
   "metadata": {},
   "source": [
    "Contando elementos en una lista\n"
   ]
  },
  {
   "cell_type": "code",
   "execution_count": 48,
   "id": "prompt-olive",
   "metadata": {},
   "outputs": [
    {
     "data": {
      "text/plain": [
       "2"
      ]
     },
     "execution_count": 48,
     "metadata": {},
     "output_type": "execute_result"
    }
   ],
   "source": [
    "lista_palabras=[\"Hola\", \"mundo\", \"mundo\"]\n",
    "\n",
    "#print(lista_palabras.count(\"mundo\"))\n",
    "\n",
    "\n",
    "[\"Hola\", \"Hola\", \"mundo\"].count(\"Hola\")"
   ]
  },
  {
   "cell_type": "markdown",
   "id": "known-positive",
   "metadata": {},
   "source": [
    "#### Tuplas\n",
    "\n",
    "Las tuplas son un tipo de listas inmutables, no pueden modificarse de ningún modo después de su creación."
   ]
  },
  {
   "cell_type": "code",
   "execution_count": 49,
   "id": "perfect-matthew",
   "metadata": {},
   "outputs": [
    {
     "data": {
      "text/plain": [
       "True"
      ]
     },
     "execution_count": 49,
     "metadata": {},
     "output_type": "execute_result"
    }
   ],
   "source": [
    "valores = (\"Python\", True, \"Zope\", 5, True)\n",
    "valores[1]\n"
   ]
  },
  {
   "cell_type": "code",
   "execution_count": 50,
   "id": "ethical-granny",
   "metadata": {
    "scrolled": true
   },
   "outputs": [
    {
     "name": "stdout",
     "output_type": "stream",
     "text": [
      "True -> 2\n"
     ]
    }
   ],
   "source": [
    "print (\"True ->\", valores.count(True))"
   ]
  },
  {
   "cell_type": "code",
   "execution_count": 51,
   "id": "timely-whale",
   "metadata": {
    "scrolled": true
   },
   "outputs": [
    {
     "name": "stdout",
     "output_type": "stream",
     "text": [
      "3\n"
     ]
    }
   ],
   "source": [
    "print (valores.index(5))"
   ]
  },
  {
   "cell_type": "markdown",
   "id": "unlimited-tucson",
   "metadata": {},
   "source": [
    "Convertir a tupla\n"
   ]
  },
  {
   "cell_type": "code",
   "execution_count": 53,
   "id": "downtown-marketplace",
   "metadata": {},
   "outputs": [
    {
     "name": "stdout",
     "output_type": "stream",
     "text": [
      "(12, 'hola', True)\n"
     ]
    }
   ],
   "source": [
    "numero=12\n",
    "palabra=\"hola\"\n",
    "booleano=True\n",
    "tupla_valores=tuple([numero,palabra,booleano])\n",
    "print(tupla_valores)"
   ]
  },
  {
   "cell_type": "code",
   "execution_count": 54,
   "id": "social-tumor",
   "metadata": {},
   "outputs": [
    {
     "ename": "AttributeError",
     "evalue": "'tuple' object has no attribute 'append'",
     "output_type": "error",
     "traceback": [
      "\u001b[0;31m---------------------------------------------------------------------------\u001b[0m",
      "\u001b[0;31mAttributeError\u001b[0m                            Traceback (most recent call last)",
      "\u001b[0;32m<ipython-input-54-4b3eb86c5d02>\u001b[0m in \u001b[0;36m<module>\u001b[0;34m\u001b[0m\n\u001b[0;32m----> 1\u001b[0;31m \u001b[0mtupla_valores\u001b[0m\u001b[0;34m.\u001b[0m\u001b[0mappend\u001b[0m\u001b[0;34m(\u001b[0m\u001b[0;36m100\u001b[0m\u001b[0;34m)\u001b[0m\u001b[0;34m\u001b[0m\u001b[0;34m\u001b[0m\u001b[0m\n\u001b[0m",
      "\u001b[0;31mAttributeError\u001b[0m: 'tuple' object has no attribute 'append'"
     ]
    }
   ],
   "source": [
    "tupla_valores.append(100)"
   ]
  },
  {
   "cell_type": "markdown",
   "id": "bound-stewart",
   "metadata": {},
   "source": [
    "#### Diccionarios\n",
    "\n",
    "Un Diccionario es una estructura de datos y un tipo de dato en Python con características especiales que nos permite almacenar cualquier tipo de valor como enteros, cadenas, listas e incluso otras funciones. Estos diccionarios nos permiten además identificar cada elemento por una clave (Key)."
   ]
  },
  {
   "cell_type": "code",
   "execution_count": null,
   "id": "square-campus",
   "metadata": {},
   "outputs": [],
   "source": [
    "diccionario = {\n",
    "\"clave1\":234,\n",
    "\"clave2\":True,\n",
    "\"clave3\":\"Valor 1\",\n",
    "\"clave4\":[1,2,3,4]\n",
    "}"
   ]
  },
  {
   "cell_type": "code",
   "execution_count": 56,
   "id": "independent-nigeria",
   "metadata": {},
   "outputs": [
    {
     "data": {
      "text/plain": [
       "[1, 2, 3, 4]"
      ]
     },
     "execution_count": 56,
     "metadata": {},
     "output_type": "execute_result"
    }
   ],
   "source": [
    "diccionario['clave4']"
   ]
  },
  {
   "cell_type": "code",
   "execution_count": 57,
   "id": "naval-cameroon",
   "metadata": {
    "scrolled": true
   },
   "outputs": [
    {
     "data": {
      "text/plain": [
       "bool"
      ]
     },
     "execution_count": 57,
     "metadata": {},
     "output_type": "execute_result"
    }
   ],
   "source": [
    "type(diccionario['clave2'])"
   ]
  },
  {
   "cell_type": "markdown",
   "id": "seventh-workstation",
   "metadata": {},
   "source": [
    "Agregando elementos\n"
   ]
  },
  {
   "cell_type": "code",
   "execution_count": 58,
   "id": "unauthorized-burton",
   "metadata": {},
   "outputs": [],
   "source": [
    "##\n",
    "diccionario[\"clave5\"]=4.5"
   ]
  },
  {
   "cell_type": "code",
   "execution_count": 59,
   "id": "forty-macro",
   "metadata": {
    "scrolled": true
   },
   "outputs": [
    {
     "data": {
      "text/plain": [
       "{'clave1': 234,\n",
       " 'clave2': True,\n",
       " 'clave3': 'Valor 1',\n",
       " 'clave4': [1, 2, 3, 4],\n",
       " 'clave5': 4.5}"
      ]
     },
     "execution_count": 59,
     "metadata": {},
     "output_type": "execute_result"
    }
   ],
   "source": [
    "diccionario"
   ]
  },
  {
   "cell_type": "code",
   "execution_count": 60,
   "id": "swedish-consensus",
   "metadata": {},
   "outputs": [],
   "source": [
    "#modificando un valor\n",
    "diccionario[\"clave5\"]=6.0"
   ]
  },
  {
   "cell_type": "code",
   "execution_count": 61,
   "id": "established-roots",
   "metadata": {
    "scrolled": true
   },
   "outputs": [
    {
     "data": {
      "text/plain": [
       "{'clave1': 234,\n",
       " 'clave2': True,\n",
       " 'clave3': 'Valor 1',\n",
       " 'clave4': [1, 2, 3, 4],\n",
       " 'clave5': 6.0}"
      ]
     },
     "execution_count": 61,
     "metadata": {},
     "output_type": "execute_result"
    }
   ],
   "source": [
    "diccionario"
   ]
  },
  {
   "cell_type": "markdown",
   "id": "honey-going",
   "metadata": {},
   "source": [
    "Eliminado elemento de diccionario"
   ]
  },
  {
   "cell_type": "code",
   "execution_count": 62,
   "id": "administrative-coordinator",
   "metadata": {},
   "outputs": [
    {
     "data": {
      "text/plain": [
       "1"
      ]
     },
     "execution_count": 62,
     "metadata": {},
     "output_type": "execute_result"
    }
   ],
   "source": [
    "dic = {'uno': 1, 'dos': 2, 'tres': 3, 'cuatro': 4, 'cinco': 5}\n",
    "dic.pop('uno')"
   ]
  },
  {
   "cell_type": "code",
   "execution_count": 63,
   "id": "driven-wrestling",
   "metadata": {
    "scrolled": false
   },
   "outputs": [],
   "source": [
    "del dic['tres']"
   ]
  },
  {
   "cell_type": "code",
   "execution_count": 64,
   "id": "industrial-guarantee",
   "metadata": {},
   "outputs": [
    {
     "data": {
      "text/plain": [
       "{'dos': 2, 'cuatro': 4, 'cinco': 5}"
      ]
     },
     "execution_count": 64,
     "metadata": {},
     "output_type": "execute_result"
    }
   ],
   "source": [
    "dic"
   ]
  },
  {
   "cell_type": "markdown",
   "id": "pleased-storage",
   "metadata": {},
   "source": [
    "Obteniendo elementos del diccionario"
   ]
  },
  {
   "cell_type": "code",
   "execution_count": 65,
   "id": "increased-perception",
   "metadata": {},
   "outputs": [
    {
     "name": "stdout",
     "output_type": "stream",
     "text": [
      "dict_items([('key1', 'value'), ('key2', 2), ('key3', False)])\n"
     ]
    }
   ],
   "source": [
    "dictionary={\"key1\":\"value\",\"key2\":2, \"key3\":False}\n",
    "print(dictionary.items()) #prints keys and values"
   ]
  },
  {
   "cell_type": "markdown",
   "id": "efficient-discipline",
   "metadata": {},
   "source": [
    "Obteniendo las llaves del diccionario\n"
   ]
  },
  {
   "cell_type": "code",
   "execution_count": 66,
   "id": "informational-rally",
   "metadata": {},
   "outputs": [
    {
     "name": "stdout",
     "output_type": "stream",
     "text": [
      "dict_keys(['key1', 'key2', 'key3'])\n"
     ]
    }
   ],
   "source": [
    "print(dictionary.keys()) #prints keys"
   ]
  },
  {
   "cell_type": "markdown",
   "id": "original-referral",
   "metadata": {},
   "source": [
    "Obteniendo los valores del diccionario\n"
   ]
  },
  {
   "cell_type": "code",
   "execution_count": 67,
   "id": "geographic-print",
   "metadata": {},
   "outputs": [
    {
     "name": "stdout",
     "output_type": "stream",
     "text": [
      "dict_values(['value', 2, False])\n"
     ]
    }
   ],
   "source": [
    "print(dictionary.values()) #prints values"
   ]
  },
  {
   "cell_type": "code",
   "execution_count": 68,
   "id": "chicken-october",
   "metadata": {
    "scrolled": true
   },
   "outputs": [
    {
     "name": "stdout",
     "output_type": "stream",
     "text": [
      "{'one': 1, 'three': 3, 'five': 5, 'two': 2, 'four': 4}\n",
      "[('one', 1), ('two', 2), ('three', 3), ('four', 4), ('five', 5)]\n"
     ]
    }
   ],
   "source": [
    "d = {'one':1,'three':3,'five':5,'two':2,'four':4}\n",
    "a = sorted(d.items(), key=lambda x: x[1])\n",
    "print(d)\n",
    "print(a)"
   ]
  },
  {
   "cell_type": "code",
   "execution_count": 69,
   "id": "voluntary-palmer",
   "metadata": {
    "scrolled": true
   },
   "outputs": [
    {
     "name": "stdout",
     "output_type": "stream",
     "text": [
      "[('five', 5), ('four', 4), ('three', 3), ('two', 2), ('one', 1)]\n"
     ]
    }
   ],
   "source": [
    "c = sorted(d.items(), key=lambda x: x[1], reverse=True)\n",
    "print(c)"
   ]
  },
  {
   "cell_type": "code",
   "execution_count": 70,
   "id": "focused-overall",
   "metadata": {},
   "outputs": [
    {
     "data": {
      "text/plain": [
       "2"
      ]
     },
     "execution_count": 70,
     "metadata": {},
     "output_type": "execute_result"
    }
   ],
   "source": [
    "# longitud del diccionario\n",
    "usuario = {'name': 'Jack', 'age': 26}\n",
    "len(usuario)"
   ]
  },
  {
   "cell_type": "markdown",
   "id": "relative-intelligence",
   "metadata": {},
   "source": [
    "### Estructuras de control"
   ]
  },
  {
   "cell_type": "markdown",
   "id": "alike-catalog",
   "metadata": {},
   "source": [
    "Las estructuras de control if ... elif ... else ... permiten condicionar la ejecución de uno o varios bloques de sentencias al cumplimiento de una o varias condiciones."
   ]
  },
  {
   "cell_type": "markdown",
   "id": "moderate-sugar",
   "metadata": {},
   "source": [
    "Sentencias condicionales: if ...\n",
    "\n",
    "La estructura de control if ... permite que un programa ejecute unas instrucciones cuando se cumplan una condición. En inglés \"if\" significa \"si\" (condición)."
   ]
  },
  {
   "cell_type": "raw",
   "id": "plastic-tuner",
   "metadata": {},
   "source": [
    "if condición:\n",
    "    aquí van las órdenes que se ejecutan si la condición es cierta\n",
    "    y que pueden ocupar varias líneas"
   ]
  },
  {
   "cell_type": "markdown",
   "id": "durable-crown",
   "metadata": {},
   "source": [
    "La ejecución de esta construcción es la siguiente:\n",
    "\n",
    "La condición se evalúa siempre.\n",
    "Si el resultado es True se ejecuta el bloque de sentencias\n",
    "Si el resultado es False no se ejecuta el bloque de sentencias."
   ]
  },
  {
   "cell_type": "code",
   "execution_count": 72,
   "id": "optical-adaptation",
   "metadata": {
    "scrolled": true
   },
   "outputs": [
    {
     "name": "stdout",
     "output_type": "stream",
     "text": [
      "hola\n"
     ]
    }
   ],
   "source": [
    "x = 22\n",
    "if x < 20:\n",
    "    print('x es menor que 20')\n",
    "print(\"hola\")"
   ]
  },
  {
   "cell_type": "code",
   "execution_count": 73,
   "id": "prime-hierarchy",
   "metadata": {},
   "outputs": [],
   "source": [
    "valores = [1, 3, 4, 8]\n",
    "if 5 in valores:\n",
    "    print('está en valores')\n"
   ]
  },
  {
   "cell_type": "markdown",
   "id": "mineral-memory",
   "metadata": {},
   "source": [
    "Sentencia if … else\n",
    "\n",
    "Hay ocasiones en que la sentencia if básica no es suficiente y es necesario ejecutar un conjunto de instrucciones o sentencias cuando la condición se evalúa a False."
   ]
  },
  {
   "cell_type": "code",
   "execution_count": 74,
   "id": "musical-banana",
   "metadata": {},
   "outputs": [
    {
     "name": "stdout",
     "output_type": "stream",
     "text": [
      "número positivo\n"
     ]
    }
   ],
   "source": [
    "numero=5\n",
    "if numero < 0:\n",
    "    print('número negativo')\n",
    "else:\n",
    "    print('número positivo')\n"
   ]
  },
  {
   "cell_type": "markdown",
   "id": "intensive-madison",
   "metadata": {},
   "source": [
    "if … elif … else\n",
    "\n",
    "También es posible que te encuentres situaciones en que una decisión dependa de más de una condición.\n",
    "\n",
    "En estos casos se usa una sentencia if compuesta, cuya estructura es como se indica a continuación:"
   ]
  },
  {
   "cell_type": "code",
   "execution_count": 78,
   "id": "genuine-wholesale",
   "metadata": {},
   "outputs": [
    {
     "name": "stdout",
     "output_type": "stream",
     "text": [
      "el numero es positivo\n"
     ]
    }
   ],
   "source": [
    "numero= 2 \n",
    "\n",
    "if numero < 0:\n",
    "  print(' numero negativo')\n",
    "elif numero==0:\n",
    "  print('el numero es 0')\n",
    "elif numero > 0: \n",
    "  print('el numero es positivo')"
   ]
  },
  {
   "cell_type": "code",
   "execution_count": 81,
   "id": "contemporary-merchant",
   "metadata": {},
   "outputs": [
    {
     "name": "stdout",
     "output_type": "stream",
     "text": [
      "Ha escrito un número negativo\n"
     ]
    }
   ],
   "source": [
    "numero= -2 \n",
    "if numero >= 0:\n",
    "    print(\"Ha escrito un número positivo o cero\")\n",
    "else:\n",
    "    print(\"Ha escrito un número negativo\")"
   ]
  },
  {
   "cell_type": "code",
   "execution_count": 83,
   "id": "neither-economics",
   "metadata": {},
   "outputs": [],
   "source": [
    "x=61\n",
    "if 0 < x:\n",
    "    if x < 10:\n",
    "        print (\"x es un número positivo de un solo dígito.\")"
   ]
  },
  {
   "cell_type": "code",
   "execution_count": 85,
   "id": "sixth-copying",
   "metadata": {},
   "outputs": [],
   "source": [
    "x=20\n",
    "if (x>=0) and (x < 10):\n",
    "    print (\"x es un número positivo de un solo dígito ó cero.\")"
   ]
  },
  {
   "cell_type": "markdown",
   "id": "intensive-sunglasses",
   "metadata": {},
   "source": [
    "### for\n",
    "\n",
    "El bucle for\n",
    "\n",
    "En general, un bucle es una estructura de control que repite un bloque de instrucciones. Un bucle for es un bucle que repite el bloque de instrucciones un número prederminado de veces. El bloque de instrucciones que se repite se suele llamar cuerpo del bucle y cada repetición se suele llamar iteración.\n",
    "\n",
    "La sintaxis de un bucle for es la siguiente:"
   ]
  },
  {
   "cell_type": "markdown",
   "id": "designed-memorabilia",
   "metadata": {},
   "source": [
    "for variable in elemento iterable (lista, cadena, range, etc.):\n",
    "    cuerpo del bucle"
   ]
  },
  {
   "cell_type": "markdown",
   "id": "streaming-invalid",
   "metadata": {},
   "source": [
    "No es necesario definir la variable de control antes del bucle, aunque se puede utilizar como variable de control una variable ya definida en el programa.\n",
    "\n",
    "El cuerpo del bucle se ejecuta tantas veces como elementos tenga el elemento recorrible. Por ejemplo:"
   ]
  },
  {
   "cell_type": "code",
   "execution_count": 86,
   "id": "correct-breach",
   "metadata": {},
   "outputs": [
    {
     "name": "stdout",
     "output_type": "stream",
     "text": [
      "h\n",
      "o\n",
      "l\n",
      "a\n",
      " \n",
      "m\n",
      "u\n",
      "n\n",
      "d\n",
      "o\n"
     ]
    }
   ],
   "source": [
    "mensaje=\"hola mundo\"\n",
    "\n",
    "for letra in mensaje:\n",
    "    print (letra)"
   ]
  },
  {
   "cell_type": "code",
   "execution_count": 89,
   "id": "liberal-keeping",
   "metadata": {
    "scrolled": true
   },
   "outputs": [
    {
     "name": "stdout",
     "output_type": "stream",
     "text": [
      "rojo\n",
      "azul\n",
      "verde\n",
      "hola\n"
     ]
    }
   ],
   "source": [
    "### recorriendo una lista\n",
    "colores=[\"rojo\", \"azul\", \"verde\"]\n",
    "\n",
    "for color in colores:\n",
    "    print (color)\n",
    "print(\"hola\")\n",
    "    \n"
   ]
  },
  {
   "cell_type": "markdown",
   "id": "embedded-choir",
   "metadata": {},
   "source": [
    "Usando rangos\n",
    "\n",
    "La función range() retorna una sucesión de números enteros."
   ]
  },
  {
   "cell_type": "code",
   "execution_count": 90,
   "id": "placed-recycling",
   "metadata": {
    "scrolled": true
   },
   "outputs": [
    {
     "name": "stdout",
     "output_type": "stream",
     "text": [
      "0\n",
      "1\n",
      "2\n",
      "3\n",
      "4\n"
     ]
    }
   ],
   "source": [
    "for i in range(5):\n",
    "    print(i)"
   ]
  },
  {
   "cell_type": "code",
   "execution_count": 92,
   "id": "excess-vietnamese",
   "metadata": {
    "scrolled": true
   },
   "outputs": [
    {
     "name": "stdout",
     "output_type": "stream",
     "text": [
      "5\n",
      "6\n",
      "7\n",
      "8\n",
      "9\n"
     ]
    }
   ],
   "source": [
    "#colocando un inicio\n",
    "for i in range(5,10):\n",
    "    print(i)"
   ]
  },
  {
   "cell_type": "code",
   "execution_count": 93,
   "id": "studied-singing",
   "metadata": {
    "scrolled": true
   },
   "outputs": [
    {
     "name": "stdout",
     "output_type": "stream",
     "text": [
      "2\n",
      "4\n",
      "6\n",
      "8\n"
     ]
    }
   ],
   "source": [
    "#secuencia cada n números\n",
    "for i in range(2,10,2):\n",
    "    print(i)"
   ]
  },
  {
   "cell_type": "code",
   "execution_count": 97,
   "id": "behavioral-portfolio",
   "metadata": {},
   "outputs": [
    {
     "name": "stdout",
     "output_type": "stream",
     "text": [
      "0\n",
      "-3\n",
      "-6\n",
      "-9\n"
     ]
    }
   ],
   "source": [
    "for i in range(0,-10,-3):\n",
    "    print(i)"
   ]
  },
  {
   "cell_type": "code",
   "execution_count": 100,
   "id": "empty-modem",
   "metadata": {},
   "outputs": [
    {
     "name": "stdout",
     "output_type": "stream",
     "text": [
      "0 h\n",
      "1 o\n",
      "2 l\n",
      "3 a\n",
      "4  \n",
      "5 m\n",
      "6 u\n",
      "7 n\n",
      "8 d\n",
      "9 o\n"
     ]
    }
   ],
   "source": [
    "### accediendo a un string por posición\n",
    "mensaje=\"hola mundo\"\n",
    "#print(len(mensaje))\n",
    "for pos_letra in range(len(mensaje)):\n",
    "    print(pos_letra,mensaje[pos_letra])"
   ]
  },
  {
   "cell_type": "markdown",
   "id": "official-branch",
   "metadata": {},
   "source": [
    "Recorriendo al revés un string"
   ]
  },
  {
   "cell_type": "code",
   "execution_count": null,
   "id": "female-sweet",
   "metadata": {},
   "outputs": [],
   "source": [
    "frase=\"Controlar la complejidad es la esencia de la programación.\"\n",
    "\n",
    "for pos_letra in range(len(frase)-1,-1,-1):\n",
    "    print(pos_letra,frase[pos_letra])"
   ]
  },
  {
   "cell_type": "code",
   "execution_count": null,
   "id": "geological-holmes",
   "metadata": {},
   "outputs": [],
   "source": [
    "#contando la vocal a en la frase"
   ]
  },
  {
   "cell_type": "code",
   "execution_count": null,
   "id": "painful-warning",
   "metadata": {
    "scrolled": true
   },
   "outputs": [],
   "source": [
    "print(frase.count('a'))"
   ]
  },
  {
   "cell_type": "code",
   "execution_count": null,
   "id": "pursuant-killing",
   "metadata": {},
   "outputs": [],
   "source": [
    "#conocer si hay un número dentro del string\n",
    "frase=\"Controlar la complejidad 5 es la esencia de la programación.\"\n",
    "\n",
    "numero=None\n",
    "for letra in frase:\n",
    "    if letra.isnumeric():\n",
    "        numero=letra\n",
    "        \n",
    "\n",
    "if numero!=None:\n",
    "    print (numero)\n",
    "    "
   ]
  },
  {
   "cell_type": "markdown",
   "id": "sophisticated-comedy",
   "metadata": {},
   "source": [
    "### Ciclo while\n",
    "\n",
    "El ciclo while nos permite realizar múltiples iteraciones basándonos en el resultado de una expresión lógica que puede tener como resultado un valor True o False.\n"
   ]
  },
  {
   "cell_type": "markdown",
   "id": "patient-scheme",
   "metadata": {},
   "source": [
    "Imprimiendo del 1 al 10"
   ]
  },
  {
   "cell_type": "code",
   "execution_count": null,
   "id": "tutorial-local",
   "metadata": {
    "scrolled": false
   },
   "outputs": [],
   "source": [
    "numero=1\n",
    "while(numero <=10):\n",
    "    print (numero)"
   ]
  },
  {
   "cell_type": "code",
   "execution_count": null,
   "id": "worthy-geography",
   "metadata": {},
   "outputs": [],
   "source": [
    "numero=1\n",
    "while(numero <=10):\n",
    "    print (numero)\n",
    "    numero=numero+1"
   ]
  },
  {
   "cell_type": "code",
   "execution_count": null,
   "id": "deadly-contamination",
   "metadata": {},
   "outputs": [],
   "source": [
    "#verifica tus signos\n",
    "numero=1\n",
    "while(numero >10):\n",
    "    print (numero)\n",
    "    numero=numero+1"
   ]
  },
  {
   "cell_type": "code",
   "execution_count": null,
   "id": "external-vehicle",
   "metadata": {},
   "outputs": [],
   "source": [
    "numero=1\n",
    "while(numero<10):\n",
    "    print (numero)\n",
    "    numero=numero-1"
   ]
  },
  {
   "cell_type": "code",
   "execution_count": null,
   "id": "advanced-taiwan",
   "metadata": {},
   "outputs": [],
   "source": [
    "## Programa para sumar los primeros 10 nums\n",
    "\n",
    "n = 10\n",
    "\n",
    "suma = 0\n",
    "i = 1\n",
    "\n",
    "while i <= n:\n",
    "    suma = suma + i\n",
    "    i = i+1   \n",
    "\n",
    "# imprimir suma\n",
    "print(\"La suma es \"+ str(suma))\n"
   ]
  },
  {
   "cell_type": "markdown",
   "id": "geological-shuttle",
   "metadata": {},
   "source": [
    "### Imprimir con formato\n",
    "\n",
    "Python usa un estilo de formato de cadenas parecido a C para crear nuevas cadenas de texto. El operador \"%\" es usado para dar este formato y fijar las variables encerradas en una \"tupla\" (una lista inmutable la cual no puede ser reasignada) juntos con una cadena con formato, que contiene el texto normal junto con \"argumentos especificados\", como los símbolos especiales \"%s\" y \"%d\"."
   ]
  },
  {
   "cell_type": "code",
   "execution_count": null,
   "id": "attractive-marble",
   "metadata": {},
   "outputs": [],
   "source": [
    "# Esto imprime \"Hola, Juan!\"\n",
    "nombre = \"Juan\"\n",
    "print(\"Hola, %s!\" % nombre)"
   ]
  },
  {
   "cell_type": "code",
   "execution_count": null,
   "id": "driven-validity",
   "metadata": {},
   "outputs": [],
   "source": [
    "# Esto imprime \"John is 23 years old.\"\n",
    "nombre = \"John\"\n",
    "edad = 23\n",
    "print(\"%s tiene %d años.\" % (nombre, edad))"
   ]
  },
  {
   "cell_type": "code",
   "execution_count": null,
   "id": "seasonal-issue",
   "metadata": {},
   "outputs": [],
   "source": [
    "# Esto muestra lo siguiente: Una Lista: [1, 2, 3]\n",
    "lista = [1,2,3]\n",
    "print(\"Una lista: %s\" % milista)"
   ]
  },
  {
   "cell_type": "markdown",
   "id": "wireless-creek",
   "metadata": {},
   "source": [
    "%s - Cadena (O cualquier objeto, como los números al representarlos en una cadena de texto)\n",
    "\n",
    "%d - Enteros\n",
    "\n",
    "%f - Números de punto flotante\n",
    "\n",
    "%.<numero de digitos>f - Números de punto flotante con una cantidad de números fijos a la derecha del punto.\n"
   ]
  },
  {
   "cell_type": "markdown",
   "id": "engaging-egyptian",
   "metadata": {},
   "source": [
    "Usando el método format\n",
    "\n",
    "Para usar el método format podemos hacer lo siguiente:"
   ]
  },
  {
   "cell_type": "code",
   "execution_count": null,
   "id": "junior-security",
   "metadata": {},
   "outputs": [],
   "source": [
    "    nombre = \"luis\"\n",
    "fecha = \"10/10/2010\"\n",
    "lugar = \"la Luna\"\n",
    " \n",
    "texto = \"{nombre} parece estar en {lugar} desde {fecha}\"\n",
    " \n",
    "print(texto.format(nombre=nombre, lugar=lugar, fecha=fecha))"
   ]
  },
  {
   "cell_type": "code",
   "execution_count": null,
   "id": "associate-oasis",
   "metadata": {},
   "outputs": [],
   "source": [
    "texto = \"Tengo{anyos: d} años.\"\n",
    " \n",
    "print(texto.format(anyos=22))"
   ]
  },
  {
   "cell_type": "markdown",
   "id": "thirty-dimension",
   "metadata": {},
   "source": [
    "Cadenas \"f\"\n",
    "\n",
    "En Python 3.6 se añadió (PEP 498) una nueva notación para cadenas llamada cadenas \"f\", que simplifica la inserción de variables y expresiones en las cadenas. Una cadena \"f\" contiene variables y expresiones entre llaves ({}) que se sustituyen directamente por su valor. Las cadenas \"f\" se reconocen porque comienzan por una letra f antes de las comillas de apertura."
   ]
  },
  {
   "cell_type": "code",
   "execution_count": null,
   "id": "formal-power",
   "metadata": {},
   "outputs": [],
   "source": [
    "nombre = \"Pepe\"\n",
    "edad = 25\n",
    "print(f\"Me llamo {nombre} y tengo {edad} años.\")"
   ]
  },
  {
   "cell_type": "code",
   "execution_count": null,
   "id": "selected-fight",
   "metadata": {},
   "outputs": [],
   "source": [
    "semanas = 4\n",
    "print(f\"En {semanas} semanas hay {7 * semanas} días.\")"
   ]
  },
  {
   "cell_type": "markdown",
   "id": "adapted-scottish",
   "metadata": {},
   "source": [
    "#### Instrucción break\n",
    "\n",
    "En Python, la instrucción break le proporciona la oportunidad de cerrar un bucle cuando se activa una condición externa. Debe poner la instrucción break dentro del bloque de código bajo la instrucción de su bucle, generalmente después de una instrucción if condicional.\n",
    "\n",
    "Veamos un ejemplo en el que se utiliza la instrucción break en un bucle for:"
   ]
  },
  {
   "cell_type": "code",
   "execution_count": null,
   "id": "congressional-carter",
   "metadata": {
    "scrolled": true
   },
   "outputs": [],
   "source": [
    "number = 0\n",
    "\n",
    "for number in range(10):\n",
    "    if number == 5:\n",
    "        break    # break here\n",
    "\n",
    "    print('Number is ' + str(number))\n",
    "\n",
    "print('Out of loop')"
   ]
  },
  {
   "cell_type": "markdown",
   "id": "colored-fitting",
   "metadata": {},
   "source": [
    "#### Instrucción continue\n",
    "\n",
    "La instrucción continue da la opción de omitir la parte de un bucle en la que se activa una condición externa, pero continuar para completar el resto del bucle. Es decir, la iteración actual del bucle se interrumpirá, pero el programa volverá a la parte superior del bucle.\n",
    "\n",
    "La instrucción continue se encuentra dentro del bloque de código abajo de la instrucción del bucle, generalmente después de una instrucción if condicional.\n",
    "\n",
    "Usando el mismo programa de bucle for que en la sección anterior Instrucción break, emplearemos la instrucción continue en vez de la instrucción break:"
   ]
  },
  {
   "cell_type": "code",
   "execution_count": null,
   "id": "experimental-proposal",
   "metadata": {},
   "outputs": [],
   "source": [
    "number = 0\n",
    "\n",
    "for number in range(10):\n",
    "    if number == 5:\n",
    "        continue    # continue here\n",
    "\n",
    "    print('Number is ' + str(number))\n",
    "\n",
    "print('Out of loop')"
   ]
  },
  {
   "cell_type": "markdown",
   "id": "proud-jewel",
   "metadata": {},
   "source": [
    "#### Instrucción Pass\n",
    "\n",
    "Cuando se activa una condición externa, la instrucción pass permite manejar la condición sin que el bucle se vea afectado de ninguna manera; todo el código continuará leyéndose a menos que se produzca la instrucción break u otra instrucción.\n",
    "\n",
    "Igual que con las demás instrucciones, la instrucción pass se encuentra dentro del bloque de código abajo de la instrucción del bucle, normalmente después de una instrucción if condicional.\n",
    "\n",
    "Usando el mismo bloque de código que antes, sustituiremos la instrucción break o continue con una instrucción pass:"
   ]
  },
  {
   "cell_type": "code",
   "execution_count": null,
   "id": "exclusive-national",
   "metadata": {},
   "outputs": [],
   "source": [
    "number = 0\n",
    "\n",
    "for number in range(10):\n",
    "    if number == 5:\n",
    "        pass    # pass here\n",
    "\n",
    "    print('Number is ' + str(number))\n",
    "\n",
    "print('Out of loop')"
   ]
  },
  {
   "cell_type": "markdown",
   "id": "indoor-litigation",
   "metadata": {},
   "source": [
    "La instrucción pass que se produce después de la instrucción condicional if le indica al programa que continúe ejecutando el bucle e ignore el hecho de que la variable number se evalúa como equivalente a 5 durante una de sus iteraciones.\n",
    "\n",
    "Pass (nulo), no sucede nada cuando se ejecuta. Se utiliza cuando se requiere una declaración, pero no queremos ejecutar código. O se utiliza en lugares donde se asignara código, pero todavía no se va a colocar."
   ]
  },
  {
   "cell_type": "markdown",
   "id": "endangered-rebound",
   "metadata": {},
   "source": [
    "### Exception\n",
    "\n",
    "Aun cuando una sentencia o expresión sea sintácticamente correcta, puede causar un error al intentar ejecutarla. Los errores que se detectan en la ejecución se llaman excepciones pronto va a aprender a gestionarlos desde programas en Python. Las excepciones no capturadas causan mensajes de error como el siguiente:\n"
   ]
  },
  {
   "cell_type": "code",
   "execution_count": null,
   "id": "nuclear-fleece",
   "metadata": {
    "scrolled": true
   },
   "outputs": [],
   "source": [
    "10 * (1/0)"
   ]
  },
  {
   "cell_type": "code",
   "execution_count": null,
   "id": "removable-arbitration",
   "metadata": {},
   "outputs": [],
   "source": [
    "while True:\n",
    "    try:\n",
    "        x = int(input(\"Please enter a number: \"))\n",
    "        break\n",
    "    except ValueError:\n",
    "        print(\"Oops!  That was no valid number.  Try again...\")"
   ]
  },
  {
   "cell_type": "code",
   "execution_count": null,
   "id": "deluxe-connecticut",
   "metadata": {},
   "outputs": [],
   "source": [
    "try:\n",
    "    numero = int(input('Introducir un número: '))\n",
    "    factorial = 1\n",
    "    for num in range(1, numero+1):\n",
    "        factorial *= num\n",
    "\n",
    "    print(factorial) \n",
    "\n",
    "except:\n",
    "    print('Debe introducir un número entero') "
   ]
  },
  {
   "cell_type": "markdown",
   "id": "subjective-solid",
   "metadata": {},
   "source": [
    "https://www.aprendeprogramando.es/cursos-online/blockly/variables-y-tipos-de-datos/que-es-una-variable\n",
    "\n",
    "https://www.programoergosum.com/cursos-online/raspberry-pi/244-iniciacion-a-python-en-raspberry-pi/tipos-de-datos\n",
    "\n",
    "https://j2logo.com/python/tutorial/tipo-list-python/#list-clase"
   ]
  }
 ],
 "metadata": {
  "kernelspec": {
   "display_name": "Python 3",
   "language": "python",
   "name": "python3"
  },
  "language_info": {
   "codemirror_mode": {
    "name": "ipython",
    "version": 3
   },
   "file_extension": ".py",
   "mimetype": "text/x-python",
   "name": "python",
   "nbconvert_exporter": "python",
   "pygments_lexer": "ipython3",
   "version": "3.9.1"
  }
 },
 "nbformat": 4,
 "nbformat_minor": 5
}
