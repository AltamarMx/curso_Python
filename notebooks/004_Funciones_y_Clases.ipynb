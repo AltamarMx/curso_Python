{
 "cells": [
  {
   "cell_type": "markdown",
   "id": "dutch-stephen",
   "metadata": {},
   "source": [
    "### Funciones\n",
    "\n",
    "Las funciones en Python, y en cualquier lenguaje de programación, son estructuras esenciales de código. Una función es un grupo de instrucciones que constituyen una unidad lógica del programa y resuelven un problema muy concreto.\n",
    "\n",
    "Tienen doble objetivo:\n",
    "\n",
    "* Dividir y organizar el código en partes más sencillas.\n",
    "\n",
    "* Encapsular el código que se repite a lo largo de un programa para ser reutilizado.\n",
    "\n",
    "Definiendo una función\n",
    "\n",
    "Para definir una función en Python se utiliza la palabra reservada def. A continuación viene el nombre o identificador de la función que es el que se utiliza para invocarla. Después del nombre hay que incluir los paréntesis y una lista opcional de parámetros. Por último, la cabecera o definición de la función termina con dos puntos."
   ]
  },
  {
   "cell_type": "code",
   "execution_count": 5,
   "id": "patient-antibody",
   "metadata": {},
   "outputs": [
    {
     "name": "stdout",
     "output_type": "stream",
     "text": [
      "15\n"
     ]
    }
   ],
   "source": [
    "def sumar():#declaración de la función\n",
    "    print (5 + 10)#instrucciones que realiza la función\n",
    "\n",
    "sumar()#llamado a la función\n"
   ]
  },
  {
   "cell_type": "code",
   "execution_count": 6,
   "id": "blessed-insulation",
   "metadata": {},
   "outputs": [
    {
     "name": "stdout",
     "output_type": "stream",
     "text": [
      "25\n"
     ]
    }
   ],
   "source": [
    "# Con parámetros\n",
    "def sumar(number1, number2):\n",
    "    print (number1 + number2)\n",
    "\n",
    "sumar(10, 15) # 25"
   ]
  },
  {
   "cell_type": "code",
   "execution_count": 10,
   "id": "variable-cassette",
   "metadata": {},
   "outputs": [
    {
     "name": "stdout",
     "output_type": "stream",
     "text": [
      "x 5\n",
      "y 3\n",
      "La media de 5 y 3 es: 4.0\n"
     ]
    }
   ],
   "source": [
    "def obtener_media(x, y):\n",
    "    print(x)\n",
    "    print(y)\n",
    "    media = (x + y) / 2\n",
    "    print(f\"La media de {x} y {y} es: {media}\")\n",
    "\n",
    "x = 3\n",
    "y = 5\n",
    "obtener_media(x, y)"
   ]
  },
  {
   "cell_type": "markdown",
   "id": "conventional-logic",
   "metadata": {},
   "source": [
    "<img src=\"https://naps.com.mx/blog/wp-content/uploads/2020/06/Funciones-en-Python.-Estructura-de-una-funci%C3%B3n.png\">"
   ]
  },
  {
   "cell_type": "markdown",
   "id": "improving-acrylic",
   "metadata": {},
   "source": [
    "También podemos pone un valor por default en los argumentos de una función por ejemplo:"
   ]
  },
  {
   "cell_type": "code",
   "execution_count": 11,
   "id": "surrounded-hacker",
   "metadata": {},
   "outputs": [
    {
     "name": "stdout",
     "output_type": "stream",
     "text": [
      "25\n",
      "30\n"
     ]
    }
   ],
   "source": [
    "# Con un valor default\n",
    "def sumar(number1, number2=20):\n",
    "    print (number1 + number2)\n",
    "\n",
    "sumar(10, 15) # 25\n",
    "sumar(10) # 30"
   ]
  },
  {
   "cell_type": "code",
   "execution_count": 14,
   "id": "ruled-custody",
   "metadata": {},
   "outputs": [
    {
     "name": "stdout",
     "output_type": "stream",
     "text": [
      "10.0\n",
      "20.0\n"
     ]
    }
   ],
   "source": [
    "# Retornando valor\n",
    "def dividir (dividendo, divisor=2):\n",
    "    resultado = dividendo/divisor\n",
    "    return resultado\n",
    "\n",
    "cuarto = dividir(40,4)\n",
    "\n",
    "mitad = dividir(40)\n",
    "\n",
    "print (cuarto)\n",
    "print (mitad)"
   ]
  },
  {
   "cell_type": "code",
   "execution_count": 16,
   "id": "seeing-princess",
   "metadata": {
    "scrolled": true
   },
   "outputs": [
    {
     "name": "stdout",
     "output_type": "stream",
     "text": [
      "25\n",
      "125\n",
      "(9, 27)\n"
     ]
    }
   ],
   "source": [
    "##retornando multiples valores\n",
    "def convertir_cuadrado_cubo (n):\n",
    "    cuadrado = n ** 2\n",
    "    cubo = n ** 3\n",
    "    return cuadrado, cubo\n",
    " \n",
    " \n",
    "#print (convertir_cuadrado_cubo(5))\n",
    "c2, c3 = convertir_cuadrado_cubo(5)\n",
    "print (c2)\n",
    "print (c3)\n",
    "\n",
    " \n",
    "tupla = convertir_cuadrado_cubo(3)\n",
    "print (tupla)"
   ]
  },
  {
   "cell_type": "code",
   "execution_count": 20,
   "id": "assumed-dispute",
   "metadata": {},
   "outputs": [
    {
     "name": "stdout",
     "output_type": "stream",
     "text": [
      "8 / 4 = 2\n",
      "8 - 4 = 4\n",
      "8 + 4 = 12\n",
      "8 * 4 = 32\n"
     ]
    }
   ],
   "source": [
    "# Calculadora sencilla\n",
    "def sumar(x,y):\n",
    "    return x+y\n",
    "     \n",
    "def restar(x,y):\n",
    "    return x-y\n",
    "     \n",
    "def multiplicar(x,y):\n",
    "    return x*y\n",
    "     \n",
    "def dividir(x,y):\n",
    "    return x/y\n",
    " \n",
    "x = 8\n",
    "y = 4\n",
    "\n",
    "print ('%d / %d = %d' % (x, y, dividir(x, y)))\n",
    "print ('%d - %d = %d' % (x, y, restar(x, y)))\n",
    "print ('%d + %d = %d' % (x, y, sumar(x, y)))\n",
    "print ('%d * %d = %d' % (x, y, multiplicar(x, y)))\n"
   ]
  },
  {
   "cell_type": "markdown",
   "id": "satisfied-girlfriend",
   "metadata": {},
   "source": [
    "Ejercicio\n",
    "\n",
    "Validar email si contiene @."
   ]
  },
  {
   "cell_type": "code",
   "execution_count": 22,
   "id": "iraqi-trout",
   "metadata": {},
   "outputs": [
    {
     "name": "stdout",
     "output_type": "stream",
     "text": [
      "Tu email: Kevin-ier.unam.mx\n",
      "Dirección inválida\n"
     ]
    }
   ],
   "source": [
    "def validar_email(email):\n",
    "    caracter_buscado=\"@\"\n",
    "    email_valido=False\n",
    "    for c in email:\n",
    "        if c==caracter_buscado:\n",
    "            return True\n",
    "    return False\n",
    "\n",
    " \n",
    "direccion_email=input(\"Tu email: \")\n",
    "if validar_email(direccion_email):\n",
    "    print(\"Dirección válida\")\n",
    "else:\n",
    "    print(\"Dirección inválida\")\n"
   ]
  },
  {
   "cell_type": "code",
   "execution_count": 23,
   "id": "curious-pixel",
   "metadata": {},
   "outputs": [
    {
     "name": "stdout",
     "output_type": "stream",
     "text": [
      "freezing point of water: 0.0 C\n",
      "boiling point of water: 100.0 C\n"
     ]
    }
   ],
   "source": [
    "def fahr_to_celsius(temp):\n",
    "    return ((temp - 32) * (5/9))\n",
    "\n",
    "print('freezing point of water:', fahr_to_celsius(32), 'C')\n",
    "print('boiling point of water:', fahr_to_celsius(212), 'C')"
   ]
  },
  {
   "cell_type": "code",
   "execution_count": 24,
   "id": "strange-radar",
   "metadata": {},
   "outputs": [
    {
     "name": "stdout",
     "output_type": "stream",
     "text": [
      "0.5\n"
     ]
    }
   ],
   "source": [
    "##Obtener el contenido de at en una secuencia de dna\n",
    "def get_at_content(dna):\n",
    "    length = len(dna)\n",
    "    a_count = dna.upper().count('A')\n",
    "    t_count = dna.upper().count('T')\n",
    "    at_content = (a_count + t_count) / length\n",
    "    return at_content\n",
    "\n",
    "sequence = \"ACTGATCGATCG\"\n",
    "print(get_at_content(sequence))"
   ]
  },
  {
   "cell_type": "code",
   "execution_count": 25,
   "id": "radical-cornell",
   "metadata": {},
   "outputs": [
    {
     "name": "stdout",
     "output_type": "stream",
     "text": [
      "0.5\n",
      "0.625\n",
      "0.6666666666666666\n"
     ]
    }
   ],
   "source": [
    "#Obtener el contenido de at en una secuencia de dna a partir de una lista de valores\n",
    "def get_at_content(dna):\n",
    "    length = len(dna)\n",
    "    a_count = dna.upper().count('A')\n",
    "    t_count = dna.upper().count('T')\n",
    "    at_content = (a_count + t_count) / length\n",
    "    return at_content\n",
    "\n",
    "list_dna=[\"ACTGATCGATCG\",\"AaaCTGATttCGATCG\",\"CTGATttaattaCGATCG\"]\n",
    "\n",
    "for sequence in list_dna:\n",
    "    print(get_at_content(sequence))\n"
   ]
  },
  {
   "cell_type": "code",
   "execution_count": 26,
   "id": "flush-depth",
   "metadata": {},
   "outputs": [
    {
     "name": "stdout",
     "output_type": "stream",
     "text": [
      "25.0\n"
     ]
    }
   ],
   "source": [
    "#calcular área de un triangulo\n",
    "\n",
    "def calcular_area(base,altura):\n",
    "    return (base*altura)/2\n",
    "\n",
    "print(calcular_area(10,5))\n"
   ]
  },
  {
   "cell_type": "markdown",
   "id": "dominant-controversy",
   "metadata": {},
   "source": [
    "### Alcance de variables en funciones"
   ]
  },
  {
   "cell_type": "code",
   "execution_count": 28,
   "id": "senior-contract",
   "metadata": {},
   "outputs": [
    {
     "name": "stdout",
     "output_type": "stream",
     "text": [
      "9\n"
     ]
    },
    {
     "ename": "NameError",
     "evalue": "name 'num_a' is not defined",
     "output_type": "error",
     "traceback": [
      "\u001b[0;31m---------------------------------------------------------------------------\u001b[0m",
      "\u001b[0;31mNameError\u001b[0m                                 Traceback (most recent call last)",
      "\u001b[0;32m<ipython-input-28-2acdb241d309>\u001b[0m in \u001b[0;36m<module>\u001b[0;34m\u001b[0m\n\u001b[1;32m      5\u001b[0m \u001b[0mprint\u001b[0m\u001b[0;34m(\u001b[0m\u001b[0msuma\u001b[0m\u001b[0;34m)\u001b[0m\u001b[0;34m\u001b[0m\u001b[0;34m\u001b[0m\u001b[0m\n\u001b[1;32m      6\u001b[0m \u001b[0;34m\u001b[0m\u001b[0m\n\u001b[0;32m----> 7\u001b[0;31m \u001b[0mprint\u001b[0m\u001b[0;34m(\u001b[0m\u001b[0mnum_a\u001b[0m\u001b[0;34m)\u001b[0m\u001b[0;34m\u001b[0m\u001b[0;34m\u001b[0m\u001b[0m\n\u001b[0m\u001b[1;32m      8\u001b[0m \u001b[0mprint\u001b[0m\u001b[0;34m(\u001b[0m\u001b[0mnum_b\u001b[0m\u001b[0;34m)\u001b[0m\u001b[0;34m\u001b[0m\u001b[0;34m\u001b[0m\u001b[0m\n",
      "\u001b[0;31mNameError\u001b[0m: name 'num_a' is not defined"
     ]
    }
   ],
   "source": [
    "def sumar(num_a,num_b):\n",
    "    return num_a+num_b\n",
    "\n",
    "suma=sumar(4,5)\n",
    "print(suma)\n",
    "\n",
    "#print(num_a)\n",
    "#print(num_b)"
   ]
  },
  {
   "cell_type": "code",
   "execution_count": 32,
   "id": "proud-germany",
   "metadata": {},
   "outputs": [
    {
     "name": "stdout",
     "output_type": "stream",
     "text": [
      "-2\n",
      "4\n"
     ]
    }
   ],
   "source": [
    "def restar(num_a,num_b):\n",
    "    num_a=num_a-1\n",
    "    return num_a-num_b\n",
    "\n",
    "num_a=4\n",
    "num_b=5\n",
    "restar=restar(num_a,num_b)\n",
    "print(restar)\n",
    "\n",
    "print (num_a)"
   ]
  },
  {
   "cell_type": "markdown",
   "id": "cubic-arrangement",
   "metadata": {},
   "source": [
    "Declarar primero la función y después llamarla, no al revés"
   ]
  },
  {
   "cell_type": "code",
   "execution_count": 34,
   "id": "wrapped-george",
   "metadata": {},
   "outputs": [
    {
     "name": "stdout",
     "output_type": "stream",
     "text": [
      "Leyendo\n"
     ]
    }
   ],
   "source": [
    "\n",
    "\n",
    "def leer():\n",
    "    print(\"Leyendo\")\n",
    "    \n",
    "\n",
    "leer()\n"
   ]
  },
  {
   "cell_type": "markdown",
   "id": "funny-quantity",
   "metadata": {},
   "source": [
    "### Declarando una variable global"
   ]
  },
  {
   "cell_type": "code",
   "execution_count": 35,
   "id": "typical-detector",
   "metadata": {},
   "outputs": [
    {
     "name": "stdout",
     "output_type": "stream",
     "text": [
      "x inside: global\n",
      "x outside: global\n"
     ]
    }
   ],
   "source": [
    "x = \"global\"\n",
    "\n",
    "def foo():\n",
    "    print(\"x inside:\", x)\n",
    "\n",
    "\n",
    "foo()\n",
    "print(\"x outside:\", x)"
   ]
  },
  {
   "cell_type": "markdown",
   "id": "removable-commodity",
   "metadata": {},
   "source": [
    "Usando una variable local y una global en el mismo código"
   ]
  },
  {
   "cell_type": "code",
   "execution_count": 38,
   "id": "therapeutic-smell",
   "metadata": {
    "scrolled": true
   },
   "outputs": [
    {
     "name": "stdout",
     "output_type": "stream",
     "text": [
      "6\n",
      "local\n"
     ]
    }
   ],
   "source": [
    "x = 3\n",
    "\n",
    "def foo():\n",
    "    global x\n",
    "    \n",
    "    y = \"local\"\n",
    "    x = x * 2\n",
    "    print(x)\n",
    "    print(y)\n",
    "\n",
    "foo()"
   ]
  },
  {
   "cell_type": "markdown",
   "id": "remarkable-sacramento",
   "metadata": {},
   "source": [
    "### Programación orientada a objetos\n",
    "\n",
    "Filosofía\n",
    "\n",
    "El paradigma de la programación orientada a objetos es la implementación del pensamiento orientado a objetos en la programación.\n",
    "\n",
    "POO nos dice:\n",
    "\n",
    "    Pensar todo en términos de objetos.\n",
    "    Representar los objetos de la forma más cercana a cómo expresamos las cosas en la vida real.\n",
    "    Dar prioridad a los objetos y no a la funcionalidad.\n",
    "    Pensar en el propósito general del programa como un todo antes de subdividirlo.\n",
    "    Los programas se definen en términos de objetos, propiedades, métodos, y la interacción (comunicación) entre objetos."
   ]
  },
  {
   "cell_type": "markdown",
   "id": "lucky-given",
   "metadata": {},
   "source": [
    "Ver ejemplo:\n",
    "http://conogasi.org/articulos/programacion-orientada-a-objetos/\n"
   ]
  },
  {
   "cell_type": "markdown",
   "id": "bibliographic-release",
   "metadata": {},
   "source": [
    "### Clases y objetos"
   ]
  },
  {
   "cell_type": "markdown",
   "id": "mental-terminology",
   "metadata": {},
   "source": [
    "¿Clase?\n",
    "\n",
    "Podemos definir una clase como una Plantilla o modelo para crear a partir de ella ciertos Objetos. Esta plantilla es la que contiene la información; características y capacidades que tendrá el objeto que sea creado a partir de ella.\n",
    "\n",
    "Crear un objeto a partir de una clase se denomina instanciar.\n",
    "\n",
    "¿Qué es un Objeto en Python?\n",
    "\n",
    "Es muy sencillo; cuando pensamos en objetos pensamos en entidades que tienen un comportamiento; un estado; almacenan información y pueden realizar tareas. Refiriéndonos a comportamiento como acciones o capacidades de realizar cambios; y a estados como situación o modo de estar en un momento determinado."
   ]
  },
  {
   "cell_type": "markdown",
   "id": "municipal-grove",
   "metadata": {},
   "source": [
    "Crear clases\n",
    "\n",
    "Una clase consta de dos partes: un encabezado que comienza con el término class seguido del nombre de la clase (en singular) y dos puntos (:) y un cuerpo donde se declaran los atributos y los métodos:\n"
   ]
  },
  {
   "cell_type": "code",
   "execution_count": null,
   "id": "alike-citizenship",
   "metadata": {},
   "outputs": [],
   "source": [
    "class Alumno:\n",
    "    def saludar(self):\n",
    "        #Imprimer saludo en pantalla\n",
    "        print(\"¡Hola, mundo!\")\n"
   ]
  },
  {
   "cell_type": "markdown",
   "id": "stopped-hollywood",
   "metadata": {},
   "source": [
    "Todas las funciones definidas dentro de una clase deberán tener, al menos, un argumento, que por convención se le llama self y es una referencia a la instancia de la clase."
   ]
  },
  {
   "cell_type": "code",
   "execution_count": null,
   "id": "continuing-blond",
   "metadata": {
    "scrolled": true
   },
   "outputs": [],
   "source": [
    "#Creando un objeto\n",
    "alumno=Alumno()\n",
    "alumno.saludar()"
   ]
  },
  {
   "cell_type": "markdown",
   "id": "wicked-department",
   "metadata": {},
   "source": [
    "Una clase también puede contener variables, a las que se conoce con el nombre de atributos. Para crear atributos definimos un método especial llamado __init__(), que es invocado por Python automáticamente siempre que se crea una instancia de la clase (conocido también como constructor o inicializador)."
   ]
  },
  {
   "cell_type": "code",
   "execution_count": null,
   "id": "uniform-cylinder",
   "metadata": {},
   "outputs": [],
   "source": [
    "class Alumno:\n",
    "\n",
    "    def __init__(self):\n",
    "        self.nombre = \"Pablo\"\n",
    "\n",
    "    def saludar(self):\n",
    "        #Imprime saludo en pantalla\n",
    "        print(f\"¡Hola, {self.nombre}!\")\n",
    "\n"
   ]
  },
  {
   "cell_type": "markdown",
   "id": "latin-graphics",
   "metadata": {},
   "source": [
    "Creando varios objetos, enviando nombre al constructor y retornar valor en método saludar."
   ]
  },
  {
   "cell_type": "code",
   "execution_count": null,
   "id": "standard-unknown",
   "metadata": {},
   "outputs": [],
   "source": [
    "class Alumno:\n",
    "\n",
    "    def __init__(self, nombre):\n",
    "        self.nombre = nombre\n",
    "\n",
    "    def saludar(self):\n",
    "        #Imprime saludo en pantalla\n",
    "       return f\"¡Hola, {self.nombre}!\""
   ]
  },
  {
   "cell_type": "code",
   "execution_count": null,
   "id": "cathedral-homework",
   "metadata": {},
   "outputs": [],
   "source": [
    "##Creando objetos\n"
   ]
  },
  {
   "cell_type": "code",
   "execution_count": null,
   "id": "hybrid-lucas",
   "metadata": {},
   "outputs": [],
   "source": [
    "\n",
    "class Alumno:\n",
    "#Clase para alumnos\n",
    "    \n",
    "    numalumnos = 0 #variables de clase\n",
    "    sumanotas = 0\n",
    "\n",
    "    def __init__(self, nombre, nota):\n",
    "        self.nombre = nombre #variable de objeto\n",
    "        self.nota = nota #variable de objeto\n",
    "        Alumno.numalumnos += 1\n",
    "        Alumno.sumanotas += nota\n",
    "\n",
    "\n",
    "    def mostrarNombreNota(self):\n",
    "        return(self.nombre, self.nota)\n",
    "\n",
    "    def mostrarNumAlumnos(self):\n",
    "        return(Alumno.numalumnos)\n",
    "\n",
    "    def mostrarSumaNotas(self):\n",
    "        return(Alumno.sumanotas)\n",
    "\n",
    "    def mostrarNotaMedia(self):\n",
    "        if Alumno.numalumnos > 0:\n",
    "            return(Alumno.sumanotas/Alumno.numalumnos)\n",
    "        else:\n",
    "            return(\"Sin alumnos\")"
   ]
  },
  {
   "cell_type": "markdown",
   "id": "sophisticated-lodging",
   "metadata": {},
   "source": [
    "La clase Alumno consta de dos variables de clase (Alumno.numalumnos y Alumno.sumanotas) que son accesibles desde los métodos de la clase. Además, sus valores son compartidos por todas las instancias que existan de esta clase.\n",
    "\n",
    "A continuación, se declaran varios métodos (funciones) que incluyen como primer argumento a self que contiene la referencia del objeto especifico que llama al método en un momento dado. Como su valor es implícito cuando se llama a un método no es necesario pasar este argumento.\n",
    "\n",
    "El método __init__() es especial porque se ejecuta automáticamente cada vez que se crea una nuevo objeto. Este método, que es opcional, se llama constructor y se suele utilizar para inicializar las variables de las instancias (en este caso para inicializar las variables self.nombre y self.nota).\n",
    "\n",
    "El resto de métodos se utilizan para acceder y mostrar el valor de las variables de clase y de instancia. Por último, el método mostrarNotaMedia() realiza un cálculo y después muestra su resultado"
   ]
  },
  {
   "cell_type": "code",
   "execution_count": null,
   "id": "motivated-friendship",
   "metadata": {},
   "outputs": [],
   "source": [
    "#Creando objetos\n",
    "alumno1 = Alumno(\"Maria\", 8)\n",
    "alumno2 = Alumno(\"Carlos\", 6)\n",
    "\n",
    "print(alumno1.nombre)"
   ]
  },
  {
   "cell_type": "code",
   "execution_count": null,
   "id": "outstanding-lebanon",
   "metadata": {},
   "outputs": [],
   "source": [
    "print(Alumno.numalumnos)  # 2\n",
    "print(Alumno.sumanotas) "
   ]
  },
  {
   "cell_type": "code",
   "execution_count": null,
   "id": "discrete-reconstruction",
   "metadata": {},
   "outputs": [],
   "source": [
    "alumno1.nombre = \"Carmen\"\n",
    "print(alumno1.mostrarNombreNota())  # ('Carmen', 8)\n",
    "print(alumno2.mostrarNombreNota())  # ('Carlos', 6)"
   ]
  }
 ],
 "metadata": {
  "kernelspec": {
   "display_name": "Python 3",
   "language": "python",
   "name": "python3"
  },
  "language_info": {
   "codemirror_mode": {
    "name": "ipython",
    "version": 3
   },
   "file_extension": ".py",
   "mimetype": "text/x-python",
   "name": "python",
   "nbconvert_exporter": "python",
   "pygments_lexer": "ipython3",
   "version": "3.9.1"
  }
 },
 "nbformat": 4,
 "nbformat_minor": 5
}
