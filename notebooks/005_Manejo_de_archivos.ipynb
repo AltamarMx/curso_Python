{
 "cells": [
  {
   "cell_type": "markdown",
   "id": "congressional-rwanda",
   "metadata": {},
   "source": [
    "### Objetivo: Manipular archivos en modo lectura y escritura conociendo los métódos que lo permiten.\n",
    "\n",
    "### Lectura de archivos de texto plano\n",
    "\n",
    "En python podemos realizar la lectura de un archivo de la siguiente manera:\n",
    "- Usamos la función open para la apertura del archivo en modo lectura\n",
    "- Leemos con el método realines las lineas del archivo\n",
    "- Iteremos la lista de lineas del archivo leído\n",
    "\n",
    "Buena práctica es que después de leer el archivo se cierre con close()"
   ]
  },
  {
   "cell_type": "code",
   "execution_count": 157,
   "id": "brown-roads",
   "metadata": {},
   "outputs": [
    {
     "name": "stdout",
     "output_type": "stream",
     "text": [
      "Archivo de texto\n",
      "linea de archivo\n",
      "otra linea de archivo\n"
     ]
    }
   ],
   "source": [
    "data_file=open(\"./Curso_Python/data/archivo_prueba.txt\",\"r\")\n",
    "content_file=data_file.readlines()\n",
    "data_file.close()\n",
    "\n",
    "for line in content_file:\n",
    "    print(line.rstrip(\"\\n\"))\n",
    "\n"
   ]
  },
  {
   "cell_type": "code",
   "execution_count": 159,
   "id": "proprietary-northwest",
   "metadata": {
    "scrolled": true
   },
   "outputs": [
    {
     "name": "stdout",
     "output_type": "stream",
     "text": [
      "Archivo de texto\n",
      "linea de archivo\n",
      "otra linea de archivo\n"
     ]
    }
   ],
   "source": [
    "data_file=open(\"./Curso_Python/data/archivo_prueba.txt\",\"r\")\n",
    "content_file=data_file.read().splitlines()\n",
    "data_file.close()\n",
    "\n",
    "for line in content_file:\n",
    "    print(line)\n",
    "\n"
   ]
  },
  {
   "cell_type": "markdown",
   "id": "civilian-prince",
   "metadata": {},
   "source": [
    "\n",
    "\n",
    "También puedes leer un archivo con with open, la diferencia es que con esta instrucción ya no es necesario cerrar el archivo."
   ]
  },
  {
   "cell_type": "code",
   "execution_count": 163,
   "id": "australian-poker",
   "metadata": {},
   "outputs": [
    {
     "name": "stdout",
     "output_type": "stream",
     "text": [
      "Archivo de texto\n",
      "linea de archivo\n",
      "otra linea de archivo\n"
     ]
    }
   ],
   "source": [
    "with open(\"./Curso_Python/data/archivo_prueba.txt\",\"r\") as content_file:\n",
    "    content_file=content_file.read().splitlines()\n",
    "    for line in content_file:\n",
    "        print(line)"
   ]
  },
  {
   "cell_type": "markdown",
   "id": "smooth-recall",
   "metadata": {},
   "source": [
    "### Leyendo filas y columnas de un archivo sin pandas"
   ]
  },
  {
   "cell_type": "code",
   "execution_count": 166,
   "id": "potential-finance",
   "metadata": {},
   "outputs": [
    {
     "name": "stdout",
     "output_type": "stream",
     "text": [
      "Temp ext sum  62.9\n"
     ]
    }
   ],
   "source": [
    "data_file= open(\"./Curso_Python/data/chihuahua_head_25.csv\", \"r\")\n",
    "content_file=data_file.read().splitlines()\n",
    "data_file.close()\n",
    "\n",
    "sum_temp_ext=0\n",
    "for line in content_file:\n",
    "    if line[0]!='#':\n",
    "        fields=line.split(\",\")\n",
    "        sum_temp_ext=sum_temp_ext+float(fields[1])\n",
    "        \n",
    "print(f\"Temp ext sum  {sum_temp_ext}\")"
   ]
  },
  {
   "cell_type": "code",
   "execution_count": 164,
   "id": "vital-patrick",
   "metadata": {},
   "outputs": [
    {
     "name": "stdout",
     "output_type": "stream",
     "text": [
      "Index(['TEMPEXTERIOR {Deg. C}', 'TEMPZONA_PROBADOR_LAD {Deg. C}',\n",
      "       'TEMPZONA_PROBADOR_MEN {Deg. C}', 'TEMPZONA_1_PV_UMA_01 {Deg. C}',\n",
      "       'TEMPZONA_1_PV_UMA_02 {Deg. C}', 'TEMPZONA_2_PV_UMA_01 {Deg. C}',\n",
      "       'TEMPZONA_2_PV_UMA_02 {Deg. C}', 'TEMPZONA_01_SITE {Deg. C}',\n",
      "       'TEMPZONA_01_CUARTO_ELEC {Deg. C}', 'TEMPZONA_02_CUARTO_ELEC {Deg. C}',\n",
      "       'UE_DX_01_TEMPINY (ELECTRICO) {Deg. C}',\n",
      "       'FCAH_01_TEMPINY (ELECTRICO) {Deg. C}',\n",
      "       'UE_DX_02_TEMPINY (SITE) {Deg. C}', 'FCAH_02_TEMPINY (SITE) {Deg. C}',\n",
      "       'UMA_01_1_TEMPINY {Deg. C}', 'UMA_02_1_TEMPINY {Deg. C}',\n",
      "       'UMA_01_1_TEMRET {Deg. C}', 'UMA_02 1_TEMRET {Deg. C}',\n",
      "       'UE_DX_01_ESTADO_FAN {}', 'UE_DX_02_ESTADO_FAN {}',\n",
      "       'FACH_01_ESTADO_FAN {}', 'FACH_02_ESTADO_FAN {}',\n",
      "       'UC_DX_01_ESTADO_COND {}', 'UC_DX_02_ESTADO_COND {}',\n",
      "       'UV_01_ESTADO_FAN {}', 'CMOTOR_UMA_01 {mA}', 'CMOTOR_UMA_02 {mA}',\n",
      "       'ALARM_INCENDIO {}', 'UV_01_MANDO {}', 'VAV_01_PROB_MEN_VALVE_MANDO {}',\n",
      "       'VAV_2_PROB_LADIES_VALVE_MANDO {}', 'UMA01_2_MANDO {}',\n",
      "       'UMA02_2_MANDO {}', 'UMA01_VALVE_MANDO {}', 'UMA02_VALVE_MANDO {}',\n",
      "       'FCAH_02_FAN_MANDO (SITE) {}', 'UE_DX_FAN_02_MANDO (SITE) {}',\n",
      "       'UC_DX_02_2_MANDO (SITE) {}', 'FCAH_02_VALVE_MANDO (SITE) {}',\n",
      "       'UC_DX_01_2_MANDO (ELECTRICO) {}', 'FACH_01_FAN_MANDO (ELECTRICO) {}',\n",
      "       'UE_DX_FAN_01_MANDO (ELECTRICO) {}',\n",
      "       'FCAH01_VALVE_MANDO (ELECTRICO) {}', 'MANDO_ILUMZONA_LOGO {}',\n",
      "       'MANDO_ILUMZONA_EMERG_1 {}', 'MANDO_ILUMZONA_EMERG_2 {}',\n",
      "       'MANDO_ILUMZONA_EMERG_3 {}', 'MANDO_ILUMZONA_EMERG_4 {}',\n",
      "       'MANDO_ILUMZONA_NORMAL_1 {}', 'MANDO_ILUMZONA_NORMAL_2 {}',\n",
      "       'MANDO_ILUMZONA_NORMAL_3 {}', 'MANDO_ILUMZONA_NORMAL_4 {}',\n",
      "       'MANDO_ILUMZONA_NORMAL_5 {}', 'MANDO_ILUMZONA_H15MINS {}',\n",
      "       'MANDO_ILUMZONA_H30MINS {}'],\n",
      "      dtype='object')\n"
     ]
    }
   ],
   "source": [
    "import pandas as pd\n",
    "chih1_file_data = pd.read_csv(\"./Curso_Python/data/chihuahua_head_25.csv\",skiprows=0,index_col=0)\n",
    "\n",
    "print(chih1_file_data.columns)"
   ]
  },
  {
   "cell_type": "code",
   "execution_count": 165,
   "id": "owned-minimum",
   "metadata": {},
   "outputs": [
    {
     "data": {
      "text/plain": [
       "62.9"
      ]
     },
     "execution_count": 165,
     "metadata": {},
     "output_type": "execute_result"
    }
   ],
   "source": [
    "chih1_file_data['TEMPEXTERIOR {Deg. C}'].sum()"
   ]
  },
  {
   "cell_type": "markdown",
   "id": "alert-result",
   "metadata": {},
   "source": [
    "Leyendo un archivo "
   ]
  },
  {
   "cell_type": "code",
   "execution_count": 168,
   "id": "modified-wildlife",
   "metadata": {
    "scrolled": true
   },
   "outputs": [
    {
     "name": "stdout",
     "output_type": "stream",
     "text": [
      "Empty DataFrame\n",
      "Columns: [1, 1}, 9.61}, {{2010.1, 1.1, 2}, 11.22}, {{2010.2, 1.2, 3}, 12}]\n",
      "Index: []\n"
     ]
    }
   ],
   "source": [
    "import pandas as pd\n",
    "chih1_file_data = pd.read_csv(\"./Curso_Python/data/data_src.txt\",skiprows=0,index_col=0)\n",
    "\n",
    "print(chih1_file_data.iloc[1:])"
   ]
  },
  {
   "cell_type": "markdown",
   "id": "derived-hungarian",
   "metadata": {},
   "source": [
    "### Escribiendo archivos\n",
    "\n",
    "Para escribir archivos debemos realizar la apertura en modo escritura \"w\". Utilizamos el método write para escribir algo en el archivo y por último cerramos con close:"
   ]
  },
  {
   "cell_type": "code",
   "execution_count": 169,
   "id": "awful-differential",
   "metadata": {},
   "outputs": [],
   "source": [
    "file_test=open(\"./Curso_Python/data/file_test.txt\", \"w\")\n",
    "file_test.write(\"Archivo creado desde python\\n\")\n",
    "file_test.write(\"Linea de archivo\")\n",
    "file_test.close()"
   ]
  },
  {
   "cell_type": "code",
   "execution_count": 170,
   "id": "cross-blanket",
   "metadata": {
    "scrolled": true
   },
   "outputs": [
    {
     "name": "stdout",
     "output_type": "stream",
     "text": [
      "archivo_prueba.txt\n",
      "chihuahua_head_25.csv\n",
      "data_src.txt\n",
      "file_content_replace.txt\n",
      "file_test.txt\n"
     ]
    }
   ],
   "source": [
    "%%bash\n",
    "ls ./Curso_Python/data/"
   ]
  },
  {
   "cell_type": "code",
   "execution_count": 171,
   "id": "informed-philip",
   "metadata": {
    "scrolled": false
   },
   "outputs": [
    {
     "name": "stdout",
     "output_type": "stream",
     "text": [
      "Archivo creado desde python\n",
      "Linea de archivo"
     ]
    }
   ],
   "source": [
    "%%bash\n",
    "cat ./Curso_Python/data/file_test.txt"
   ]
  },
  {
   "cell_type": "markdown",
   "id": "consolidated-suspension",
   "metadata": {},
   "source": [
    "### Leyendo y escribiendo un archivo"
   ]
  },
  {
   "cell_type": "code",
   "execution_count": 172,
   "id": "loaded-example",
   "metadata": {},
   "outputs": [],
   "source": [
    "data_file=open(\"./Curso_Python/data/data_src.txt\", \"r\")\n",
    "content_file=data_file.read()\n",
    "content_file=content_file.replace(\"{\",\"\").replace(\"}\",\"\")\n",
    "data_file.close()\n",
    "\n",
    "file_content_replace=open(\"./Curso_Python/data/file_content_replace.txt\",\"w\")\n",
    "file_content_replace.write(content_file)\n",
    "file_content_replace.close()"
   ]
  },
  {
   "cell_type": "code",
   "execution_count": 174,
   "id": "compatible-camel",
   "metadata": {},
   "outputs": [
    {
     "name": "stdout",
     "output_type": "stream",
     "text": [
      "   Col1  Col2  Col3   Col4  Col5  Col6  Col7   Col8  Col9  Col10  Col11  Col12\n",
      "0  2010     1     1   9.61  2010     1     2  11.22  2010      1      3     12\n",
      "1  2010     2     1  10.61  2010     2     1  11.22  2010      2      3     12\n"
     ]
    }
   ],
   "source": [
    "import pandas as pd\n",
    "chih1_file_data = pd.read_csv(\"./Curso_Python/data/file_content_replace.txt\", names=[\"Col1\",\"Col2\",\"Col3\",\"Col4\",\"Col5\",\"Col6\",\"Col7\",\"Col8\",\"Col9\",\"Col10\",\"Col11\",\"Col12\"])\n",
    "\n",
    "\n",
    "print(chih1_file_data.iloc[0:])"
   ]
  },
  {
   "cell_type": "code",
   "execution_count": null,
   "id": "certified-respect",
   "metadata": {},
   "outputs": [],
   "source": []
  }
 ],
 "metadata": {
  "kernelspec": {
   "display_name": "Python 3",
   "language": "python",
   "name": "python3"
  },
  "language_info": {
   "codemirror_mode": {
    "name": "ipython",
    "version": 3
   },
   "file_extension": ".py",
   "mimetype": "text/x-python",
   "name": "python",
   "nbconvert_exporter": "python",
   "pygments_lexer": "ipython3",
   "version": "3.9.1"
  }
 },
 "nbformat": 4,
 "nbformat_minor": 5
}
