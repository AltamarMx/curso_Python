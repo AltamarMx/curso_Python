{
 "cells": [
  {
   "cell_type": "markdown",
   "id": "cellular-evanescence",
   "metadata": {},
   "source": [
    "### Objetivo\n",
    "\n",
    "<FONT SIZE=3>Proporcionar al estudiante las herramientas para generar y mantener proyectos de ciencia de datos, utilizando una estructura de directorios definida y controladores de versiones.</FONT>"
   ]
  },
  {
   "cell_type": "markdown",
   "id": "united-advertiser",
   "metadata": {},
   "source": [
    "### Estructura de proyectos para ciencia de datos con python"
   ]
  },
  {
   "cell_type": "markdown",
   "id": "electric-grill",
   "metadata": {},
   "source": [
    "<FONT SIZE=3>Muchas veces cuando iniciamos proyectos de software simplemente comenzamos con una carpeta donde vamos colocando \"todo\": libretas, datos, documentos, imágenes y demás... Lo anterior se vuelve un problema al intentar buscar un archivo en particular, además de tener posiblemente duplicados. El tener una estructura desorganizada de directorios nos ocasiona pérdida de tiempo al buscar archivos. Es por ello que lo más conveniente es contar con una estructura de proyecto, donde tengamos espacios dedicados para cada tipo de archivo.</FONT>\n",
    "\n",
    "<FONT SIZE=3> En esta sesión estaremos abordando una estructura de proyecto recomendada para ciencia de datos.</FONT>"
   ]
  },
  {
   "cell_type": "markdown",
   "id": "defined-jenny",
   "metadata": {},
   "source": [
    "#### PASO 1: PENSAR EN EL PROBLEMA QUE ESTÁ TRATANDO DE RESOLVER\n",
    "\n",
    "<FONT SIZE=3>Nombres de variables y archivos inconsistentes.\n",
    "Estructura de carpetas inconsistentes.\n",
    "Tiempo perdido.</FONT>\n",
    "\n",
    "<FONT SIZE=3>Lo anterior se multiplica al trabajar con más personas y no seguir buenas prácticas de organización.</FONT>"
   ]
  },
  {
   "cell_type": "markdown",
   "id": "prerequisite-liquid",
   "metadata": {},
   "source": [
    "#### PASO 2: SELECCIONAR UNA PLANTILLA DE PROYECTO"
   ]
  },
  {
   "cell_type": "markdown",
   "id": "animal-cursor",
   "metadata": {},
   "source": [
    "<FONT SIZE=3>Si buscamos en google nos encontraremos con muchas opciones muy buenas de plantillas, tomando como referencia varios de esos ejemplos, podemos darnos cuenta que tienen en común lo siguiente:\n",
    "\n",
    "<p>1.- pipeline de limpieza de datos. Los datos se van transformando por etapas. Primero tenemos los datos crudos, dichos datos son procesados por una libreta y genera datos limpios, se almacenan y posteriormente se procesan con otra libreta para generar resultados.</p><br>\n",
    "\n",
    "<p>2.- Separación de archivos por su función. Es un principio de diseño para separar un programa de computadora en distintas secciones, de modo que cada sección aborde una función separada.</p>\n",
    "\n",
    "<p>3.- Convenciones de nomenclatura de archivos y variables estándar: para evitar el terrible escenario df / df_new / df_new_final</p>\n",
    "\n",
    "Lo anterior es con el fin de que si alguien se interesa por nuestro proyecto tenga una idea rápida general de como se encuentra estructurado.\n",
    "\n",
    "A continuación una buena estructura:</FONT>\n",
    "\n",
    "\n"
   ]
  },
  {
   "cell_type": "raw",
   "id": "persistent-fundamentals",
   "metadata": {},
   "source": [
    "├── README.md          <- The top-level README for developers.\n",
    "├── conf               <- Space for credentials\n",
    "│\n",
    "├── data\n",
    "│   ├── 01_raw         <- Immutable input data\n",
    "│   ├── 02_intermediate<- Cleaned version of raw\n",
    "│   ├── 03_processed   <- Data used to develop models\n",
    "│   ├── 04_models      <- trained models\n",
    "│   ├── 05_model_output<- model output\n",
    "│   └── 06_reporting   <- Reports and input to frontend\n",
    "│\n",
    "├── docs               <- Space for Sphinx documentation\n",
    "│\n",
    "├── notebooks          <- Jupyter notebooks. Naming convention is\n",
    "|                         date YYYYMMDD (for ordering),\n",
    "│                         the creator's initials, and a short `-` \n",
    "|                         delimited description.\n",
    "│\n",
    "├── references         <- Data dictionaries, manuals, etc. \n",
    "│\n",
    "├── results            <- Final analysis docs.\n",
    "│\n",
    "├── requirements.txt   <- The requirements file for reproducing the \n",
    "|                         analysis environment.\n",
    "│\n",
    "├── .gitignore         <- Avoids uploading data, credentials, \n",
    "|                         outputs, system files etc\n",
    "│\n",
    "└── src                <- Source code for use in this project.\n",
    "    ├── __init__.py    <- Makes src a Python module\n",
    "    │\n",
    "    ├── d00_utils      <- Functions used across the project\n",
    "    │   └── remove_accents.py\n",
    "    │\n",
    "    ├── d01_data       <- Scripts to reading and writing data etc\n",
    "    │   └── load_data.py\n",
    "    │\n",
    "    ├── d02_intermediate<- Scripts to transform data from raw to \n",
    "    |   |                  intermediate\n",
    "    │   └── create_int_payment_data.py\n",
    "    │\n",
    "    ├── d03_processing <- Scripts to turn intermediate data into \n",
    "    |   |                 modelling input\n",
    "    │   └── create_master_table.py\n",
    "    │\n",
    "    ├── d04_modelling  <- Scripts to train models and then use \n",
    "    |   |                  trained models to make predictions. \n",
    "    │   └── train_model.py\n",
    "    │\n",
    "    ├── d05_model_evaluation<- Scripts that analyse model \n",
    "    |   |                      performance and model selection.\n",
    "    │   └── calculate_performance_metrics.py\n",
    "    │    \n",
    "    ├── d06_reporting  <- Scripts to produce reporting tables\n",
    "    │   └── create_rpt_payment_summary.py\n",
    "    │\n",
    "    └── d07_visualisation<- Scripts to create frequently used plots\n",
    "        └── visualise_patient_journey.py\n"
   ]
  },
  {
   "cell_type": "markdown",
   "id": "transsexual-ownership",
   "metadata": {},
   "source": [
    "#### Paso 3. APRENDER A UTILIZAR LA PLANTILLA\n",
    "\n",
    "<p><FONT SIZE=3>Una vez que ya conocemos nuestra estructura de directorios, hay que utilizarla y saber que colocar en qué parte. El flujo de los scripts comienza en la carpeta notebooks, una vez que el código se ha finalizado lo pasamos como py a la carpeta src.</FONT></p>"
   ]
  },
  {
   "cell_type": "markdown",
   "id": "seeing-surrey",
   "metadata": {},
   "source": [
    "#### Paso 4. GUARDAR LA PLANTILLA Y COMPARTIRLA\n",
    "\n",
    "<p><FONT SIZE=3>Independientemente de la estructura de directorios de proyecto que elija, asegúrese de seguirla y compartirla con las personas con las que trabaja. Tu yo futuro te lo agradecerá</FONT></p>"
   ]
  },
  {
   "cell_type": "markdown",
   "id": "sitting-pierre",
   "metadata": {},
   "source": [
    "https://medium.com/swlh/how-to-structure-a-python-based-data-science-project-a-short-tutorial-for-beginners-7e00bff14f56"
   ]
  },
  {
   "cell_type": "markdown",
   "id": "wrong-northern",
   "metadata": {},
   "source": [
    "### ¿Qué es git  y github?"
   ]
  },
  {
   "cell_type": "markdown",
   "id": "eleven-cheat",
   "metadata": {},
   "source": [
    "<FONT SIZE=3>¿Qué es Git?</FONT></p>\n",
    "\n",
    "<FONT SIZE=3>Git es una herramienta que realiza una función del control de versiones de código de forma distribuida, de la que destacamos varias características:</FONT></p>\n",
    "\n",
    "* Es muy potente\n",
    "* Fue diseñada por Linus Torvalds\n",
    "* No depende de un repositorio central\n",
    "* Es software libre\n",
    "* Con ella podemos mantener un historial completo de versiones\n",
    "* Podemos movernos, como si tuviéramos un puntero en el tiempo, por todas las revisiones de código y desplazarnos una manera muy ágil.\n",
    "* Es muy rápida\n",
    "* Tiene un sistema de trabajo con ramas que lo hace especialmente potente\n",
    "* En cuanto a la funcionalidad de las ramas, las mismas están destinadas a provocar proyectos divergentes de un proyecto principal, para hacer experimentos o para probar nuevas funcionalidades.\n",
    "* Las ramas pueden tener una línea de progreso diferente de la rama principal donde está el core de nuestro desarrollo. En algún momento podemos llegar a probar algunas de esas mejoras o cambios en el código y hacer una fusión a nuestro proyecto principal, ya que todo esto lo maneja Git de una forma muy eficiente\n",
    "\n",
    "https://openwebinars.net/blog/que-es-git-y-para-que-sirve/"
   ]
  },
  {
   "cell_type": "markdown",
   "id": "spread-isolation",
   "metadata": {},
   "source": [
    "<p><FONT SIZE=3>¿Qué es Github?</FONT></p>\n",
    "\n",
    "<p><FONT SIZE=3>Github es una herramienta que nos permite tener nuestros repositiorios de Git en la nube. Esto nos permite centralizar el contenido del repositorio para poder colaborar con otros miembros de nuestra organización.\n",
    "\n",
    "Git nos permite conectarnos remotamente, con otros repositorios, pudiendo subir los commits a este repositorio que se crea en Github y teniendo el proyecto subido y marcado en un servidor.</FONT></p>\n",
    "\n",
    "https://openwebinars.net/blog/que-es-github/"
   ]
  },
  {
   "cell_type": "code",
   "execution_count": null,
   "id": "convertible-second",
   "metadata": {},
   "outputs": [],
   "source": []
  },
  {
   "cell_type": "markdown",
   "id": "blind-lexington",
   "metadata": {},
   "source": [
    "<img src=\"https://blog.devmountain.com/hs-fs/hubfs/Imported_Blog_Media/Gitvs_Github-1a-1.jpg?width=600&name=Gitvs_Github-1a-1.jpg\">"
   ]
  },
  {
   "cell_type": "markdown",
   "id": "graduate-smooth",
   "metadata": {},
   "source": [
    "### Vámos a instalar git\n",
    "\n",
    "https://carpentries.github.io/workshop-template/#git"
   ]
  },
  {
   "cell_type": "raw",
   "id": "durable-energy",
   "metadata": {},
   "source": [
    "Windows\n",
    "\n",
    "Download the Git for Windows installer. (https://gitforwindows.org/)\n",
    "Run the installer and follow the steps below:\n",
    "\n",
    "Click on \"Next\" four times (two times if you've previously installed Git). You don't need to change anything in the Information, location, components, and start menu screens.\n",
    "\n",
    "From the dropdown menu select \"Use the Nano editor by default\" (NOTE: you will need to scroll up to find it) and click on \"Next\".\n",
    "\n",
    "On the page that says \"Adjusting the name of the initial branch in new repositories\", ensure that \"Let Git decide\" is selected. This will ensure the highest level of compatibility for our lessons.\n",
    "\n",
    "Ensure that \"Git from the command line and also from 3rd-party software\" is selected and click on \"Next\". (If you don't do this Git Bash will not work properly, requiring you to remove the Git Bash installation, re-run the installer and to select the \"Git from the command line and also from 3rd-party software\" option.)\n",
    "Ensure that \"Use the native Windows Secure Channel Library\" is selected and click on \"Next\".\n",
    "\n",
    "Ensure that \"Checkout Windows-style, commit Unix-style line endings\" is selected and click on \"Next\".\n",
    "\n",
    "Ensure that \"Use Windows' default console window\" is selected and click on \"Next\".\n",
    "\n",
    "Ensure that \"Default (fast-forward or merge) is selected and click \"Next\".\n",
    "\n",
    "Ensure that \"Git Credential Manager Core\" is selected and click on \"Next\".\n",
    "\n",
    "Ensure that \"Enable file system caching\" is selected and click on \"Next\".\n",
    "\n",
    "Click on \"Install\".\n",
    "\n",
    "Click on \"Finish\" or \"Next\".\n",
    "\n",
    "If your \"HOME\" environment variable is not set (or you don't know what this is):\n",
    "Open command prompt (Open Start Menu then type cmd and press Enter)\n",
    "Type the following line into the command prompt window exactly as shown:\n",
    "setx HOME \"%USERPROFILE%\"\n",
    "\n",
    "Press Enter, you should see SUCCESS: Specified value was saved.\n",
    "Quit command prompt by typing exit then pressing Enter\n",
    "This will provide you with both Git and Bash in the Git Bash program.\n",
    "\n",
    "\n"
   ]
  },
  {
   "cell_type": "raw",
   "id": "listed-tonight",
   "metadata": {},
   "source": [
    "mac os\n",
    "\n",
    "For macOS, install Git for Mac by downloading and running the most recent \"mavericks\" installer from this list (https://sourceforge.net/projects/git-osx-installer/files/). Because this installer is not signed by the developer, you may have to right click (control click) on the .pkg file, click Open, and click Open on the pop up window. After installing Git, there will not be anything in your /Applications folder, as Git is a command line program. For older versions of OS X (10.5-10.8) use the most recent available installer labelled \"snow-leopard\" available here.\n"
   ]
  },
  {
   "cell_type": "raw",
   "id": "labeled-mother",
   "metadata": {},
   "source": [
    "linux\n",
    "\n",
    "If Git is not already available on your machine you can try to install it via your distro's package manager. For Debian/Ubuntu run sudo apt-get install git and for Fedora run sudo dnf install git."
   ]
  },
  {
   "cell_type": "markdown",
   "id": "macro-education",
   "metadata": {},
   "source": [
    "### Comencemos con git"
   ]
  },
  {
   "cell_type": "markdown",
   "id": "fewer-tulsa",
   "metadata": {},
   "source": []
  },
  {
   "cell_type": "code",
   "execution_count": null,
   "id": "flying-subdivision",
   "metadata": {},
   "outputs": [],
   "source": []
  }
 ],
 "metadata": {
  "kernelspec": {
   "display_name": "Python 3",
   "language": "python",
   "name": "python3"
  },
  "language_info": {
   "codemirror_mode": {
    "name": "ipython",
    "version": 3
   },
   "file_extension": ".py",
   "mimetype": "text/x-python",
   "name": "python",
   "nbconvert_exporter": "python",
   "pygments_lexer": "ipython3",
   "version": "3.9.1"
  }
 },
 "nbformat": 4,
 "nbformat_minor": 5
}
