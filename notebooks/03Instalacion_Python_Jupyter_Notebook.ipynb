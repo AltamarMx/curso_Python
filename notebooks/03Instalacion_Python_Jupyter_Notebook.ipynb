{
 "cells": [
  {
   "cell_type": "markdown",
   "id": "appointed-driving",
   "metadata": {},
   "source": [
    "## Objetivo\n",
    "\n",
    "Proporcionar al estudiante el sofware necesario para la instalación de python y jupyter notebook en las plataformas Windows, Mac Os, Linux así como los pasos de instalción.\n",
    "\n",
    "* ### Instalando Jupyter notebook [winpython, pip3 install]\n",
    "\n",
    "* ### Guardar y localizar libretas\n"
   ]
  },
  {
   "cell_type": "markdown",
   "id": "martial-event",
   "metadata": {},
   "source": [
    "## Entorno windows \n",
    "### Utilizando winpython\n",
    "![winpython](http://winpython.sourceforge.net/images/winpython_title.png)\n",
    "\n",
    "\n"
   ]
  },
  {
   "cell_type": "markdown",
   "id": "precious-school",
   "metadata": {},
   "source": [
    "https://winpython.github.io/\n",
    "\n",
    "Se descomprime el archivo y usa un solo directorio de trabajo.\n",
    "\n",
    "Ejecutamos Jupyter Notebook"
   ]
  },
  {
   "cell_type": "markdown",
   "id": "signed-vanilla",
   "metadata": {},
   "source": [
    "### ¡Vámos a instalar!"
   ]
  },
  {
   "cell_type": "code",
   "execution_count": null,
   "id": "cheap-ceremony",
   "metadata": {},
   "outputs": [],
   "source": []
  },
  {
   "cell_type": "markdown",
   "id": "necessary-barrier",
   "metadata": {},
   "source": [
    "## Instalando jupyter notebook en mac os\n"
   ]
  },
  {
   "cell_type": "markdown",
   "id": "acquired-spending",
   "metadata": {},
   "source": [
    "### Pasos:\n",
    "\n",
    "xcode-select --install\n",
    "\n",
    "* Install Homebrew\n",
    "\n",
    "/usr/bin/ruby -e \"$(curl -fsSL https://raw.githubusercontent.com/Homebrew/install/master/install)\"\n",
    "\n",
    "* Install python3\n",
    "\n",
    "brew install python\n",
    "\n",
    "* Update \n",
    "\n",
    "brew update && brew doctor\n",
    "\n",
    "* Install jupyter\n",
    "\n",
    "brew install jupyter\n",
    "\n",
    "* Start jupyter\n",
    "\n",
    "jupyter notebook"
   ]
  },
  {
   "cell_type": "code",
   "execution_count": null,
   "id": "distinct-witch",
   "metadata": {},
   "outputs": [],
   "source": []
  },
  {
   "cell_type": "markdown",
   "id": "aggregate-google",
   "metadata": {},
   "source": [
    "## Instalando jupyter notebook en linux"
   ]
  },
  {
   "cell_type": "markdown",
   "id": "constant-pharmaceutical",
   "metadata": {},
   "source": [
    "* Actualizar gestor de paquetes\n",
    "\n",
    "sudo apt update"
   ]
  },
  {
   "cell_type": "markdown",
   "id": "phantom-struggle",
   "metadata": {},
   "source": [
    "* Instalar python\n",
    "\n",
    "sudo apt-get install python3.8\n",
    "\n",
    "* Instalar core de jupyter\n",
    "\n",
    "sudo apt install jupyter-core"
   ]
  },
  {
   "cell_type": "markdown",
   "id": "posted-disco",
   "metadata": {},
   "source": [
    "* Instalar jupyter notebook\n",
    "\n",
    "sudo apt install jupyter-notebook"
   ]
  },
  {
   "cell_type": "markdown",
   "id": "usual-majority",
   "metadata": {},
   "source": [
    "* Iniciar \n",
    "\n",
    "jupyter-notebook"
   ]
  },
  {
   "cell_type": "markdown",
   "id": "latin-partition",
   "metadata": {},
   "source": [
    "* Instalar pip3\n",
    "\n",
    "sudo apt install python3-pip"
   ]
  },
  {
   "cell_type": "markdown",
   "id": "nominated-priest",
   "metadata": {},
   "source": [
    "### pip\n",
    "\n",
    "pip es un sistema de gestión de paquetes utilizado para instalar y administrar paquetes de software escritos en Python.\n",
    "\n",
    "### pip3 \n",
    "\n",
    "pip3 es un alias para pip apuntando al Python 3 de Homebrew."
   ]
  },
  {
   "cell_type": "markdown",
   "id": "beginning-concrete",
   "metadata": {},
   "source": [
    "___"
   ]
  },
  {
   "cell_type": "markdown",
   "id": "extraordinary-senator",
   "metadata": {},
   "source": [
    "### Forma de usar pip\n",
    "\n",
    "La forma más sencilla es utilizar pip.\n",
    "\n"
   ]
  },
  {
   "cell_type": "code",
   "execution_count": null,
   "id": "amazing-retention",
   "metadata": {},
   "outputs": [],
   "source": [
    "pip3 install <module_name>"
   ]
  },
  {
   "cell_type": "markdown",
   "id": "experienced-invitation",
   "metadata": {},
   "source": [
    "### Para actualizar algún módulo:\n"
   ]
  },
  {
   "cell_type": "code",
   "execution_count": null,
   "id": "genetic-auction",
   "metadata": {},
   "outputs": [],
   "source": [
    "pip3 install <module_name> --upgrade"
   ]
  },
  {
   "cell_type": "markdown",
   "id": "north-sociology",
   "metadata": {},
   "source": [
    "___"
   ]
  },
  {
   "cell_type": "markdown",
   "id": "tribal-money",
   "metadata": {},
   "source": [
    "## Guardar libretas en jupyter notebook\n",
    "\n",
    "Puede guardar una libreta en la ubicación de su elección usando la opción \"Archivo\" -> \"Descargar como\" -> \"Cuaderno (. ipynb)\" en el menú. Alternativamente, puede iniciar su servidor de notebook desde un directorio diferente y guardará todos los notebooks en ese directorio."
   ]
  },
  {
   "cell_type": "markdown",
   "id": "official-environment",
   "metadata": {},
   "source": [
    "## Localizando libretas\n",
    "\n",
    "El directorio donde se inicie el jupyter notebook es el espacio de trabajo, apartir de allí podemos generar la estructura de trabajo que necesitemos. El tener una estructura de directorios de trabajo definida ayuda de mucho en la organización de todos tus archivos tanto para su localización como de su ordenamiento.\n"
   ]
  },
  {
   "cell_type": "code",
   "execution_count": null,
   "id": "endangered-vegetation",
   "metadata": {},
   "outputs": [],
   "source": []
  }
 ],
 "metadata": {
  "kernelspec": {
   "display_name": "Python 3",
   "language": "python",
   "name": "python3"
  },
  "language_info": {
   "codemirror_mode": {
    "name": "ipython",
    "version": 3
   },
   "file_extension": ".py",
   "mimetype": "text/x-python",
   "name": "python",
   "nbconvert_exporter": "python",
   "pygments_lexer": "ipython3",
   "version": "3.9.1"
  }
 },
 "nbformat": 4,
 "nbformat_minor": 5
}
