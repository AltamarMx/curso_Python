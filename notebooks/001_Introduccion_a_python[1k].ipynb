{
 "cells": [
  {
   "cell_type": "markdown",
   "id": "romantic-powder",
   "metadata": {},
   "source": [
    "## Propósito\n",
    "\n",
    "Instruir al estudiante en las buenas prácticas de programación en Python a partir de un código general de principios aplicados en el lenguaje de programación.\n",
    "\n",
    "### Reglas del Zen de Python\n",
    "\n",
    "El Zen de python consta de 19 reglas que de aplicarse correctamente en cualquier código para convertirlo en código Pythónico\n"
   ]
  },
  {
   "cell_type": "code",
   "execution_count": 1,
   "id": "aggregate-daily",
   "metadata": {
    "scrolled": false
   },
   "outputs": [
    {
     "name": "stdout",
     "output_type": "stream",
     "text": [
      "The Zen of Python, by Tim Peters\n",
      "\n",
      "Beautiful is better than ugly.\n",
      "Explicit is better than implicit.\n",
      "Simple is better than complex.\n",
      "Complex is better than complicated.\n",
      "Flat is better than nested.\n",
      "Sparse is better than dense.\n",
      "Readability counts.\n",
      "Special cases aren't special enough to break the rules.\n",
      "Although practicality beats purity.\n",
      "Errors should never pass silently.\n",
      "Unless explicitly silenced.\n",
      "In the face of ambiguity, refuse the temptation to guess.\n",
      "There should be one-- and preferably only one --obvious way to do it.\n",
      "Although that way may not be obvious at first unless you're Dutch.\n",
      "Now is better than never.\n",
      "Although never is often better than *right* now.\n",
      "If the implementation is hard to explain, it's a bad idea.\n",
      "If the implementation is easy to explain, it may be a good idea.\n",
      "Namespaces are one honking great idea -- let's do more of those!\n"
     ]
    }
   ],
   "source": [
    "import this"
   ]
  },
  {
   "cell_type": "markdown",
   "id": "patent-anchor",
   "metadata": {},
   "source": [
    "1. ##### Bonito es mejor que feo\n",
    "Beautiful is better than ugly\n",
    "\n",
    "Los adjetivos de bonito o feo suelen ser muy subjetivos aunque cuando se refiere a código, cualquiera con algunas decenas de miles de líneas escritas puede apreciar si un código es bonito o feo, aplicando las siguientes reglas o con reglas propias que da la experiencia."
   ]
  },
  {
   "cell_type": "code",
   "execution_count": null,
   "id": "going-presence",
   "metadata": {},
   "outputs": [],
   "source": [
    "# ejemplo de codigo feo\n",
    "gatos=4;perros=6;patas=34;assert patas==(gatos*perros*4),'Número de patas dispar';\n",
    "\n",
    "# ejemplo de codigo bonito\n",
    "gatos = 4\n",
    "perros = 6\n",
    "patas = 34\n",
    "assert patas == (gatos * 4) + (perros * 4), 'Número de patas dispar'"
   ]
  },
  {
   "cell_type": "markdown",
   "id": "developed-naples",
   "metadata": {},
   "source": [
    "2. #### Explícito es mejor que implícito\n",
    "\n",
    "Explicit is better than implicit\n",
    "\n",
    "Cuando un código es explícito, no requiere que el lector tenga que intuir o saber de antemano algún elemento implícito del sistema, haciendo que la legibilidad mejore considerablemente.\n",
    "\n",
    "A veces convertir un código implícito en explícito es tan simple como añadir algunas variables intermedias con nombres apropiados, o no concatenar funciones o simplemente no hacer uso de variables globales sino pasar las variables usando argumentos."
   ]
  },
  {
   "cell_type": "code",
   "execution_count": null,
   "id": "protecting-pearl",
   "metadata": {},
   "outputs": [],
   "source": [
    "# version implicita\n",
    "def metros_a_pulgadas_dobles(metros):\n",
    "    return metros * 39.3701 * 2\n",
    "\n",
    "# version explicita\n",
    "def metros_a_pulgadas_dobles(metros):\n",
    "    pulgadas_por_metro = 39.3701\n",
    "    multi_doble = 2\n",
    "    return metros * pulgada_por_metro * multi_doble"
   ]
  },
  {
   "cell_type": "markdown",
   "id": "chief-casting",
   "metadata": {},
   "source": [
    "3. #### Simple es mejor que complejo\n",
    "\n",
    "Simple is better than complex.\n",
    "\n",
    "Un sistema complejo se define como un sistema compuesto de muchas partes independientes conectadas entre sí, pero que no tienen relaciones ocultas entre los componentes.\n",
    "\n",
    "Si el sistema está correctamente implementado, cada parte independiente será simple si se estudia de forma aislada, por lo que, el estudio del sistema completo se podría simplificar en el estudio de cada parte simple."
   ]
  },
  {
   "cell_type": "markdown",
   "id": "later-thought",
   "metadata": {},
   "source": [
    "4. #### Complejo es mejor que complicado\n",
    "\n",
    "Complex is better than complicated.\n",
    "\n",
    "Sin embargo, un sistema complicado, se compone de elementos simples que no son independientes entre sí, sino que el sistema conoce de alguna lógica extra que convierte el sistema en complicado."
   ]
  },
  {
   "cell_type": "markdown",
   "id": "powerful-interim",
   "metadata": {},
   "source": [
    "5. #### Plano es mejor que anidado\n",
    "\n",
    "Flat is better than nested.\n",
    "\n",
    "La capacidad de retención y comprensión de cada desarrollador es limitada, por tanto si se anidan las sentencias en vez de mantenerlas lo más planas posibles, se suele mermar la capacidad cansando al lector del código.\n",
    "\n",
    "Una forma de aplanar un código anidado es usando funciones planas y otra podría ser usando listas por comprensión, aunque la segunda opción suele quedar muy densa fácilmente."
   ]
  },
  {
   "cell_type": "code",
   "execution_count": null,
   "id": "gentle-geography",
   "metadata": {},
   "outputs": [],
   "source": [
    "# version anidada\n",
    "valores_ajustados = []\n",
    "for s in sistemas:\n",
    "    sensores = sensores_sistema(s)\n",
    "    for sensor in sensores:\n",
    "        valores_s = valores_sensor(sensor)\n",
    "        for val in valores_s:\n",
    "            valores_ajustados.append(ajustar_valor(val))\n",
    "\n",
    "# version aplanada pero densa\n",
    "valores_ajustados = [ajustar_valor(val) for val in valores_sensor(sensor) for sensor in sensores_sistema(s) for s in sistemas]\n",
    "\n",
    "# version en funciones simples, testeables y escalables\n",
    "def valores_del_sistema_ajustados(sistemas):\n",
    "    for sistema in sistemas:\n",
    "        yield valores_sistema(sistema)\n",
    "\n",
    "def valores_sistema(sistema):\n",
    "    for sensores in sistema:\n",
    "        yield valores_sensores(sensores)\n",
    "\n",
    "def valores_sensores(sensores):\n",
    "    for sensor in sensores:\n",
    "        yield valores_sensor_ajustados(sensor)\n",
    "\n",
    "def valores_sensor_ajustados(sensor):\n",
    "    for valor in valores_sensor(sensor):\n",
    "        yield ajustar_valor(valor)"
   ]
  },
  {
   "cell_type": "markdown",
   "id": "considerable-demand",
   "metadata": {},
   "source": [
    "6. #### Disperso es mejor que denso\n",
    "\n",
    "Sparse is better than dense\n",
    "\n",
    "Cuando se aumenta la densidad del código haciendo en pocas líneas muchas operaciones se puede hacer perder el foco del lector, por tanto es muy recomendable añadir espacios entre bloques lógicos."
   ]
  },
  {
   "cell_type": "code",
   "execution_count": null,
   "id": "arbitrary-memorabilia",
   "metadata": {},
   "outputs": [],
   "source": [
    "# version densa\n",
    "print(','.join(map(str, [x ** 2 for x in range(5)])))\n",
    "\n",
    "# version dispersa\n",
    "a = [x ** 2 for x in range(5)]\n",
    "b = map(str, a)\n",
    "c = ','.join(b)\n",
    "print(c)"
   ]
  },
  {
   "cell_type": "markdown",
   "id": "confused-bathroom",
   "metadata": {},
   "source": [
    "7. #### La legibilidad importa\n",
    "\n",
    "Readability counts.\n",
    "\n",
    "El código se escribe una vez pero se leen cientos de veces, por lo tanto es muy importante prestar especial atención a mejorar la legibilidad lo más posible, eligiendo los mejores nombres, separando funciones convenientemente o clases cuando son necesarios.\n",
    "\n",
    "Existen muchas técnicas para mejorarlo e incluso libros sobre este tema como los principios SOLID o los libros de Clean Code que son totalmente recomendables."
   ]
  },
  {
   "cell_type": "markdown",
   "id": "irish-warning",
   "metadata": {},
   "source": [
    "8. #### Los casos especiales no son lo suficientemente especiales para romper reglas\n",
    "\n",
    "Special cases aren’t special enough to break the rules\n",
    "\n",
    "Cuando se definen unas reglas hay que cumplirlas, de lo contrario no tienen razón de existir. Los casos “especiales” son la excusa que se pone para romper las reglas pero realmente son sinónimo de “conozco las reglas pero en vez de cambiar el código para cumplirarlas, prefiero romperlas”, lo que debería de ser inadmisible dado que a la larga (conlleva al desastre)."
   ]
  },
  {
   "cell_type": "markdown",
   "id": "round-surname",
   "metadata": {},
   "source": [
    "9. #### Practicidad vence a la pureza\n",
    "\n",
    "Although practicality beats purity\n",
    "\n",
    "En multitud de ocasiones nos encontramos en la situación de querer escribir el código más puro, que sigue todos los patrones de diseño “a raja tabla” y que conlleva a que los sistemas sean demasiado genéricos o que se tarden una eternidad en desarrollar, es muy importante encontrar un equilibrio entre lo que es práctico (e importante) y la pureza."
   ]
  },
  {
   "cell_type": "markdown",
   "id": "embedded-amendment",
   "metadata": {},
   "source": [
    "10. #### Los errores nunca deberían de ocurrir silenciosamente\n",
    "\n",
    "Errors should never pass silently.\n",
    "\n",
    "Cuando se trabaja bajo presión y se encuentran errores se tienden a ocultar o a tomar medidas demasiado drásticas como la siguiente:"
   ]
  },
  {
   "cell_type": "code",
   "execution_count": null,
   "id": "fancy-romantic",
   "metadata": {},
   "outputs": [],
   "source": [
    "try:\n",
    "    codigo_erroneo()\n",
    "except Exception:\n",
    "   pass"
   ]
  },
  {
   "cell_type": "markdown",
   "id": "naughty-tiger",
   "metadata": {},
   "source": [
    "O lo que es lo mismo “se que este código falla de vez en cuando, cuando lo haga sigue sin más”, esto no es solo un antipatrón sino que demuestra apatía y una desgana de hacer código profesionalmente. Si hay un error debe ser visible para poder ser arreglado."
   ]
  },
  {
   "cell_type": "markdown",
   "id": "unauthorized-swimming",
   "metadata": {},
   "source": [
    "11. #### A no ser que se silencien explícitamente\n",
    "\n",
    "Unless explicitly silenced\n",
    "\n",
    "Existen excepciones al caso anterior que se dan cuando se ha estudiado la situación, se conoce el error y explícitamente se silencia (o se actúa en consecuencia).\n",
    "\n",
    "Si el error que se ha detectado es un ValueError (por ejemplo) pero se sabe que no es problemático, se debe de manejar adecuadamente, incluso pudiendo ser silenciado."
   ]
  },
  {
   "cell_type": "markdown",
   "id": "present-digest",
   "metadata": {},
   "source": [
    "12. #### En el caso de ambigüedad, rechaza la tentación de adivinar\n",
    "\n",
    "In the face of ambiguity, refuse the temptation to guess\n",
    "\n",
    "Este concepto aplica a muchos ámbitos del desarrollo, es mucho mejor tener claro qué se está construyendo y poder crear tests, que exactamente definan y comprueben el buen comportamiento del sistema, eliminando cualquier ambigüedad."
   ]
  },
  {
   "cell_type": "markdown",
   "id": "bright-movement",
   "metadata": {},
   "source": [
    "13. #### Debería de haber una – y preferiblemente sólo una – forma obvia de hacerlo\n",
    "There should be one– and preferably only one –obvious way to do it\n",
    "\n",
    "Si la forma de implementar el problema no parece obvia, quizás no sea la más correcta y haya que seguir pensando en otra opción."
   ]
  },
  {
   "cell_type": "markdown",
   "id": "important-hawaiian",
   "metadata": {},
   "source": [
    "14. #### Aunque la forma no parezca obvia a la primera, a no ser que seas Holandés\n",
    "Although that way may not be obvious at first unless you’re Dutch\n",
    "\n",
    "Es normal que no aparezca la forma obvia la primera vez que piensa la solución, por lo que puede requerir de un método iterativo.\n",
    "\n",
    "El guiño que se añade en esta regla sobre los holandeses hace referencia la nacionalidad del Dictador Benevolente y creador de Python Guido van Rossum."
   ]
  },
  {
   "cell_type": "markdown",
   "id": "emotional-arbor",
   "metadata": {},
   "source": [
    "15. #### Ahora es mejor que nunca\n",
    "\n",
    "Now is better than never\n",
    "\n",
    "En el desarrollo de software siempre hay tareas que realizar y si no se priorizan las tareas importantes para hacerlas cuando salen los problemas, estos pueden alargarse en el tiempo hasta no hacerlas nunca."
   ]
  },
  {
   "cell_type": "markdown",
   "id": "suitable-appointment",
   "metadata": {},
   "source": [
    "16. #### Aunque nunca es a menudo mejor que ahora mismo\n",
    "\n",
    "Although never is often better than right now\n",
    "\n",
    "Quiere decir que no hay que forzar la realización de tareas tanto como para dejar lo que se está desarrollando actualmente, para desarrollar una tarea nueva, evitando así el cambio de contexto."
   ]
  },
  {
   "cell_type": "markdown",
   "id": "higher-taylor",
   "metadata": {},
   "source": [
    "17. #### Si la implementación es difícil de explicar, es una mala idea\n",
    "\n",
    "If the implementation is hard to explain, it’s a bad idea\n",
    "\n",
    "Esta regla suele aplicarse en muchos ámbitos en general, dado que si no eres capaz de explicar la idea de forma simple es que no la visualizas de forma simple por lo que quizás sea necesario consensuar la solución hasta tenerla clara."
   ]
  },
  {
   "cell_type": "markdown",
   "id": "generic-location",
   "metadata": {},
   "source": [
    "18. #### Si la implementación es fácil de explicar, es una buena idea\n",
    "\n",
    "If the implementation is easy to explain, it may be a good idea\n",
    "\n",
    "Cuando se puede explicar la idea a cualquier otra persona (o patito de goma) suele ser síntoma de tener los conceptos claros y de ser una solución genial."
   ]
  },
  {
   "cell_type": "markdown",
   "id": "bigger-contest",
   "metadata": {},
   "source": [
    "19. #### Los espacios de nombres son una buena idea, ¡usemos más de ellos!\n",
    "\n",
    "Namespaces are one honking great idea — let’s do more of those!\n",
    "\n",
    "Los espacios de nombres son una colección de nombres. Diferentes espacios de nombres pueden coexistir en un momento dado, pero están completamente aislados. Estos crean un sistema en Python que evita que los nombres de un módulo entren en conflicto con los nombres de otro."
   ]
  },
  {
   "cell_type": "markdown",
   "id": "forty-equivalent",
   "metadata": {},
   "source": []
  }
 ],
 "metadata": {
  "kernelspec": {
   "display_name": "Python 3",
   "language": "python",
   "name": "python3"
  },
  "language_info": {
   "codemirror_mode": {
    "name": "ipython",
    "version": 3
   },
   "file_extension": ".py",
   "mimetype": "text/x-python",
   "name": "python",
   "nbconvert_exporter": "python",
   "pygments_lexer": "ipython3",
   "version": "3.9.1"
  }
 },
 "nbformat": 4,
 "nbformat_minor": 5
}
