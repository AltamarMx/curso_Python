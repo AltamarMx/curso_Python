{
 "cells": [
  {
   "cell_type": "code",
   "execution_count": 1,
   "metadata": {},
   "outputs": [],
   "source": [
    "import numpy as np\n",
    "import matplotlib.pyplot as plt\n",
    "from ipywidgets import interact\n"
   ]
  },
  {
   "cell_type": "code",
   "execution_count": 2,
   "metadata": {},
   "outputs": [],
   "source": [
    "archivo = \"../data/mapa.ill\"\n",
    "datos  = np.genfromtxt(archivo,skip_header=4,delimiter=\",\")\n"
   ]
  },
  {
   "cell_type": "code",
   "execution_count": 3,
   "metadata": {},
   "outputs": [],
   "source": [
    "# eliminar los datos que no necesito, como mes, dia hora, etc\n",
    "todos = datos[:,6:].copy()"
   ]
  },
  {
   "cell_type": "code",
   "execution_count": 4,
   "metadata": {},
   "outputs": [],
   "source": [
    "illuminancia  = todos.reshape((365,24,11,11))"
   ]
  },
  {
   "cell_type": "code",
   "execution_count": 11,
   "metadata": {},
   "outputs": [
    {
     "data": {
      "text/plain": [
       "array([[0., 0., 0., 0., 0., 0., 0., 0., 0., 0., 0.],\n",
       "       [0., 0., 0., 0., 0., 0., 0., 0., 0., 0., 0.],\n",
       "       [0., 0., 0., 0., 0., 0., 0., 0., 0., 0., 0.],\n",
       "       [0., 0., 0., 0., 0., 0., 0., 0., 0., 0., 0.],\n",
       "       [0., 0., 0., 0., 0., 0., 0., 0., 0., 0., 0.],\n",
       "       [0., 0., 0., 0., 0., 0., 0., 0., 0., 0., 0.],\n",
       "       [0., 0., 0., 0., 0., 0., 0., 0., 0., 0., 0.],\n",
       "       [0., 0., 0., 0., 0., 0., 0., 0., 0., 0., 0.],\n",
       "       [0., 0., 0., 0., 0., 0., 0., 0., 0., 0., 0.],\n",
       "       [0., 0., 0., 0., 0., 0., 0., 0., 0., 0., 0.],\n",
       "       [0., 0., 0., 0., 0., 0., 0., 0., 0., 0., 0.]])"
      ]
     },
     "execution_count": 11,
     "metadata": {},
     "output_type": "execute_result"
    }
   ],
   "source": [
    "under = 300.\n",
    "over  = 1500.\n",
    "hora_inicio = 8\n",
    "hora_final  = 18\n",
    "tiempo      = (hora_final - hora_inicio) * 365\n",
    "\n",
    "\n",
    "UDI_under = np.zeros((11,11))\n",
    "UDI_under\n",
    "\n",
    "\n"
   ]
  },
  {
   "cell_type": "code",
   "execution_count": 52,
   "metadata": {},
   "outputs": [
    {
     "data": {
      "text/plain": [
       "array([[100., 100., 100., 100., 100., 100., 100., 100., 100., 100., 100.],\n",
       "       [100., 100., 100., 100., 100., 100., 100., 100., 100., 100., 100.],\n",
       "       [100., 100., 100., 100., 100., 100., 100., 100., 100., 100., 100.],\n",
       "       [100., 100., 100., 100., 100., 100., 100., 100., 100., 100., 100.],\n",
       "       [100., 100., 100., 100., 100., 100., 100., 100., 100., 100., 100.],\n",
       "       [100., 100., 100., 100., 100., 100., 100., 100., 100., 100., 100.],\n",
       "       [100., 100., 100., 100., 100., 100., 100., 100., 100., 100., 100.],\n",
       "       [100., 100., 100., 100., 100., 100., 100., 100., 100., 100., 100.],\n",
       "       [100., 100., 100., 100., 100., 100., 100., 100., 100., 100., 100.],\n",
       "       [100., 100., 100., 100., 100., 100., 100., 100., 100., 100., 100.],\n",
       "       [100., 100., 100., 100., 100., 100., 100., 100., 100., 100., 100.]])"
      ]
     },
     "execution_count": 52,
     "metadata": {},
     "output_type": "execute_result"
    }
   ],
   "source": [
    "\n",
    "UDI_under  = np.zeros((11,11))\n",
    "UDI_useful = np.zeros((11,11))\n",
    "UDI_over   = np.zeros((11,11))\n",
    "\n",
    "_,_,x,y = illuminancia.shape\n",
    "for day in range(365):\n",
    "    for hora in range(hora_inicio, hora_final):\n",
    "#         print(hora)\n",
    "        for i in range(x):\n",
    "            for j in range(y):\n",
    "                if illuminancia[day,hora,i,j] < under:\n",
    "                    UDI_under[i,j] += 1 \n",
    "                    \n",
    "                if (illuminancia[day,hora,i,j] >= under) & (illuminancia[day,hora,i,j] <= over)  :\n",
    "                    UDI_useful[i,j] += 1 \n",
    "                    \n",
    "                if illuminancia[day,hora,i,j] > over:\n",
    "                    UDI_over[i,j] += 1 \n",
    "\n",
    "UDI_under  = UDI_under / tiempo * 100\n",
    "UDI_useful = UDI_useful / tiempo * 100\n",
    "UDI_over   = UDI_over / tiempo * 100\n",
    "UDI_under + UDI_useful + UDI_over\n"
   ]
  },
  {
   "cell_type": "code",
   "execution_count": 75,
   "metadata": {},
   "outputs": [
    {
     "data": {
      "text/plain": [
       "array([[ True,  True,  True, False, False, False, False,  True,  True,\n",
       "         True,  True],\n",
       "       [ True,  True, False, False, False, False, False, False,  True,\n",
       "         True,  True],\n",
       "       [ True,  True,  True, False, False, False, False, False,  True,\n",
       "         True,  True],\n",
       "       [ True,  True,  True,  True,  True,  True,  True,  True,  True,\n",
       "         True,  True],\n",
       "       [ True,  True,  True,  True,  True,  True,  True,  True,  True,\n",
       "         True,  True],\n",
       "       [ True,  True,  True,  True,  True,  True,  True,  True,  True,\n",
       "         True,  True],\n",
       "       [ True,  True,  True,  True,  True,  True,  True,  True,  True,\n",
       "         True,  True],\n",
       "       [ True,  True,  True,  True,  True,  True,  True,  True,  True,\n",
       "         True,  True],\n",
       "       [ True,  True,  True,  True,  True,  True,  True,  True,  True,\n",
       "         True,  True],\n",
       "       [ True,  True,  True,  True,  True,  True,  True,  True,  True,\n",
       "         True,  True],\n",
       "       [ True,  True,  True,  True,  True,  True,  True,  True,  True,\n",
       "         True,  True]])"
      ]
     },
     "execution_count": 75,
     "metadata": {},
     "output_type": "execute_result"
    }
   ],
   "source": [
    "(illuminancia[0][11] < under) "
   ]
  },
  {
   "cell_type": "code",
   "execution_count": 42,
   "metadata": {},
   "outputs": [
    {
     "data": {
      "text/plain": [
       "array([[1., 1., 1., 0., 0., 0., 0., 1., 1., 1., 1.],\n",
       "       [1., 1., 0., 0., 0., 0., 0., 0., 1., 1., 1.],\n",
       "       [1., 1., 1., 0., 0., 0., 0., 0., 1., 1., 1.],\n",
       "       [1., 1., 1., 1., 1., 1., 1., 1., 1., 1., 1.],\n",
       "       [1., 1., 1., 1., 1., 1., 1., 1., 1., 1., 1.],\n",
       "       [1., 1., 1., 1., 1., 1., 1., 1., 1., 1., 1.],\n",
       "       [1., 1., 1., 1., 1., 1., 1., 1., 1., 1., 1.],\n",
       "       [1., 1., 1., 1., 1., 1., 1., 1., 1., 1., 1.],\n",
       "       [1., 1., 1., 1., 1., 1., 1., 1., 1., 1., 1.],\n",
       "       [1., 1., 1., 1., 1., 1., 1., 1., 1., 1., 1.],\n",
       "       [1., 1., 1., 1., 1., 1., 1., 1., 1., 1., 1.]])"
      ]
     },
     "execution_count": 42,
     "metadata": {},
     "output_type": "execute_result"
    }
   ],
   "source": [
    "(illuminancia[0][11] < under) * np.ones((11,11))"
   ]
  },
  {
   "cell_type": "code",
   "execution_count": 43,
   "metadata": {},
   "outputs": [
    {
     "data": {
      "text/plain": [
       "array([[0., 0., 0., 1., 1., 1., 1., 0., 0., 0., 0.],\n",
       "       [0., 0., 1., 1., 1., 1., 1., 1., 0., 0., 0.],\n",
       "       [0., 0., 0., 1., 1., 1., 1., 1., 0., 0., 0.],\n",
       "       [0., 0., 0., 0., 0., 0., 0., 0., 0., 0., 0.],\n",
       "       [0., 0., 0., 0., 0., 0., 0., 0., 0., 0., 0.],\n",
       "       [0., 0., 0., 0., 0., 0., 0., 0., 0., 0., 0.],\n",
       "       [0., 0., 0., 0., 0., 0., 0., 0., 0., 0., 0.],\n",
       "       [0., 0., 0., 0., 0., 0., 0., 0., 0., 0., 0.],\n",
       "       [0., 0., 0., 0., 0., 0., 0., 0., 0., 0., 0.],\n",
       "       [0., 0., 0., 0., 0., 0., 0., 0., 0., 0., 0.],\n",
       "       [0., 0., 0., 0., 0., 0., 0., 0., 0., 0., 0.]])"
      ]
     },
     "execution_count": 43,
     "metadata": {},
     "output_type": "execute_result"
    }
   ],
   "source": [
    "((illuminancia[0][11] >= under) & (illuminancia[0][11] <= over )  ) * np.ones((11,11))"
   ]
  },
  {
   "cell_type": "code",
   "execution_count": 53,
   "metadata": {},
   "outputs": [
    {
     "data": {
      "text/plain": [
       "array([[100., 100., 100., 100., 100., 100., 100., 100., 100., 100., 100.],\n",
       "       [100., 100., 100., 100., 100., 100., 100., 100., 100., 100., 100.],\n",
       "       [100., 100., 100., 100., 100., 100., 100., 100., 100., 100., 100.],\n",
       "       [100., 100., 100., 100., 100., 100., 100., 100., 100., 100., 100.],\n",
       "       [100., 100., 100., 100., 100., 100., 100., 100., 100., 100., 100.],\n",
       "       [100., 100., 100., 100., 100., 100., 100., 100., 100., 100., 100.],\n",
       "       [100., 100., 100., 100., 100., 100., 100., 100., 100., 100., 100.],\n",
       "       [100., 100., 100., 100., 100., 100., 100., 100., 100., 100., 100.],\n",
       "       [100., 100., 100., 100., 100., 100., 100., 100., 100., 100., 100.],\n",
       "       [100., 100., 100., 100., 100., 100., 100., 100., 100., 100., 100.],\n",
       "       [100., 100., 100., 100., 100., 100., 100., 100., 100., 100., 100.]])"
      ]
     },
     "execution_count": 53,
     "metadata": {},
     "output_type": "execute_result"
    }
   ],
   "source": [
    "\n",
    "UDI_under  = np.zeros((11,11))\n",
    "UDI_useful = np.zeros((11,11))\n",
    "UDI_over   = np.zeros((11,11))\n",
    "\n",
    "\n",
    "for dia in range(365):\n",
    "    for hora in range(hora_inicio,hora_final):\n",
    "            UDI_under += (illuminancia[dia][hora] < under) * np.ones((11,11))\n",
    "            UDI_useful  += ((illuminancia[dia][hora] >= under) & (illuminancia[dia][hora] <= over )  ) * np.ones((11,11))\n",
    "            UDI_over += (illuminancia[dia][hora] > over) * np.ones((11,11))\n",
    "\n",
    "            \n",
    "\n",
    "            \n",
    "UDI_under   = UDI_under /  tiempo * 100\n",
    "UDI_useful  = UDI_useful / tiempo * 100\n",
    "UDI_over    = UDI_over / tiempo * 100\n",
    "UDI_under + UDI_useful + UDI_over\n",
    "\n",
    "\n"
   ]
  },
  {
   "cell_type": "code",
   "execution_count": 69,
   "metadata": {
    "scrolled": true
   },
   "outputs": [
    {
     "data": {
      "image/png": "[encoded data removed]",
      "text/plain": [
       "<Figure size 720x288 with 4 Axes>"
      ]
     },
     "metadata": {
      "needs_background": "light"
     },
     "output_type": "display_data"
    }
   ],
   "source": [
    "def UDI(under=300,over=1500, hora_inicio=8,hora_final=18):\n",
    "    UDI_under  = np.zeros((11,11))\n",
    "    UDI_useful = np.zeros((11,11))\n",
    "    UDI_over   = np.zeros((11,11))\n",
    "\n",
    "\n",
    "    for dia in range(365):\n",
    "        for hora in range(hora_inicio,hora_final):\n",
    "                UDI_under += (illuminancia[dia][hora] < under) * np.ones((11,11))\n",
    "                UDI_useful  += ((illuminancia[dia][hora] >= under) & (illuminancia[dia][hora] <= over )  ) * np.ones((11,11))\n",
    "                UDI_over += (illuminancia[dia][hora] > over) * np.ones((11,11))\n",
    "\n",
    "\n",
    "\n",
    "\n",
    "    UDI_under   = UDI_under /  tiempo * 100\n",
    "    UDI_useful  = UDI_useful / tiempo * 100\n",
    "    UDI_over    = UDI_over / tiempo * 100\n",
    "    check_UDI   = UDI_under + UDI_useful + UDI_over\n",
    "    \n",
    "    fig, ax  = plt.subplots(1,3,figsize=(10,4))\n",
    "    barra = ax[0].imshow(UDI_under ,cmap=\"jet\",vmin=0,vmax=100)\n",
    "    ax[1].imshow(UDI_useful,cmap=\"jet\",vmin=0,vmax=100)\n",
    "    ax[2].imshow(UDI_over  ,cmap=\"jet\",vmin=0,vmax=100)\n",
    "#     ax[3].imshow(check_UDI ,cmap=\"jet\",vmin=0,vmax=100)\n",
    "    cb_ax = fig.add_axes([.95,0,0.01,1])\n",
    "    cbar = fig.colorbar(barra,cax=cb_ax)\n",
    "UDI()"
   ]
  },
  {
   "cell_type": "code",
   "execution_count": 74,
   "metadata": {},
   "outputs": [
    {
     "data": {
      "application/vnd.jupyter.widget-view+json": {
       "model_id": "3f64b2958aea4ab4b5c7201dcd25e4ff",
       "version_major": 2,
       "version_minor": 0
      },
      "text/plain": [
       "interactive(children=(IntSlider(value=300, description='under', max=500, min=10, step=10), IntSlider(value=150…"
      ]
     },
     "metadata": {},
     "output_type": "display_data"
    },
    {
     "data": {
      "text/plain": [
       "<function __main__.UDI(under=300, over=1500, hora_inicio=8, hora_final=18)>"
      ]
     },
     "execution_count": 74,
     "metadata": {},
     "output_type": "execute_result"
    }
   ],
   "source": [
    "def UDI(under=300,over=1500, hora_inicio=8,hora_final=18):\n",
    "    UDI_under  = np.zeros((11,11))\n",
    "    UDI_useful = np.zeros((11,11))\n",
    "    UDI_over   = np.zeros((11,11))\n",
    "\n",
    "\n",
    "    for dia in range(365):\n",
    "        for hora in range(hora_inicio,hora_final):\n",
    "                UDI_under += (illuminancia[dia][hora] < under) * np.ones((11,11))\n",
    "                UDI_useful  += ((illuminancia[dia][hora] >= under) & (illuminancia[dia][hora] <= over )  ) * np.ones((11,11))\n",
    "                UDI_over += (illuminancia[dia][hora] > over) * np.ones((11,11))\n",
    "\n",
    "\n",
    "\n",
    "\n",
    "    UDI_under   = UDI_under /  tiempo * 100\n",
    "    UDI_useful  = UDI_useful / tiempo * 100\n",
    "    UDI_over    = UDI_over / tiempo * 100\n",
    "    check_UDI   = UDI_under + UDI_useful + UDI_over\n",
    "    \n",
    "    fig, ax  = plt.subplots(1,3,figsize=(10,4))\n",
    "    barra = ax[0].imshow(UDI_under ,cmap=\"jet\",vmin=0,vmax=100)\n",
    "    ax[1].imshow(UDI_useful,cmap=\"jet\",vmin=0,vmax=100)\n",
    "    ax[2].imshow(UDI_over  ,cmap=\"jet\",vmin=0,vmax=100)\n",
    "#     ax[3].imshow(check_UDI ,cmap=\"jet\",vmin=0,vmax=100)\n",
    "    cb_ax = fig.add_axes([.95,0,0.01,1])\n",
    "    cbar = fig.colorbar(barra,cax=cb_ax)\n",
    "\n",
    "    \n",
    "interact(UDI,under=(10,500,10),over=(1000,2500,100),hora_inicio=(5,10,1),hora_final=(15,18,1))"
   ]
  },
  {
   "cell_type": "code",
   "execution_count": null,
   "metadata": {},
   "outputs": [],
   "source": []
  }
 ],
 "metadata": {
  "kernelspec": {
   "display_name": "Python 3",
   "language": "python",
   "name": "python3"
  },
  "language_info": {
   "codemirror_mode": {
    "name": "ipython",
    "version": 3
   },
   "file_extension": ".py",
   "mimetype": "text/x-python",
   "name": "python",
   "nbconvert_exporter": "python",
   "pygments_lexer": "ipython3",
   "version": "3.8.5"
  }
 },
 "nbformat": 4,
 "nbformat_minor": 5
}
