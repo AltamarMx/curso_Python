{
 "cells": [
  {
   "cell_type": "code",
   "execution_count": 2,
   "id": "baking-trust",
   "metadata": {},
   "outputs": [],
   "source": [
    "import numpy as np\n",
    "import matplotlib.pyplot as plt"
   ]
  },
  {
   "cell_type": "markdown",
   "id": "modular-rainbow",
   "metadata": {},
   "source": [
    "* random arrays\n",
    "* index \n",
    "* shape\n",
    "* reshape\n"
   ]
  },
  {
   "cell_type": "code",
   "execution_count": 3,
   "id": "parallel-inquiry",
   "metadata": {},
   "outputs": [
    {
     "name": "stdout",
     "output_type": "stream",
     "text": [
      "<class 'list'>\n",
      "<class 'numpy.ndarray'>\n"
     ]
    }
   ],
   "source": [
    "lista = [1,2,4,5]\n",
    "print(type(lista))\n",
    "lista = np.array(lista)\n",
    "print(type(lista))\n"
   ]
  },
  {
   "cell_type": "code",
   "execution_count": 8,
   "id": "rocky-national",
   "metadata": {},
   "outputs": [
    {
     "data": {
      "text/plain": [
       "array([0., 0., 0., 0., 0., 0., 0., 0., 0., 0., 0., 0., 0., 0., 0., 0., 0.,\n",
       "       0., 0., 0.])"
      ]
     },
     "execution_count": 8,
     "metadata": {},
     "output_type": "execute_result"
    }
   ],
   "source": [
    "# a = [0,0,0]\n",
    "a = np.zeros(20)\n",
    "a"
   ]
  },
  {
   "cell_type": "code",
   "execution_count": 12,
   "id": "molecular-partner",
   "metadata": {},
   "outputs": [
    {
     "data": {
      "text/plain": [
       "array([[0., 0.],\n",
       "       [0., 0.]])"
      ]
     },
     "execution_count": 12,
     "metadata": {},
     "output_type": "execute_result"
    }
   ],
   "source": [
    "a = np.zeros((2,2))\n",
    "a"
   ]
  },
  {
   "cell_type": "code",
   "execution_count": 13,
   "id": "handy-notification",
   "metadata": {},
   "outputs": [
    {
     "data": {
      "text/plain": [
       "array([[0, 0, 0, 0],\n",
       "       [0, 0, 0, 0],\n",
       "       [0, 0, 0, 0],\n",
       "       [0, 0, 0, 0]])"
      ]
     },
     "execution_count": 13,
     "metadata": {},
     "output_type": "execute_result"
    }
   ],
   "source": [
    "a = np.zeros((4,4),dtype=int)\n",
    "a"
   ]
  },
  {
   "cell_type": "code",
   "execution_count": 15,
   "id": "consistent-recipient",
   "metadata": {},
   "outputs": [
    {
     "data": {
      "text/plain": [
       "array([[1., 1.],\n",
       "       [1., 1.]])"
      ]
     },
     "execution_count": 15,
     "metadata": {},
     "output_type": "execute_result"
    }
   ],
   "source": [
    "unos = np.ones((2,2))\n",
    "unos"
   ]
  },
  {
   "cell_type": "code",
   "execution_count": 18,
   "id": "detailed-listing",
   "metadata": {},
   "outputs": [
    {
     "data": {
      "text/plain": [
       "array([[3.14159265, 3.14159265, 3.14159265],\n",
       "       [3.14159265, 3.14159265, 3.14159265],\n",
       "       [3.14159265, 3.14159265, 3.14159265]])"
      ]
     },
     "execution_count": 18,
     "metadata": {},
     "output_type": "execute_result"
    }
   ],
   "source": [
    "pis = np.full((3,3),np.pi)\n",
    "pis"
   ]
  },
  {
   "cell_type": "code",
   "execution_count": 23,
   "id": "minute-concord",
   "metadata": {},
   "outputs": [
    {
     "data": {
      "text/plain": [
       "array([[1., 0., 0., 0., 0.],\n",
       "       [0., 1., 0., 0., 0.],\n",
       "       [0., 0., 1., 0., 0.],\n",
       "       [0., 0., 0., 1., 0.],\n",
       "       [0., 0., 0., 0., 1.]])"
      ]
     },
     "execution_count": 23,
     "metadata": {},
     "output_type": "execute_result"
    }
   ],
   "source": [
    "diagonal = np.eye(5,dtype=np.float64)\n",
    "diagonal"
   ]
  },
  {
   "cell_type": "code",
   "execution_count": 84,
   "id": "another-stuff",
   "metadata": {},
   "outputs": [
    {
     "data": {
      "text/plain": [
       "array([[6, 2, 3, 6, 2],\n",
       "       [4, 3, 3, 5, 5],\n",
       "       [5, 7, 3, 8, 6],\n",
       "       [3, 9, 8, 3, 8],\n",
       "       [9, 1, 3, 5, 7]])"
      ]
     },
     "execution_count": 84,
     "metadata": {},
     "output_type": "execute_result"
    }
   ],
   "source": [
    "a = np.random.randint(10,size=(5,5))\n",
    "a"
   ]
  },
  {
   "cell_type": "code",
   "execution_count": 85,
   "id": "imported-split",
   "metadata": {},
   "outputs": [
    {
     "data": {
      "text/plain": [
       "array([[3, 8, 6],\n",
       "       [8, 3, 8],\n",
       "       [3, 5, 7]])"
      ]
     },
     "execution_count": 85,
     "metadata": {},
     "output_type": "execute_result"
    }
   ],
   "source": [
    "b = a[2:,2:].copy()\n",
    "b"
   ]
  },
  {
   "cell_type": "code",
   "execution_count": 86,
   "id": "lovely-influence",
   "metadata": {},
   "outputs": [
    {
     "data": {
      "text/plain": [
       "array([[ 6,  2,  3,  6,  2],\n",
       "       [ 4,  3,  3,  5,  5],\n",
       "       [ 5,  7, -1,  8,  6],\n",
       "       [ 3,  9,  8,  3,  8],\n",
       "       [ 9,  1,  3,  5,  7]])"
      ]
     },
     "execution_count": 86,
     "metadata": {},
     "output_type": "execute_result"
    }
   ],
   "source": [
    "a[2,2] = -1\n",
    "a"
   ]
  },
  {
   "cell_type": "code",
   "execution_count": 88,
   "id": "adopted-princess",
   "metadata": {},
   "outputs": [
    {
     "data": {
      "text/plain": [
       "array([[-1,  8,  6],\n",
       "       [ 8,  3,  8],\n",
       "       [ 3,  5,  7]])"
      ]
     },
     "execution_count": 88,
     "metadata": {},
     "output_type": "execute_result"
    }
   ],
   "source": [
    "b[0,0] = -1\n",
    "b"
   ]
  },
  {
   "cell_type": "code",
   "execution_count": 95,
   "id": "funded-origin",
   "metadata": {},
   "outputs": [
    {
     "data": {
      "text/plain": [
       "array([[1., 1., 1., 1., 1., 1., 1., 1., 1., 1.],\n",
       "       [1., 1., 1., 1., 1., 1., 1., 1., 1., 1.],\n",
       "       [1., 1., 1., 1., 1., 1., 1., 1., 1., 1.],\n",
       "       [1., 1., 1., 1., 1., 1., 1., 1., 1., 1.],\n",
       "       [1., 1., 1., 1., 1., 1., 1., 1., 1., 1.],\n",
       "       [1., 1., 1., 1., 1., 1., 1., 1., 1., 1.],\n",
       "       [1., 1., 1., 1., 1., 1., 1., 1., 1., 1.],\n",
       "       [1., 1., 1., 1., 1., 1., 1., 1., 1., 1.],\n",
       "       [1., 1., 1., 1., 1., 1., 1., 1., 1., 1.],\n",
       "       [1., 1., 1., 1., 1., 1., 1., 1., 1., 1.]])"
      ]
     },
     "execution_count": 95,
     "metadata": {},
     "output_type": "execute_result"
    }
   ],
   "source": [
    "c = np.ones((10,10))\n",
    "c"
   ]
  },
  {
   "cell_type": "code",
   "execution_count": 99,
   "id": "indirect-davis",
   "metadata": {},
   "outputs": [
    {
     "data": {
      "text/plain": [
       "array([[1., 1., 1., 1., 1., 1., 1., 1., 1., 1., 1., 1., 1., 1., 1., 1.,\n",
       "        1., 1., 1., 1., 1., 1., 1., 1., 1., 1., 1., 1., 1., 1., 1., 1.,\n",
       "        1., 1., 1., 1., 1., 1., 1., 1., 1., 1., 1., 1., 1., 1., 1., 1.,\n",
       "        1., 1., 1., 1., 1., 1., 1., 1., 1., 1., 1., 1., 1., 1., 1., 1.,\n",
       "        1., 1., 1., 1., 1., 1., 1., 1., 1., 1., 1., 1., 1., 1., 1., 1.,\n",
       "        1., 1., 1., 1., 1., 1., 1., 1., 1., 1., 1., 1., 1., 1., 1., 1.,\n",
       "        1., 1., 1., 1.]])"
      ]
     },
     "execution_count": 99,
     "metadata": {},
     "output_type": "execute_result"
    }
   ],
   "source": [
    "c.reshape((1,100),)\n"
   ]
  },
  {
   "cell_type": "code",
   "execution_count": 110,
   "id": "coordinate-intelligence",
   "metadata": {},
   "outputs": [],
   "source": [
    "b = np.random.randint(10,size=(1,100))\n",
    "c = b.reshape((10,10)).copy()\n"
   ]
  },
  {
   "cell_type": "code",
   "execution_count": 111,
   "id": "attempted-validity",
   "metadata": {},
   "outputs": [
    {
     "data": {
      "text/plain": [
       "array([[-1,  8,  7,  4,  4,  7,  8,  0,  7,  7,  2,  0,  5,  8,  8,  5,\n",
       "         9,  0,  2,  6,  3,  3,  9,  2,  2,  7,  6,  3,  0,  6,  7,  6,\n",
       "         0,  0,  9,  7,  0,  6,  8,  4,  8,  0,  1,  6,  0,  3,  2,  0,\n",
       "         9,  0,  4,  9,  3,  1,  6,  7,  6,  2,  2,  7,  1,  1,  2,  8,\n",
       "         1,  3,  0,  1,  5,  4,  9,  7,  5,  0,  4,  4,  1,  4,  4,  3,\n",
       "         2,  2,  8,  5,  5,  2,  1,  9,  8,  0,  7,  8,  2,  7,  0,  4,\n",
       "         1,  8,  2,  1]])"
      ]
     },
     "execution_count": 111,
     "metadata": {},
     "output_type": "execute_result"
    }
   ],
   "source": [
    "b[0,0] = -1\n",
    "b"
   ]
  },
  {
   "cell_type": "code",
   "execution_count": 112,
   "id": "aerial-framework",
   "metadata": {},
   "outputs": [
    {
     "data": {
      "text/plain": [
       "array([[3, 8, 7, 4, 4, 7, 8, 0, 7, 7],\n",
       "       [2, 0, 5, 8, 8, 5, 9, 0, 2, 6],\n",
       "       [3, 3, 9, 2, 2, 7, 6, 3, 0, 6],\n",
       "       [7, 6, 0, 0, 9, 7, 0, 6, 8, 4],\n",
       "       [8, 0, 1, 6, 0, 3, 2, 0, 9, 0],\n",
       "       [4, 9, 3, 1, 6, 7, 6, 2, 2, 7],\n",
       "       [1, 1, 2, 8, 1, 3, 0, 1, 5, 4],\n",
       "       [9, 7, 5, 0, 4, 4, 1, 4, 4, 3],\n",
       "       [2, 2, 8, 5, 5, 2, 1, 9, 8, 0],\n",
       "       [7, 8, 2, 7, 0, 4, 1, 8, 2, 1]])"
      ]
     },
     "execution_count": 112,
     "metadata": {},
     "output_type": "execute_result"
    }
   ],
   "source": [
    "c"
   ]
  },
  {
   "cell_type": "code",
   "execution_count": 115,
   "id": "binding-halifax",
   "metadata": {},
   "outputs": [
    {
     "data": {
      "text/plain": [
       "array([ 1,  2,  3,  3,  2,  1, 10, 20, 30])"
      ]
     },
     "execution_count": 115,
     "metadata": {},
     "output_type": "execute_result"
    }
   ],
   "source": [
    "x = np.array([1,2,3])\n",
    "y = np.array([3,2,1])\n",
    "z = np.array([10,20,30])\n",
    "np.concatenate([x,y,z])"
   ]
  },
  {
   "cell_type": "code",
   "execution_count": 116,
   "id": "strategic-group",
   "metadata": {},
   "outputs": [],
   "source": [
    "d= np.array([[1, 2, 3],\n",
    "        [4, 5, 6],\n",
    "        [1, 2, 3],\n",
    "        [4, 5, 6]])"
   ]
  },
  {
   "cell_type": "code",
   "execution_count": 117,
   "id": "complicated-pantyhose",
   "metadata": {},
   "outputs": [
    {
     "data": {
      "text/plain": [
       "array([[1, 2, 3],\n",
       "       [4, 5, 6],\n",
       "       [1, 2, 3],\n",
       "       [4, 5, 6],\n",
       "       [1, 2, 3],\n",
       "       [4, 5, 6],\n",
       "       [1, 2, 3],\n",
       "       [4, 5, 6]])"
      ]
     },
     "execution_count": 117,
     "metadata": {},
     "output_type": "execute_result"
    }
   ],
   "source": [
    "np.concatenate([d,d])"
   ]
  },
  {
   "cell_type": "code",
   "execution_count": 121,
   "id": "important-reporter",
   "metadata": {},
   "outputs": [
    {
     "data": {
      "text/plain": [
       "array([[1, 2, 3, 1, 2, 3],\n",
       "       [4, 5, 6, 4, 5, 6],\n",
       "       [1, 2, 3, 1, 2, 3],\n",
       "       [4, 5, 6, 4, 5, 6]])"
      ]
     },
     "execution_count": 121,
     "metadata": {},
     "output_type": "execute_result"
    }
   ],
   "source": [
    "np.concatenate([d,d],axis=1)"
   ]
  },
  {
   "cell_type": "code",
   "execution_count": 133,
   "id": "wired-position",
   "metadata": {},
   "outputs": [
    {
     "data": {
      "text/plain": [
       "array([[1, 2, 3],\n",
       "       [1, 2, 3],\n",
       "       [9, 8, 7],\n",
       "       [6, 5, 4]])"
      ]
     },
     "execution_count": 133,
     "metadata": {},
     "output_type": "execute_result"
    }
   ],
   "source": [
    "x = np.array([1,2,3])\n",
    "\n",
    "grid = np.array([[9,8,7],\n",
    "                 [6,5,4]\n",
    "                ])\n",
    "d = np.vstack([x,x,grid])\n",
    "d"
   ]
  },
  {
   "cell_type": "code",
   "execution_count": 149,
   "id": "minimal-peeing",
   "metadata": {},
   "outputs": [],
   "source": [
    "d1,d2,d3,_ = np.vsplit(d,4)"
   ]
  },
  {
   "cell_type": "code",
   "execution_count": 143,
   "id": "virgin-queensland",
   "metadata": {},
   "outputs": [
    {
     "data": {
      "text/plain": [
       "array([[1, 2, 3]])"
      ]
     },
     "execution_count": 143,
     "metadata": {},
     "output_type": "execute_result"
    }
   ],
   "source": [
    "d1"
   ]
  },
  {
   "cell_type": "code",
   "execution_count": 144,
   "id": "meaning-quest",
   "metadata": {},
   "outputs": [
    {
     "data": {
      "text/plain": [
       "array([[1, 2, 3]])"
      ]
     },
     "execution_count": 144,
     "metadata": {},
     "output_type": "execute_result"
    }
   ],
   "source": [
    "d2"
   ]
  },
  {
   "cell_type": "code",
   "execution_count": 145,
   "id": "prepared-fiction",
   "metadata": {},
   "outputs": [
    {
     "data": {
      "text/plain": [
       "array([[9, 8, 7]])"
      ]
     },
     "execution_count": 145,
     "metadata": {},
     "output_type": "execute_result"
    }
   ],
   "source": [
    "d3"
   ]
  },
  {
   "cell_type": "code",
   "execution_count": 150,
   "id": "french-animal",
   "metadata": {},
   "outputs": [
    {
     "data": {
      "text/plain": [
       "array([[6, 5, 4]])"
      ]
     },
     "execution_count": 150,
     "metadata": {},
     "output_type": "execute_result"
    }
   ],
   "source": [
    "_"
   ]
  },
  {
   "cell_type": "code",
   "execution_count": 161,
   "id": "rational-competition",
   "metadata": {},
   "outputs": [
    {
     "data": {
      "text/plain": [
       "[array([1, 2]), array([ 3, 99]), array([99,  3]), array([2, 1])]"
      ]
     },
     "execution_count": 161,
     "metadata": {},
     "output_type": "execute_result"
    }
   ],
   "source": [
    "x=[1,2,3,99,99,3,2,1]\n",
    "np.split(x, [2,4,6])\n"
   ]
  },
  {
   "cell_type": "code",
   "execution_count": 160,
   "id": "corresponding-signature",
   "metadata": {},
   "outputs": [
    {
     "data": {
      "text/plain": [
       "([1, 2, 3], [99, 99], [3, 2, 1])"
      ]
     },
     "execution_count": 160,
     "metadata": {},
     "output_type": "execute_result"
    }
   ],
   "source": [
    "x[:3],x[3:5],x[5:]\n"
   ]
  },
  {
   "cell_type": "code",
   "execution_count": 164,
   "id": "rising-freedom",
   "metadata": {},
   "outputs": [
    {
     "data": {
      "text/plain": [
       "array([1.        , 1.41421356, 1.73205081, 9.94987437, 9.94987437,\n",
       "       1.73205081, 1.41421356, 1.        ])"
      ]
     },
     "execution_count": 164,
     "metadata": {},
     "output_type": "execute_result"
    }
   ],
   "source": [
    "np.sqrt(x)\n"
   ]
  },
  {
   "cell_type": "code",
   "execution_count": 165,
   "id": "voluntary-alexandria",
   "metadata": {},
   "outputs": [
    {
     "data": {
      "text/plain": [
       "array([ 0.84147098,  0.90929743,  0.14112001, -0.99920683, -0.99920683,\n",
       "        0.14112001,  0.90929743,  0.84147098])"
      ]
     },
     "execution_count": 165,
     "metadata": {},
     "output_type": "execute_result"
    }
   ],
   "source": [
    "np.sin(x)"
   ]
  },
  {
   "cell_type": "code",
   "execution_count": 166,
   "id": "realistic-abraham",
   "metadata": {},
   "outputs": [
    {
     "data": {
      "text/plain": [
       "array([0.        , 1.3169579 , 1.76274717, 5.28824152, 5.28824152,\n",
       "       1.76274717, 1.3169579 , 0.        ])"
      ]
     },
     "execution_count": 166,
     "metadata": {},
     "output_type": "execute_result"
    }
   ],
   "source": [
    "np.arccosh(x)"
   ]
  },
  {
   "cell_type": "code",
   "execution_count": 167,
   "id": "engaged-spiritual",
   "metadata": {},
   "outputs": [
    {
     "data": {
      "text/plain": [
       "array([2.71828183e+00, 7.38905610e+00, 2.00855369e+01, 9.88903032e+42,\n",
       "       9.88903032e+42, 2.00855369e+01, 7.38905610e+00, 2.71828183e+00])"
      ]
     },
     "execution_count": 167,
     "metadata": {},
     "output_type": "execute_result"
    }
   ],
   "source": [
    "np.exp(x)"
   ]
  },
  {
   "cell_type": "code",
   "execution_count": 170,
   "id": "public-orchestra",
   "metadata": {},
   "outputs": [
    {
     "data": {
      "text/plain": [
       "array([100,   2,   3,  99,  99,   3,   2,   1])"
      ]
     },
     "execution_count": 170,
     "metadata": {},
     "output_type": "execute_result"
    }
   ],
   "source": [
    "x[0] = -100\n",
    "np.abs(x)"
   ]
  },
  {
   "cell_type": "code",
   "execution_count": 171,
   "id": "superb-metro",
   "metadata": {},
   "outputs": [
    {
     "data": {
      "text/plain": [
       "[-100, 2, 3, 99, 99, 3, 2, 1]"
      ]
     },
     "execution_count": 171,
     "metadata": {},
     "output_type": "execute_result"
    }
   ],
   "source": [
    "x"
   ]
  },
  {
   "cell_type": "code",
   "execution_count": 173,
   "id": "outer-mexican",
   "metadata": {},
   "outputs": [
    {
     "data": {
      "text/plain": [
       "array([10000,     4,     9,  9801,  9801,     9,     4,     1])"
      ]
     },
     "execution_count": 173,
     "metadata": {},
     "output_type": "execute_result"
    }
   ],
   "source": [
    "np.power(x,2)"
   ]
  },
  {
   "cell_type": "code",
   "execution_count": 175,
   "id": "recreational-recording",
   "metadata": {},
   "outputs": [
    {
     "data": {
      "text/plain": [
       "array([[ 1,  4,  9],\n",
       "       [ 1,  4,  9],\n",
       "       [81, 64, 49],\n",
       "       [36, 25, 16]])"
      ]
     },
     "execution_count": 175,
     "metadata": {},
     "output_type": "execute_result"
    }
   ],
   "source": [
    "np.power(d,2)"
   ]
  },
  {
   "cell_type": "code",
   "execution_count": 177,
   "id": "ultimate-seminar",
   "metadata": {},
   "outputs": [
    {
     "data": {
      "text/plain": [
       "array([3.72007598e-44, 7.38905610e+00, 2.00855369e+01, 9.88903032e+42,\n",
       "       9.88903032e+42, 2.00855369e+01, 7.38905610e+00, 2.71828183e+00])"
      ]
     },
     "execution_count": 177,
     "metadata": {},
     "output_type": "execute_result"
    }
   ],
   "source": [
    "np.exp(x)"
   ]
  },
  {
   "cell_type": "code",
   "execution_count": 178,
   "id": "broken-occasions",
   "metadata": {},
   "outputs": [
    {
     "data": {
      "text/plain": [
       "array([-1.00000000e+00,  6.38905610e+00,  1.90855369e+01,  9.88903032e+42,\n",
       "        9.88903032e+42,  1.90855369e+01,  6.38905610e+00,  1.71828183e+00])"
      ]
     },
     "execution_count": 178,
     "metadata": {},
     "output_type": "execute_result"
    }
   ],
   "source": [
    "np.exp(x) - 1"
   ]
  },
  {
   "cell_type": "code",
   "execution_count": 180,
   "id": "palestinian-triple",
   "metadata": {},
   "outputs": [
    {
     "data": {
      "text/plain": [
       "array([1, 2, 3, 4, 5])"
      ]
     },
     "execution_count": 180,
     "metadata": {},
     "output_type": "execute_result"
    }
   ],
   "source": [
    "x = np.arange(1,6)\n",
    "x"
   ]
  },
  {
   "cell_type": "code",
   "execution_count": 181,
   "id": "settled-football",
   "metadata": {},
   "outputs": [
    {
     "data": {
      "text/plain": [
       "15"
      ]
     },
     "execution_count": 181,
     "metadata": {},
     "output_type": "execute_result"
    }
   ],
   "source": [
    "np.add.reduce(x)"
   ]
  },
  {
   "cell_type": "code",
   "execution_count": 182,
   "id": "caroline-tourist",
   "metadata": {},
   "outputs": [
    {
     "data": {
      "text/plain": [
       "-13"
      ]
     },
     "execution_count": 182,
     "metadata": {},
     "output_type": "execute_result"
    }
   ],
   "source": [
    "np.subtract.reduce(x)"
   ]
  },
  {
   "cell_type": "code",
   "execution_count": 183,
   "id": "moral-constant",
   "metadata": {},
   "outputs": [
    {
     "data": {
      "text/plain": [
       "15"
      ]
     },
     "execution_count": 183,
     "metadata": {},
     "output_type": "execute_result"
    }
   ],
   "source": [
    "np.sum(x)"
   ]
  },
  {
   "cell_type": "code",
   "execution_count": 188,
   "id": "becoming-bunch",
   "metadata": {},
   "outputs": [
    {
     "data": {
      "text/plain": [
       "array([[1, 2, 3],\n",
       "       [1, 2, 3],\n",
       "       [9, 8, 7],\n",
       "       [6, 5, 4]])"
      ]
     },
     "execution_count": 188,
     "metadata": {},
     "output_type": "execute_result"
    }
   ],
   "source": [
    "d"
   ]
  },
  {
   "cell_type": "code",
   "execution_count": 189,
   "id": "frank-pressing",
   "metadata": {},
   "outputs": [
    {
     "data": {
      "text/plain": [
       "array([ 6,  6, 24, 15])"
      ]
     },
     "execution_count": 189,
     "metadata": {},
     "output_type": "execute_result"
    }
   ],
   "source": [
    "np.add.reduce(d,axis=1)"
   ]
  },
  {
   "cell_type": "code",
   "execution_count": 191,
   "id": "catholic-federal",
   "metadata": {},
   "outputs": [
    {
     "data": {
      "text/plain": [
       "array([ 54, 160, 252])"
      ]
     },
     "execution_count": 191,
     "metadata": {},
     "output_type": "execute_result"
    }
   ],
   "source": [
    "np.multiply.reduce(d)"
   ]
  },
  {
   "cell_type": "code",
   "execution_count": 192,
   "id": "available-albania",
   "metadata": {},
   "outputs": [
    {
     "data": {
      "text/plain": [
       "array([  6,   6, 504, 120])"
      ]
     },
     "execution_count": 192,
     "metadata": {},
     "output_type": "execute_result"
    }
   ],
   "source": [
    "np.multiply.reduce(d,axis=1)"
   ]
  },
  {
   "cell_type": "code",
   "execution_count": null,
   "id": "cathedral-front",
   "metadata": {},
   "outputs": [],
   "source": []
  }
 ],
 "metadata": {
  "kernelspec": {
   "display_name": "Python 3",
   "language": "python",
   "name": "python3"
  },
  "language_info": {
   "codemirror_mode": {
    "name": "ipython",
    "version": 3
   },
   "file_extension": ".py",
   "mimetype": "text/x-python",
   "name": "python",
   "nbconvert_exporter": "python",
   "pygments_lexer": "ipython3",
   "version": "3.9.1"
  }
 },
 "nbformat": 4,
 "nbformat_minor": 5
}
