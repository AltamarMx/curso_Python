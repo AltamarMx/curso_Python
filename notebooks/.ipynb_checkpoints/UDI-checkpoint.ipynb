{
 "cells": [
  {
   "cell_type": "code",
   "execution_count": 1,
   "metadata": {},
   "outputs": [],
   "source": [
    "import numpy as np\n",
    "import matplotlib.pyplot as plt\n",
    "from ipywidgets import interact\n"
   ]
  },
  {
   "cell_type": "code",
   "execution_count": 2,
   "metadata": {},
   "outputs": [],
   "source": [
    "archivo = \"../data/mapa.ill\"\n",
    "datos  = np.genfromtxt(archivo,skip_header=4,delimiter=\",\")\n"
   ]
  },
  {
   "cell_type": "code",
   "execution_count": 3,
   "metadata": {},
   "outputs": [],
   "source": [
    "# eliminar los datos que no necesito, como mes, dia hora, etc\n",
    "todos = datos[:,6:].copy()"
   ]
  },
  {
   "cell_type": "code",
   "execution_count": 4,
   "metadata": {},
   "outputs": [],
   "source": [
    "illuminancia  = todos.reshape((365,24,11,11))"
   ]
  },
  {
   "cell_type": "code",
   "execution_count": 5,
   "metadata": {},
   "outputs": [],
   "source": [
    "def grafica(dia,hora):\n",
    "    \n",
    "    plt.matshow(illuminancia[dia-1][hora+1])\n",
    "    "
   ]
  },
  {
   "cell_type": "code",
   "execution_count": 6,
   "metadata": {},
   "outputs": [
    {
     "data": {
      "application/vnd.jupyter.widget-view+json": {
       "model_id": "3e888f6a65394bdc9254e5448ce26c03",
       "version_major": 2,
       "version_minor": 0
      },
      "text/plain": [
       "interactive(children=(IntSlider(value=183, description='dia', max=365, min=1), IntSlider(value=11, description…"
      ]
     },
     "metadata": {},
     "output_type": "display_data"
    },
    {
     "data": {
      "text/plain": [
       "<function __main__.grafica(dia, hora)>"
      ]
     },
     "execution_count": 6,
     "metadata": {},
     "output_type": "execute_result"
    }
   ],
   "source": [
    "interact(grafica,dia=(1,365),hora=(0,23),archivo=\"../data/mapa.ill\")"
   ]
  },
  {
   "cell_type": "code",
   "execution_count": 110,
   "metadata": {},
   "outputs": [
    {
     "data": {
      "application/vnd.jupyter.widget-view+json": {
       "model_id": "43bbfa7d06014509b7f4810a26e6e731",
       "version_major": 2,
       "version_minor": 0
      },
      "text/plain": [
       "interactive(children=(IntSlider(value=300, description='under', max=300, min=10, step=10), IntSlider(value=150…"
      ]
     },
     "metadata": {},
     "output_type": "display_data"
    }
   ],
   "source": [
    "def UDI(under=300, upper = 1500, hora_inicio=8,hora_final=18) :\n",
    "    UDI_under  = np.zeros((11,11))\n",
    "    UDI_useful = np.zeros((11,11))\n",
    "    UDI_over   = np.zeros((11,11))\n",
    "\n",
    "    total =  (hora_final -  hora_inicio ) * 365 \n",
    "\n",
    "    for dia in range(365):\n",
    "        for hora in range(hora_inicio,hora_final):\n",
    "            UDI_under  += (illuminancia[dia,hora]    <  under )     * np.ones((11,11) ) \n",
    "            UDI_useful += (  (illuminancia[dia,hora] >= under) \n",
    "                           & (illuminancia[dia,hora] < upper))     * np.ones((11,11) ) \n",
    "            UDI_over   += (illuminancia[dia,hora]     > upper )         * np.ones((11,11) ) \n",
    "\n",
    "\n",
    "    UDI_under  = UDI_under   / total * 100  \n",
    "    UDI_useful = UDI_useful  / total * 100  \n",
    "    UDI_over   = UDI_over    / total * 100  \n",
    "    \n",
    "    fig, ax  = plt.subplots(1,4,figsize=(10,4),sharey=True)\n",
    "    \n",
    "    cb_ax = fig.add_axes([.95,0,.01,1])\n",
    "\n",
    "    matriz = ax[0].matshow(UDI_under ,cmap=\"jet\",vmin=0,vmax=100)\n",
    "    ax[1].matshow(UDI_useful,cmap=\"jet\",vmin=0,vmax=100)\n",
    "    ax[2].matshow(UDI_over  ,cmap=\"jet\",vmin=0,vmax=100)\n",
    "    ax[3].matshow(UDI_under + UDI_useful + UDI_over  ,cmap=\"jet\",vmin=0,vmax=100)\n",
    "    cbar = fig.colorbar(matriz, cax=cb_ax)\n",
    "\n",
    "#     barra = fig.colorbar(matriz)\n",
    "interact(UDI, under=(10,300,10),upper=(1500,50000,250),hora_inicio=(5,10,1),hora_final=(14,20,1));"
   ]
  },
  {
   "cell_type": "code",
   "execution_count": null,
   "metadata": {},
   "outputs": [],
   "source": []
  }
 ],
 "metadata": {
  "kernelspec": {
   "display_name": "Python 3",
   "language": "python",
   "name": "python3"
  },
  "language_info": {
   "codemirror_mode": {
    "name": "ipython",
    "version": 3
   },
   "file_extension": ".py",
   "mimetype": "text/x-python",
   "name": "python",
   "nbconvert_exporter": "python",
   "pygments_lexer": "ipython3",
   "version": "3.8.5"
  }
 },
 "nbformat": 4,
 "nbformat_minor": 5
}
