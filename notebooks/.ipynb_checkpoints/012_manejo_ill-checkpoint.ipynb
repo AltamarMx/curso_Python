{
 "cells": [
  {
   "cell_type": "code",
   "execution_count": 9,
   "id": "comprehensive-moore",
   "metadata": {},
   "outputs": [],
   "source": [
    "import numpy as np\n",
    "import matplotlib.pyplot as plt\n",
    "from ipywidgets import interact\n"
   ]
  },
  {
   "cell_type": "code",
   "execution_count": 2,
   "id": "widespread-engineering",
   "metadata": {},
   "outputs": [],
   "source": [
    "archivo = \"../data/mapa.ill\"\n",
    "datos  = np.genfromtxt(archivo,skip_header=4,delimiter=\",\")\n"
   ]
  },
  {
   "cell_type": "code",
   "execution_count": 3,
   "id": "mighty-scope",
   "metadata": {},
   "outputs": [],
   "source": [
    "# eliminar los datos que no necesito, como mes, dia hora, etc\n",
    "todos = datos[:,6:].copy()"
   ]
  },
  {
   "cell_type": "code",
   "execution_count": 4,
   "id": "determined-treat",
   "metadata": {},
   "outputs": [],
   "source": [
    "illuminancia  = todos.reshape((365,24,11,11))"
   ]
  },
  {
   "cell_type": "code",
   "execution_count": 14,
   "id": "incredible-westminster",
   "metadata": {},
   "outputs": [],
   "source": [
    "def grafica(dia,hora):\n",
    "    \n",
    "    plt.matshow(illuminancia[dia-1][hora+1])\n",
    "    "
   ]
  },
  {
   "cell_type": "code",
   "execution_count": 15,
   "id": "expressed-cylinder",
   "metadata": {},
   "outputs": [
    {
     "data": {
      "application/vnd.jupyter.widget-view+json": {
       "model_id": "31776dc09c0c4f83bfd999443d71e118",
       "version_major": 2,
       "version_minor": 0
      },
      "text/plain": [
       "interactive(children=(IntSlider(value=183, description='dia', max=365, min=1), IntSlider(value=11, description…"
      ]
     },
     "metadata": {},
     "output_type": "display_data"
    },
    {
     "data": {
      "text/plain": [
       "<function __main__.grafica(dia, hora)>"
      ]
     },
     "execution_count": 15,
     "metadata": {},
     "output_type": "execute_result"
    }
   ],
   "source": [
    "interact(grafica,dia=(1,365),hora=(0,23),archivo=\"../data/mapa.ill\")"
   ]
  },
  {
   "cell_type": "code",
   "execution_count": null,
   "id": "european-belize",
   "metadata": {},
   "outputs": [],
   "source": []
  },
  {
   "cell_type": "code",
   "execution_count": null,
   "id": "every-plaza",
   "metadata": {},
   "outputs": [],
   "source": []
  }
 ],
 "metadata": {
  "kernelspec": {
   "display_name": "Python 3",
   "language": "python",
   "name": "python3"
  },
  "language_info": {
   "codemirror_mode": {
    "name": "ipython",
    "version": 3
   },
   "file_extension": ".py",
   "mimetype": "text/x-python",
   "name": "python",
   "nbconvert_exporter": "python",
   "pygments_lexer": "ipython3",
   "version": "3.9.1"
  }
 },
 "nbformat": 4,
 "nbformat_minor": 5
}
