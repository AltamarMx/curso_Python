{
 "cells": [
  {
   "cell_type": "code",
   "execution_count": 2,
   "id": "streaming-armor",
   "metadata": {},
   "outputs": [],
   "source": [
    "import numpy as np\n",
    "import matplotlib.pyplot as plt"
   ]
  },
  {
   "cell_type": "code",
   "execution_count": 5,
   "id": "valuable-colorado",
   "metadata": {},
   "outputs": [],
   "source": [
    "L1  = np.array([1,2,3,4,5,6])\n",
    "L2  = np.array([10,9,8,7,6,5])\n"
   ]
  },
  {
   "cell_type": "code",
   "execution_count": 6,
   "id": "derived-sleeve",
   "metadata": {},
   "outputs": [
    {
     "name": "stdout",
     "output_type": "stream",
     "text": [
      "[10 18 24 28 30 30]\n"
     ]
    }
   ],
   "source": [
    "print(L1*L2)"
   ]
  },
  {
   "cell_type": "code",
   "execution_count": 14,
   "id": "focal-toolbox",
   "metadata": {},
   "outputs": [
    {
     "ename": "ValueError",
     "evalue": "operands could not be broadcast together with shapes (68,) (96,) ",
     "output_type": "error",
     "traceback": [
      "\u001b[0;31m---------------------------------------------------------------------------\u001b[0m",
      "\u001b[0;31mValueError\u001b[0m                                Traceback (most recent call last)",
      "\u001b[0;32m<ipython-input-14-78fcc8ee394f>\u001b[0m in \u001b[0;36m<module>\u001b[0;34m\u001b[0m\n\u001b[1;32m      1\u001b[0m \u001b[0mL1\u001b[0m \u001b[0;34m=\u001b[0m \u001b[0mnp\u001b[0m\u001b[0;34m.\u001b[0m\u001b[0marange\u001b[0m\u001b[0;34m(\u001b[0m\u001b[0;36m10\u001b[0m\u001b[0;34m,\u001b[0m\u001b[0;36m78\u001b[0m\u001b[0;34m,\u001b[0m\u001b[0;36m1\u001b[0m\u001b[0;34m)\u001b[0m\u001b[0;34m\u001b[0m\u001b[0;34m\u001b[0m\u001b[0m\n\u001b[1;32m      2\u001b[0m \u001b[0mL2\u001b[0m \u001b[0;34m=\u001b[0m \u001b[0mnp\u001b[0m\u001b[0;34m.\u001b[0m\u001b[0marange\u001b[0m\u001b[0;34m(\u001b[0m\u001b[0;36m100\u001b[0m\u001b[0;34m,\u001b[0m\u001b[0;36m4\u001b[0m\u001b[0;34m,\u001b[0m\u001b[0;34m-\u001b[0m\u001b[0;36m1\u001b[0m\u001b[0;34m)\u001b[0m\u001b[0;34m\u001b[0m\u001b[0;34m\u001b[0m\u001b[0m\n\u001b[0;32m----> 3\u001b[0;31m \u001b[0mprint\u001b[0m\u001b[0;34m(\u001b[0m\u001b[0mL1\u001b[0m\u001b[0;34m*\u001b[0m\u001b[0mL2\u001b[0m\u001b[0;34m)\u001b[0m\u001b[0;34m\u001b[0m\u001b[0;34m\u001b[0m\u001b[0m\n\u001b[0m",
      "\u001b[0;31mValueError\u001b[0m: operands could not be broadcast together with shapes (68,) (96,) "
     ]
    }
   ],
   "source": [
    "L1 = np.arange(10,78,1)\n",
    "L2 = np.arange(100,4,-1)\n",
    "print(L1*L2)"
   ]
  },
  {
   "cell_type": "code",
   "execution_count": 17,
   "id": "traditional-drinking",
   "metadata": {},
   "outputs": [
    {
     "data": {
      "text/plain": [
       "array([ 1,  4,  7, 10, 13, 16, 19, 22, 25, 28, 31, 34, 37, 40, 43, 46, 49,\n",
       "       52, 55, 58, 61, 64, 67, 70, 73, 76, 79, 82, 85, 88, 91, 94, 97])"
      ]
     },
     "execution_count": 17,
     "metadata": {},
     "output_type": "execute_result"
    }
   ],
   "source": [
    "L1 = np.arange(1,100,3)\n",
    "L1"
   ]
  },
  {
   "cell_type": "code",
   "execution_count": 20,
   "id": "worth-description",
   "metadata": {},
   "outputs": [
    {
     "data": {
      "text/plain": [
       "array([ 1,  4,  7, 10, 13])"
      ]
     },
     "execution_count": 20,
     "metadata": {},
     "output_type": "execute_result"
    }
   ],
   "source": [
    "L1[0:5:1]"
   ]
  },
  {
   "cell_type": "code",
   "execution_count": 24,
   "id": "public-crawford",
   "metadata": {},
   "outputs": [
    {
     "data": {
      "text/plain": [
       "array([[0, 1, 2],\n",
       "       [3, 4, 5],\n",
       "       [6, 7, 8]])"
      ]
     },
     "execution_count": 24,
     "metadata": {},
     "output_type": "execute_result"
    }
   ],
   "source": [
    "L = np.array([[0,1,2],\n",
    "              [3,4,5],\n",
    "              [6,7,8]])\n",
    "L"
   ]
  },
  {
   "cell_type": "code",
   "execution_count": 35,
   "id": "painted-commerce",
   "metadata": {},
   "outputs": [
    {
     "data": {
      "text/plain": [
       "8"
      ]
     },
     "execution_count": 35,
     "metadata": {},
     "output_type": "execute_result"
    }
   ],
   "source": [
    "L[-1][-1]"
   ]
  },
  {
   "cell_type": "code",
   "execution_count": 36,
   "id": "limited-failure",
   "metadata": {},
   "outputs": [
    {
     "data": {
      "text/plain": [
       "array([0, 1, 2])"
      ]
     },
     "execution_count": 36,
     "metadata": {},
     "output_type": "execute_result"
    }
   ],
   "source": [
    "L[0,:]"
   ]
  },
  {
   "cell_type": "code",
   "execution_count": 37,
   "id": "limited-profit",
   "metadata": {},
   "outputs": [
    {
     "data": {
      "text/plain": [
       "array([0, 1, 2])"
      ]
     },
     "execution_count": 37,
     "metadata": {},
     "output_type": "execute_result"
    }
   ],
   "source": [
    "L[0][:]"
   ]
  },
  {
   "cell_type": "code",
   "execution_count": 38,
   "id": "opponent-shannon",
   "metadata": {},
   "outputs": [
    {
     "data": {
      "text/plain": [
       "array([0, 1])"
      ]
     },
     "execution_count": 38,
     "metadata": {},
     "output_type": "execute_result"
    }
   ],
   "source": [
    "L[0,0:2:1]"
   ]
  },
  {
   "cell_type": "code",
   "execution_count": 39,
   "id": "behavioral-discount",
   "metadata": {},
   "outputs": [
    {
     "data": {
      "text/plain": [
       "array([0, 1])"
      ]
     },
     "execution_count": 39,
     "metadata": {},
     "output_type": "execute_result"
    }
   ],
   "source": [
    "L[0][0:2:1]"
   ]
  },
  {
   "cell_type": "code",
   "execution_count": 40,
   "id": "varied-modification",
   "metadata": {},
   "outputs": [
    {
     "data": {
      "text/plain": [
       "array([0, 1])"
      ]
     },
     "execution_count": 40,
     "metadata": {},
     "output_type": "execute_result"
    }
   ],
   "source": [
    "L[0,0:2:1]"
   ]
  },
  {
   "cell_type": "code",
   "execution_count": 46,
   "id": "danish-filter",
   "metadata": {},
   "outputs": [],
   "source": [
    "L = np.array([[ 0,  1,  2,  3,  4,  5],\n",
    "              [ 6,  7,  8,  9, 10, 11],\n",
    "              [12, 13, 14, 15, 16, 17],\n",
    "              [18, 19, 20, 21, 22, 23],\n",
    "              [24, 25, 26, 27, 28, 29],\n",
    "              [30, 31, 32, 33, 34, 35]])"
   ]
  },
  {
   "cell_type": "code",
   "execution_count": 71,
   "id": "cleared-michael",
   "metadata": {},
   "outputs": [
    {
     "data": {
      "text/plain": [
       "array([ 8, 20, 32])"
      ]
     },
     "execution_count": 71,
     "metadata": {},
     "output_type": "execute_result"
    }
   ],
   "source": [
    "columna = 2\n",
    "L[1::2,columna]"
   ]
  },
  {
   "cell_type": "code",
   "execution_count": 62,
   "id": "fiscal-emergency",
   "metadata": {},
   "outputs": [
    {
     "data": {
      "text/plain": [
       "array([[12, 14, 16],\n",
       "       [24, 26, 28]])"
      ]
     },
     "execution_count": 62,
     "metadata": {},
     "output_type": "execute_result"
    }
   ],
   "source": [
    "L[2:5:2,::2]"
   ]
  },
  {
   "cell_type": "code",
   "execution_count": 66,
   "id": "tested-anthony",
   "metadata": {},
   "outputs": [
    {
     "data": {
      "text/plain": [
       "array([[35, 34],\n",
       "       [29, 28]])"
      ]
     },
     "execution_count": 66,
     "metadata": {},
     "output_type": "execute_result"
    }
   ],
   "source": [
    "L[5:3:-1,5:3:-1]"
   ]
  },
  {
   "cell_type": "code",
   "execution_count": 67,
   "id": "retired-brighton",
   "metadata": {},
   "outputs": [
    {
     "data": {
      "text/plain": [
       "array([[28, 29],\n",
       "       [34, 35]])"
      ]
     },
     "execution_count": 67,
     "metadata": {},
     "output_type": "execute_result"
    }
   ],
   "source": [
    "L[-2:,-2:]"
   ]
  },
  {
   "cell_type": "code",
   "execution_count": 51,
   "id": "colonial-antenna",
   "metadata": {},
   "outputs": [
    {
     "data": {
      "text/plain": [
       "array([ 1,  7, 13, 19, 25, 31])"
      ]
     },
     "execution_count": 51,
     "metadata": {},
     "output_type": "execute_result"
    }
   ],
   "source": [
    "L[:,1]"
   ]
  },
  {
   "cell_type": "code",
   "execution_count": 53,
   "id": "hungarian-prescription",
   "metadata": {},
   "outputs": [
    {
     "data": {
      "text/plain": [
       "array([1, 2, 3])"
      ]
     },
     "execution_count": 53,
     "metadata": {},
     "output_type": "execute_result"
    }
   ],
   "source": [
    "L[0,1:4]"
   ]
  },
  {
   "cell_type": "code",
   "execution_count": null,
   "id": "wired-aquatic",
   "metadata": {},
   "outputs": [],
   "source": [
    "L[]"
   ]
  }
 ],
 "metadata": {
  "kernelspec": {
   "display_name": "Python 3",
   "language": "python",
   "name": "python3"
  },
  "language_info": {
   "codemirror_mode": {
    "name": "ipython",
    "version": 3
   },
   "file_extension": ".py",
   "mimetype": "text/x-python",
   "name": "python",
   "nbconvert_exporter": "python",
   "pygments_lexer": "ipython3",
   "version": "3.9.1"
  }
 },
 "nbformat": 4,
 "nbformat_minor": 5
}
