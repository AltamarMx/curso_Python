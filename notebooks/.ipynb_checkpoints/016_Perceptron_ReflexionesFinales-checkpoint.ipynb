{
 "cells": [
  {
   "cell_type": "code",
   "execution_count": null,
   "metadata": {},
   "outputs": [],
   "source": [
    "import numpy as np\n",
    "import matplotlib.pyplot as plt\n",
    "\n",
    "import matplotlib.tri as mtri\n",
    "from mpl_toolkits.mplot3d import Axes3D\n",
    "from ipywidgets import interact\n"
   ]
  },
  {
   "cell_type": "code",
   "execution_count": null,
   "metadata": {},
   "outputs": [],
   "source": [
    "\n",
    "def problema(x,w,b):\n",
    "    return np.dot(x,w) + b\n",
    "\n",
    "def sigmoide(x):\n",
    "    return 1/(1 + np.exp(-x))\n",
    "\n",
    "def costo(y,Y):\n",
    "    return (y-Y)**2\n",
    "\n",
    "def punto(x,w,b,Y):\n",
    "    y = sigmoide(problema(x,w,b))\n",
    "    C = costo(y,Y)\n",
    "    return C\n",
    "\n",
    "def dCdW(y,Y):\n",
    "    return 2*(y-Y)*(y)*(1-y)"
   ]
  },
  {
   "cell_type": "code",
   "execution_count": null,
   "metadata": {},
   "outputs": [],
   "source": [
    "def resuelve_grafique(x,w,b,Y,epochs,LR,ang1,ang2):\n",
    "  # epochs = 20\n",
    "  # x      = [3,2]\n",
    "  # w      = [0,-1]\n",
    "  # LR     = 1\n",
    "  # Y      = 0.72\n",
    "  # b      = 0\n",
    "    P_h    = []\n",
    "    for epoch in range(epochs):\n",
    "        y = sigmoide(problema(x,w,b))\n",
    "        C = costo(y,Y)\n",
    "        P_h.append([w[0],w[1],C])\n",
    "        correcion =  dCdW(y,Y)*LR\n",
    "        w = w - correcion\n",
    "\n",
    "    print(\"w =\",w)\n",
    "    print(\"C =\",C)\n",
    "    print(\"y =\",y)\n",
    "    P_h = np.array(P_h)\n",
    "    L = 50\n",
    "    \n",
    "    w1 = np.linspace(-2,2,L)\n",
    "    w2 = np.linspace(-2,2,L)\n",
    "    x1 = x[0]\n",
    "    x2 = x[1]\n",
    "\n",
    "    S = []\n",
    "    for W1 in w1:\n",
    "        for W2 in w2:\n",
    "            P = punto([x1,x2],[W1,W2],b,Y)\n",
    "            S.append([W1,W2,P])\n",
    "\n",
    "    S = np.array(S)\n",
    "    fig = plt.figure(figsize=(16,8))\n",
    "    ax = fig.add_subplot(1, 2, 1, projection='3d')\n",
    "\n",
    "    ax.set_xlabel('w1')\n",
    "    ax.set_ylabel('w2')\n",
    "    ax.set_zlabel('C')\n",
    "\n",
    "\n",
    "    tri = mtri.Triangulation(S[:,0], S[:,1])\n",
    "    ax.plot_trisurf(S[:,0],S[:,1],S[:,2],triangles=tri.triangles,\n",
    "                    alpha=0.5,cmap=\"hot\")\n",
    "\n",
    "    puntos = ax.scatter(P_h[:,0],P_h[:,1],P_h[:,2],c=P_h[:,2],s=50)\n",
    "\n",
    "    ax.view_init(ang1,ang2)\n",
    "    plt.show()"
   ]
  },
  {
   "cell_type": "code",
   "execution_count": null,
   "metadata": {},
   "outputs": [],
   "source": [
    "resuelve_grafique(x=[3,2],w=[0,-1],b=0,Y=0.72,epochs=50,LR=1,\n",
    "                  ang1=0,ang2=30)"
   ]
  },
  {
   "cell_type": "code",
   "execution_count": null,
   "metadata": {},
   "outputs": [],
   "source": [
    "def interacciona(ang2):\n",
    "    resuelve_grafique(x=[3,2],w=[-2,-1.5],b=0,Y=0.72,epochs=5000,LR=1,\n",
    "                      ang1=90,ang2=ang2)\n",
    "    \n",
    "interact(interacciona,ang2=(0,180,10))"
   ]
  },
  {
   "cell_type": "code",
   "execution_count": null,
   "metadata": {},
   "outputs": [],
   "source": []
  },
  {
   "cell_type": "code",
   "execution_count": null,
   "metadata": {},
   "outputs": [],
   "source": []
  }
 ],
 "metadata": {
  "kernelspec": {
   "display_name": "Python 3",
   "language": "python",
   "name": "python3"
  },
  "language_info": {
   "codemirror_mode": {
    "name": "ipython",
    "version": 3
   },
   "file_extension": ".py",
   "mimetype": "text/x-python",
   "name": "python",
   "nbconvert_exporter": "python",
   "pygments_lexer": "ipython3",
   "version": "3.8.5"
  }
 },
 "nbformat": 4,
 "nbformat_minor": 4
}
