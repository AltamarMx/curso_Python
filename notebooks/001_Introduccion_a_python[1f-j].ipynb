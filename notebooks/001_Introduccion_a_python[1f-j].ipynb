{
 "cells": [
  {
   "cell_type": "markdown",
   "id": "japanese-lancaster",
   "metadata": {},
   "source": [
    "\n",
    "\n",
    "## Aprendiendo a utilizar libretas\n",
    "\n",
    "<img src=\"https://www.dataquest.io/wp-content/uploads/2019/01/interface-screenshot.png\" alt=\"interface jupyter\" width=\"500\" height=\"600\">"
   ]
  },
  {
   "cell_type": "markdown",
   "id": "removed-acceptance",
   "metadata": {},
   "source": [
    "### Propósito\n",
    "\n",
    "Instruir al alumno en el uso de las libretas a través de jupyter notebook, ejemplos y dar a conocer tips de utilidad."
   ]
  },
  {
   "cell_type": "markdown",
   "id": "ancient-track",
   "metadata": {},
   "source": [
    "___\n"
   ]
  },
  {
   "cell_type": "markdown",
   "id": "adolescent-corner",
   "metadata": {},
   "source": [
    "#### Temas:\n",
    "\n",
    "* #### Acceso a la documentación de Python en Jupyter\n",
    "* #### Instalación de paquetes\n",
    "* #### Tips en Jupyter (celdas, documentar, comentar)\n",
    "* #### Indentación en Python\n",
    "\n"
   ]
  },
  {
   "cell_type": "markdown",
   "id": "fleet-dealer",
   "metadata": {},
   "source": [
    "___"
   ]
  },
  {
   "cell_type": "markdown",
   "id": "technological-insured",
   "metadata": {},
   "source": [
    "## Acceso a la documentación de python en Jupyter\n"
   ]
  },
  {
   "cell_type": "markdown",
   "id": "documented-strand",
   "metadata": {},
   "source": [
    "La documentación de python se encuentra disponible en su sitio oficial en el siguiente enlace:\n",
    "\n",
    "    https://docs.python.org/es/3/"
   ]
  },
  {
   "cell_type": "markdown",
   "id": "amateur-diameter",
   "metadata": {},
   "source": [
    "Aunque tenemos lo anterior... también es posible acceder a la documentación de python utilizando una libreta."
   ]
  },
  {
   "cell_type": "code",
   "execution_count": 1,
   "id": "nutritional-diamond",
   "metadata": {
    "scrolled": true
   },
   "outputs": [
    {
     "name": "stdout",
     "output_type": "stream",
     "text": [
      "\n",
      "Welcome to Python 3.9's help utility!\n",
      "\n",
      "If this is your first time using Python, you should definitely check out\n",
      "the tutorial on the Internet at https://docs.python.org/3.9/tutorial/.\n",
      "\n",
      "Enter the name of any module, keyword, or topic to get help on writing\n",
      "Python programs and using Python modules.  To quit this help utility and\n",
      "return to the interpreter, just type \"quit\".\n",
      "\n",
      "To get a list of available modules, keywords, symbols, or topics, type\n",
      "\"modules\", \"keywords\", \"symbols\", or \"topics\".  Each module also comes\n",
      "with a one-line summary of what it does; to list the modules whose name\n",
      "or summary contain a given string such as \"spam\", type \"modules spam\".\n",
      "\n",
      "help> int\n",
      "Help on class int in module builtins:\n",
      "\n",
      "class int(object)\n",
      " |  int([x]) -> integer\n",
      " |  int(x, base=10) -> integer\n",
      " |  \n",
      " |  Convert a number or string to an integer, or return 0 if no arguments\n",
      " |  are given.  If x is a number, return x.__int__().  For floating point\n",
      " |  numbers, this truncates towards zero.\n",
      " |  \n",
      " |  If x is not a number or if base is given, then x must be a string,\n",
      " |  bytes, or bytearray instance representing an integer literal in the\n",
      " |  given base.  The literal can be preceded by '+' or '-' and be surrounded\n",
      " |  by whitespace.  The base defaults to 10.  Valid bases are 0 and 2-36.\n",
      " |  Base 0 means to interpret the base from the string as an integer literal.\n",
      " |  >>> int('0b100', base=0)\n",
      " |  4\n",
      " |  \n",
      " |  Built-in subclasses:\n",
      " |      bool\n",
      " |  \n",
      " |  Methods defined here:\n",
      " |  \n",
      " |  __abs__(self, /)\n",
      " |      abs(self)\n",
      " |  \n",
      " |  __add__(self, value, /)\n",
      " |      Return self+value.\n",
      " |  \n",
      " |  __and__(self, value, /)\n",
      " |      Return self&value.\n",
      " |  \n",
      " |  __bool__(self, /)\n",
      " |      self != 0\n",
      " |  \n",
      " |  __ceil__(...)\n",
      " |      Ceiling of an Integral returns itself.\n",
      " |  \n",
      " |  __divmod__(self, value, /)\n",
      " |      Return divmod(self, value).\n",
      " |  \n",
      " |  __eq__(self, value, /)\n",
      " |      Return self==value.\n",
      " |  \n",
      " |  __float__(self, /)\n",
      " |      float(self)\n",
      " |  \n",
      " |  __floor__(...)\n",
      " |      Flooring an Integral returns itself.\n",
      " |  \n",
      " |  __floordiv__(self, value, /)\n",
      " |      Return self//value.\n",
      " |  \n",
      " |  __format__(self, format_spec, /)\n",
      " |      Default object formatter.\n",
      " |  \n",
      " |  __ge__(self, value, /)\n",
      " |      Return self>=value.\n",
      " |  \n",
      " |  __getattribute__(self, name, /)\n",
      " |      Return getattr(self, name).\n",
      " |  \n",
      " |  __getnewargs__(self, /)\n",
      " |  \n",
      " |  __gt__(self, value, /)\n",
      " |      Return self>value.\n",
      " |  \n",
      " |  __hash__(self, /)\n",
      " |      Return hash(self).\n",
      " |  \n",
      " |  __index__(self, /)\n",
      " |      Return self converted to an integer, if self is suitable for use as an index into a list.\n",
      " |  \n",
      " |  __int__(self, /)\n",
      " |      int(self)\n",
      " |  \n",
      " |  __invert__(self, /)\n",
      " |      ~self\n",
      " |  \n",
      " |  __le__(self, value, /)\n",
      " |      Return self<=value.\n",
      " |  \n",
      " |  __lshift__(self, value, /)\n",
      " |      Return self<<value.\n",
      " |  \n",
      " |  __lt__(self, value, /)\n",
      " |      Return self<value.\n",
      " |  \n",
      " |  __mod__(self, value, /)\n",
      " |      Return self%value.\n",
      " |  \n",
      " |  __mul__(self, value, /)\n",
      " |      Return self*value.\n",
      " |  \n",
      " |  __ne__(self, value, /)\n",
      " |      Return self!=value.\n",
      " |  \n",
      " |  __neg__(self, /)\n",
      " |      -self\n",
      " |  \n",
      " |  __or__(self, value, /)\n",
      " |      Return self|value.\n",
      " |  \n",
      " |  __pos__(self, /)\n",
      " |      +self\n",
      " |  \n",
      " |  __pow__(self, value, mod=None, /)\n",
      " |      Return pow(self, value, mod).\n",
      " |  \n",
      " |  __radd__(self, value, /)\n",
      " |      Return value+self.\n",
      " |  \n",
      " |  __rand__(self, value, /)\n",
      " |      Return value&self.\n",
      " |  \n",
      " |  __rdivmod__(self, value, /)\n",
      " |      Return divmod(value, self).\n",
      " |  \n",
      " |  __repr__(self, /)\n",
      " |      Return repr(self).\n",
      " |  \n",
      " |  __rfloordiv__(self, value, /)\n",
      " |      Return value//self.\n",
      " |  \n",
      " |  __rlshift__(self, value, /)\n",
      " |      Return value<<self.\n",
      " |  \n",
      " |  __rmod__(self, value, /)\n",
      " |      Return value%self.\n",
      " |  \n",
      " |  __rmul__(self, value, /)\n",
      " |      Return value*self.\n",
      " |  \n",
      " |  __ror__(self, value, /)\n",
      " |      Return value|self.\n",
      " |  \n",
      " |  __round__(...)\n",
      " |      Rounding an Integral returns itself.\n",
      " |      Rounding with an ndigits argument also returns an integer.\n",
      " |  \n",
      " |  __rpow__(self, value, mod=None, /)\n",
      " |      Return pow(value, self, mod).\n",
      " |  \n",
      " |  __rrshift__(self, value, /)\n",
      " |      Return value>>self.\n",
      " |  \n",
      " |  __rshift__(self, value, /)\n",
      " |      Return self>>value.\n",
      " |  \n",
      " |  __rsub__(self, value, /)\n",
      " |      Return value-self.\n",
      " |  \n",
      " |  __rtruediv__(self, value, /)\n",
      " |      Return value/self.\n",
      " |  \n",
      " |  __rxor__(self, value, /)\n",
      " |      Return value^self.\n",
      " |  \n",
      " |  __sizeof__(self, /)\n",
      " |      Returns size in memory, in bytes.\n",
      " |  \n",
      " |  __sub__(self, value, /)\n",
      " |      Return self-value.\n",
      " |  \n",
      " |  __truediv__(self, value, /)\n",
      " |      Return self/value.\n",
      " |  \n",
      " |  __trunc__(...)\n",
      " |      Truncating an Integral returns itself.\n",
      " |  \n",
      " |  __xor__(self, value, /)\n",
      " |      Return self^value.\n",
      " |  \n",
      " |  as_integer_ratio(self, /)\n",
      " |      Return integer ratio.\n",
      " |      \n",
      " |      Return a pair of integers, whose ratio is exactly equal to the original int\n",
      " |      and with a positive denominator.\n",
      " |      \n",
      " |      >>> (10).as_integer_ratio()\n",
      " |      (10, 1)\n",
      " |      >>> (-10).as_integer_ratio()\n",
      " |      (-10, 1)\n",
      " |      >>> (0).as_integer_ratio()\n",
      " |      (0, 1)\n",
      " |  \n",
      " |  bit_length(self, /)\n",
      " |      Number of bits necessary to represent self in binary.\n",
      " |      \n",
      " |      >>> bin(37)\n",
      " |      '0b100101'\n",
      " |      >>> (37).bit_length()\n",
      " |      6\n",
      " |  \n",
      " |  conjugate(...)\n",
      " |      Returns self, the complex conjugate of any int.\n",
      " |  \n",
      " |  to_bytes(self, /, length, byteorder, *, signed=False)\n",
      " |      Return an array of bytes representing an integer.\n",
      " |      \n",
      " |      length\n",
      " |        Length of bytes object to use.  An OverflowError is raised if the\n",
      " |        integer is not representable with the given number of bytes.\n",
      " |      byteorder\n",
      " |        The byte order used to represent the integer.  If byteorder is 'big',\n",
      " |        the most significant byte is at the beginning of the byte array.  If\n",
      " |        byteorder is 'little', the most significant byte is at the end of the\n",
      " |        byte array.  To request the native byte order of the host system, use\n",
      " |        `sys.byteorder' as the byte order value.\n",
      " |      signed\n",
      " |        Determines whether two's complement is used to represent the integer.\n",
      " |        If signed is False and a negative integer is given, an OverflowError\n",
      " |        is raised.\n",
      " |  \n",
      " |  ----------------------------------------------------------------------\n",
      " |  Class methods defined here:\n",
      " |  \n",
      " |  from_bytes(bytes, byteorder, *, signed=False) from builtins.type\n",
      " |      Return the integer represented by the given array of bytes.\n",
      " |      \n",
      " |      bytes\n",
      " |        Holds the array of bytes to convert.  The argument must either\n",
      " |        support the buffer protocol or be an iterable object producing bytes.\n",
      " |        Bytes and bytearray are examples of built-in objects that support the\n",
      " |        buffer protocol.\n",
      " |      byteorder\n",
      " |        The byte order used to represent the integer.  If byteorder is 'big',\n",
      " |        the most significant byte is at the beginning of the byte array.  If\n",
      " |        byteorder is 'little', the most significant byte is at the end of the\n",
      " |        byte array.  To request the native byte order of the host system, use\n",
      " |        `sys.byteorder' as the byte order value.\n",
      " |      signed\n",
      " |        Indicates whether two's complement is used to represent the integer.\n",
      " |  \n",
      " |  ----------------------------------------------------------------------\n",
      " |  Static methods defined here:\n",
      " |  \n",
      " |  __new__(*args, **kwargs) from builtins.type\n",
      " |      Create and return a new object.  See help(type) for accurate signature.\n",
      " |  \n",
      " |  ----------------------------------------------------------------------\n",
      " |  Data descriptors defined here:\n",
      " |  \n",
      " |  denominator\n",
      " |      the denominator of a rational number in lowest terms\n",
      " |  \n",
      " |  imag\n",
      " |      the imaginary part of a complex number\n",
      " |  \n",
      " |  numerator\n",
      " |      the numerator of a rational number in lowest terms\n",
      " |  \n",
      " |  real\n",
      " |      the real part of a complex number\n",
      "\n",
      "help> len\n",
      "Help on built-in function len in module builtins:\n",
      "\n",
      "len(obj, /)\n",
      "    Return the number of items in a container.\n",
      "\n",
      "help> quit\n",
      "\n",
      "You are now leaving help and returning to the Python interpreter.\n",
      "If you want to ask for help on a particular object directly from the\n",
      "interpreter, you can type \"help(object)\".  Executing \"help('string')\"\n",
      "has the same effect as typing a particular string at the help> prompt.\n"
     ]
    }
   ],
   "source": [
    "help()"
   ]
  },
  {
   "cell_type": "markdown",
   "id": "explicit-dayton",
   "metadata": {},
   "source": [
    "Para acceder directamente a la documentación de un elemeno podemos hacer lo siguiente:\n"
   ]
  },
  {
   "cell_type": "code",
   "execution_count": 2,
   "id": "informational-holiday",
   "metadata": {
    "scrolled": true
   },
   "outputs": [
    {
     "name": "stdout",
     "output_type": "stream",
     "text": [
      "Help on built-in function len in module builtins:\n",
      "\n",
      "len(obj, /)\n",
      "    Return the number of items in a container.\n",
      "\n"
     ]
    }
   ],
   "source": [
    "help(len)"
   ]
  },
  {
   "cell_type": "markdown",
   "id": "capable-pixel",
   "metadata": {},
   "source": [
    "Podemos acceder a la documentación y otra información relevante con ?"
   ]
  },
  {
   "cell_type": "code",
   "execution_count": 4,
   "id": "sunset-delaware",
   "metadata": {
    "scrolled": true
   },
   "outputs": [],
   "source": [
    "len?"
   ]
  },
  {
   "cell_type": "markdown",
   "id": "superior-roulette",
   "metadata": {},
   "source": [
    "## Instalación de paquetes"
   ]
  },
  {
   "cell_type": "code",
   "execution_count": 8,
   "id": "approximate-naples",
   "metadata": {
    "scrolled": true
   },
   "outputs": [],
   "source": [
    "import numpy"
   ]
  },
  {
   "cell_type": "markdown",
   "id": "pursuant-preference",
   "metadata": {},
   "source": []
  },
  {
   "cell_type": "code",
   "execution_count": 7,
   "id": "controversial-powell",
   "metadata": {
    "scrolled": true
   },
   "outputs": [
    {
     "name": "stdout",
     "output_type": "stream",
     "text": [
      "Requirement already satisfied: numpy in /Library/Frameworks/Python.framework/Versions/3.9/lib/python3.9/site-packages (1.20.1)\r\n"
     ]
    }
   ],
   "source": [
    "# Install a pip package in the current Jupyter kernel\n",
    "import sys\n",
    "!{sys.executable} -m pip install numpy\n"
   ]
  },
  {
   "cell_type": "markdown",
   "id": "narrow-accounting",
   "metadata": {},
   "source": [
    "## Tips en jupyter\n",
    "\n"
   ]
  },
  {
   "cell_type": "markdown",
   "id": "brilliant-treatment",
   "metadata": {},
   "source": [
    "\n",
    "## ¿Cómo construír un Notebook?\n",
    "\n",
    "\n",
    "### Celdas\n",
    "\n",
    "<a id='Que-es-una-celda'></a>\n",
    "#### ¿Qué es una celda?\n",
    "Un notebook se compone por un conjunto de celdas o \"cells\" en inglés. Cada celda es una unidad independiente, que puede ser editada y ejecutada.\n",
    "\n",
    "Existen diferentes tipos de celdas:\n",
    "\n",
    "* *Code* : Contienen código que puede ser ejecutado, utilizando el Kernel seleccionado (ej. Python, R).\n",
    "* *Markdown*: Contienen información descriptiva como textos enriquecidos (descripciones, tablas, figuras).\n",
    "* *Raw NBConvert*: Tipo de celda utilizado cuando se quiere que Jupyter no interprete el contenido de la misma y lo muestre tal cual tu lo escribiste.\n",
    "* *Heading*: Antiguamente se utilizaba para crear títulos, actualmente se utiliza una celda Markdown para lo mismo.\n",
    "\n",
    "Cuando agregamos una nueva celda, por defecto se creará de tipo *Code*. Sin embargo puedes cambiar en cualquier momento el tipo de la misma simplemente seleccionando la celda y luego cambiando el tipo desde el menú que aparece en la parte superior del editor y eigiendo cualquier otro tipo.\n",
    "\n",
    "![figure2](https://github.com/efviodo/idatha-data-science-course/raw/master/notebooks/figures/change_cell_type.png)\n",
    "\n",
    "\n",
    "\n",
    "<a id='Como-se-ejecuta'></a>\n",
    "#### ¿Cómo se ejecuta?\n",
    "Cuando se abre por primera vez un Notebook, Juypyter carga la información de cada una de las celdas pero **NO** las ejecuta en su totalidad. Solamente ejecuta las celdas de tipo *Markdown*. Para ejecutar todas las celdas (incluyendo las de tipo *Code*), debemos ejecutarlas utilizando alguna de las varias formas que Jupyter pone a nuestra disposición:\n",
    "\n",
    "* *Cell -> Run Cells*\n",
    "* *Cell -> Run All*\n",
    "* Seleccionar la celda y *Ctrl+Enter* (shortcut)\n",
    "\n",
    "<a id='Como-se-edita'></a>\n",
    "#### ¿Cómo se edita?\n",
    "Para editar el contenido de una celda, basta con seleccionar la celda y cambiar al [Modo edición](#Modo-Edicion). Para esto basta con hacer doble click en la selda que queremos editar.\n",
    "\n"
   ]
  },
  {
   "cell_type": "markdown",
   "id": "positive-bargain",
   "metadata": {},
   "source": [
    "### Ejemplos\n",
    "\n",
    "#### Markdown\n",
    "Esta es una celda de tipo *Markdown*; la misma permite escribir texto con cierto formato, por ejemplo títulos, listas, tablas. Probemos de insertar diferentes objetos, para investigar que tipo de cosas podemos hacer con ella:\n",
    "\n",
    "&rarr; Diferentes tipos de fuentes: **Negrita**, *Italica*, ~~Tacchado~~\n",
    "\n",
    "&rarr; Diferentes tamaños de letra:\n",
    "\n",
    "# Título 1\n",
    "## Título 2\n",
    "### Título 3\n",
    "#### Título 4\n",
    "\n",
    "&rarr; Lista de elementos\n",
    "    \n",
    "* Item 1\n",
    "* Item 2\n",
    "  * Item 2.1\n",
    "    * Item 2.2\n",
    "    * Item 2.3\n",
    " \n",
    "\n",
    "&rarr; Lista ordenada\n",
    "\n",
    "    1. Elemento 1\n",
    "    2. Elemento 2\n",
    "    3. Elemento 3\n",
    "\n",
    "&rarr; Tablas\n",
    "\n",
    "| Clase | Día | Fecha |\n",
    "| ----- | --- | ----- |\n",
    "| 1 | Lunes | 22/0/2018 |\n",
    "| 2 | Martes | 23/0/2018 |\n",
    "| 3 | Miércoles | 24/0/2018 |\n",
    "| 4 | Viernes | 26/0/2018 |\n",
    "\n",
    "&rarr; Imagenes\n",
    "\n",
    "<img src=\"https://github.com/efviodo/idatha-data-science-course/raw/master/notebooks/figures/jupyter-logo.png\" width=\"200px\" style=\"center; margin-top:50px\"/>\n",
    "\n",
    "&rarr; HTML\n",
    "\n",
    "\n",
    "<form>\n",
    "  First name:<br>\n",
    "  <input type=\"text\" name=\"firstname\"><br>\n",
    "  Last name:<br>\n",
    "  <input type=\"text\" name=\"lastname\">\n",
    "</form>\n",
    "\n",
    "Por más información sobre lenguaje Markdown ver https://github.com/adam-p/markdown-here/wiki/Markdown-Cheatsheet"
   ]
  },
  {
   "cell_type": "markdown",
   "id": "going-siemens",
   "metadata": {},
   "source": [
    "#### Code"
   ]
  },
  {
   "cell_type": "code",
   "execution_count": null,
   "id": "computational-observer",
   "metadata": {},
   "outputs": [],
   "source": []
  },
  {
   "cell_type": "code",
   "execution_count": 11,
   "id": "durable-injection",
   "metadata": {},
   "outputs": [
    {
     "name": "stdout",
     "output_type": "stream",
     "text": [
      "Hola mundo!\n"
     ]
    }
   ],
   "source": [
    "# Esto es una celda de código python. Como puedes ver, es posible editar el contenido de la misma y ejecutarla para \n",
    "# ver su resultado. El resultado se muestra debajo de la celda una vez que la misma fue ejecutada. En caso que el \n",
    "# código no produzca ningún resultado, no se mostrará nada. Prueba de editar el contenido de la celda para ver como \n",
    "# cambia el resultado!\n",
    "# print sirve para imprimir algun mensaje\n",
    "\n",
    "print(\"Hola mundo!\");"
   ]
  },
  {
   "cell_type": "markdown",
   "id": "human-segment",
   "metadata": {},
   "source": [
    "## Shortcuts\n",
    "\n",
    "### Modo Comando vs. modo Edición\n",
    "\n",
    "Antes de ver los principales atajos o \"shortcuts\", tienes que tener presente que Jupyter Notebooks tiene dos modos de entrada diferentes:\n",
    "\n",
    "**1. Modo comando**: Es el modo por defecto, se indica generalmente a traves de la celda seleccionada, la cual se recuadra con un marco de color <font color='blue'>azul</font>. En este modo, el teclado puede utilizarse para disparar acciones a nivel del Notebook como agregar celdas, ejecutar celdas, etc.\n",
    "\n",
    "**2. Modo edición**: Es el modo que se activa cuando selecionas una celda para editarla. Se indica remarcando la celda seleccionada con un borde de color <font color='green'>verde</font>.\n",
    "\n",
    "### Modo comando\n",
    "`shift + enter` ejecuta la celda, selecciona celda de abajo\n",
    "\n",
    "`ctrl + enter` ejecuta la celda\n",
    "\n",
    "`option + enter` ejecuta la celda, inserta debajo\n",
    "\n",
    "`A` inserta celda arriba\n",
    "\n",
    "`B` inserta celda debajo\n",
    "\n",
    "`C` copiar celda\n",
    "\n",
    "`V` pegar celda\n",
    "\n",
    "`D`,`D` borrar celda\n",
    "\n",
    "`shift + M` fusionar contenido de celdas seleccionadas, o celda actual con la de abajo si se selecciona una sola celda\n",
    "\n",
    "`I`,`I` stop kernel\n",
    "\n",
    "`0`, `0` restart kernel\n",
    "\n",
    "`Y` cambia tipo de celda a *Code*\n",
    "\n",
    "`M` cambia tipo de celda a *Markdown*\n",
    "\n",
    "<a id='Modo-Edicion'></a>\n",
    "### Modo edición\n",
    "`cmd` + `/` toggle lineas de comentarios\n",
    "\n",
    "`ctrl` + `shift` + `-` dividir celda"
   ]
  },
  {
   "cell_type": "markdown",
   "id": "capital-reverse",
   "metadata": {},
   "source": [
    "\n",
    "## Mejores Prácticas\n",
    "\n",
    "\n",
    "A continuación listo una serie de buenas prácticas que te ayudarán a crear notebooks más prolijos e interactivos.\n",
    "\n",
    "### Importación de dependencias en la primera celda\n",
    "Realiza el \"import\" de todas tus dependencias en la primera celda del notebook. Esto ayuda la legibilidad, ya que antes de meterse con funciones y análisis de datos, tienes claro cuales son las dependencias que el notebook utiliza. A su vez, cuando re-inicias el notebook se cargan nuevamente todas las dependencias. Por último, si no quieres re-ejecutar todas las celdas de nuevo, tienes todas las dependencias juntas en una única celda que re-ejecutar.\n",
    "\n",
    "### Manten tus celdas simples\n",
    "Trata de mantener tus celdas simples, es decir logra un correcto balance entre cantidad de celdas y contenido en las mismas. Por ejemplo, no es una buena práctica tener una única celda con todo el contenido de tu notebook, pero tampoco es bueno tener una celda por cada comentario o línea de código que tengas.\n",
    "\n",
    "Logra un correcto balance agrupando comentarios, código, etc.\n",
    "\n",
    "### Define métodos\n",
    "Si tienes un análisis complejo de datos, no te olvides de todo lo que sabes de programación. Crea métodos que encapsulen comportamiento y te permitan reutilizarlo. Puedes definirte una sección de métodos útiles y comunes al inicio del notebook si quieres. \n",
    "\n",
    "### Manejador de versiones\n",
    "Siempre que puedas, utiliza un gestor de código fuente como [Github](https://github.com/), [GitLab](https://about.gitlab.com/) para mantener todas las versiones de tus notebooks de forma simple.\n",
    "\n",
    "\n",
    "### Divide el notebook en secciones\n",
    "Puedes dividir el contenido de tu notebook en seccioens utilizando la expresividad del lenguaje Markdown. A su vez, siempre resulta muy útil agregar una sección de **Objetivos** y otra de **Índice** al inicio del mismo.\n",
    "\n",
    "\n"
   ]
  },
  {
   "cell_type": "markdown",
   "id": "manual-filter",
   "metadata": {},
   "source": [
    "___"
   ]
  },
  {
   "cell_type": "markdown",
   "id": "passing-template",
   "metadata": {},
   "source": [
    "## Indentación\n",
    "\n"
   ]
  },
  {
   "cell_type": "markdown",
   "id": "interested-active",
   "metadata": {},
   "source": [
    "Este término significa mover un bloque de texto hacia la derecha insertando espacios o tabuladores, para así separarlo del margen izquierdo y distinguirlo mejor del texto adyacente.\n",
    "\n",
    "En general un código adecuadamente indentado/sangrado es más fácil de leer para un humano pues visualmente le indica que nivel de jerarquía tiene cada fragmento del código, aunque usualmente cuando un computador interpreta el código de la mayoría de los lenguajes de programación el resultado es indiferente si se cuenta o no con una buena indentación.\n",
    "\n",
    "\n",
    "La indentación se rechaza como inconsistente si un archivo fuente mezcla tabulaciones y espacio."
   ]
  },
  {
   "cell_type": "markdown",
   "id": "beginning-asian",
   "metadata": {},
   "source": [
    "https://aprende.olimpiada-informatica.org/python-identacion"
   ]
  },
  {
   "cell_type": "markdown",
   "id": "sweet-junior",
   "metadata": {},
   "source": [
    "___"
   ]
  },
  {
   "cell_type": "markdown",
   "id": "bizarre-pepper",
   "metadata": {},
   "source": [
    "## Personalizando la terminal\n",
    "\n",
    "Programas recomendados (linux, vim, oh-my-zsh)"
   ]
  },
  {
   "cell_type": "markdown",
   "id": "limited-thomson",
   "metadata": {},
   "source": [
    "La shell es un programa que toma los comandos que escribes desde tu teclado y se los da al sistema operativo para que sean ejecutados.\n",
    "\n",
    "Por ejemplo:\n",
    "\n",
    "Bourne again shell, es la primera shell que hemos conocido la gran mayoría de usuarios de Linux. Las grandes distribuciones generalmente suelen tener a Bash como shell por defecto y es una opción excelente para los usuarios que están empezando a usar la terminal. Su punto fuerte es la comunidad que la envuelve. Al ser de uso mayoritarío, encontraremos más información sobre ella que de otras opciones. Por lo tanto, si queremos buscar tutoriales de algún tipo o buscamos scripts para nuestra shell, normalmente nos los encontraremos dedicados a Bash.\n"
   ]
  },
  {
   "cell_type": "markdown",
   "id": "attached-victorian",
   "metadata": {},
   "source": [
    "Vi ha sido el primer editor de texto a pantalla completa para sistemas Unix . Además fue creado con la intención de que fuese sencillo en su uso y ligero para no cargar sobremanera el sistema.\n",
    "\n",
    "vim es una versión mejorada del editor de texto Vi, presente en todos los sistemas UNIX.\n",
    "\n",
    "https://openwebinars.net/blog/vim-manual-de-uso-basico/"
   ]
  },
  {
   "cell_type": "markdown",
   "id": "postal-lighter",
   "metadata": {},
   "source": [
    "ZSH, también llamado Z shell, es una versión extendida de Bourne Shell (sh), con muchas características nuevas y soporte para plugins y temas. Dado que se basa en el mismo shell que Bash, ZSH tiene muchas de las mismas características. \n",
    "\n",
    "\n",
    "Zsh es compatible a grandes rasgos con Bash, pero más personalizable, y con particularidades tanto en la forma en que interactuamos con la shell, como en la sintaxis de los scripts. Repasemos las ventajas de usar Zsh:\n",
    "\n",
    "Permite vincular extensiones de archivo con un programa: La existencia de alias de sufijo permite que, tras crearlo (\"alias -s txt=\"vim\"\"), cada vez que tecleemos el nombre de un fichero de texto en la terminal se abra automáticamente el programa asociado (en este caso, Vim).\n",
    "Viviendo la vida (casi) sin interfaz gráfica: así trabajan los linuxeros que ven todo dentro de una consola en modo texto\n",
    "\n",
    "Globbing: El uso de caracteres comodín para nombres de archivo. De este modo, si tecleamos algo como \"vim /u/l/b/d\" y pulsamos el tabulador, se convertiría automáticamente en el comando \"vim /usr/local/bin/destroy.sh\"\n",
    "\n",
    "Navegación inteligente: ¿Quieres cambiar de directorio usando 'cd'? Pues escribe el comando, dale al tabulador y elige a cuál quieres ir. O mejor: escribe sólo una parte del nombre del directorio al que quieres ir, y Zsh identificará a cuál te refieres.\n",
    "\n",
    "Comandos con corrección ortográfica: Si escribimos \"cd Súperdirectorio\" allí donde sólo hay una carpeta llamada \"superdirectorio\", el programa sabrá que nos referimos al primero.\n",
    "\n",
    "Historial de comandos mejorado: Bash permite ir retrocediendo cronológicamente en el historial de comandos, pero Zsh permite, además, empezar a escribir un comando y navegar exclusivamente entre aquellos que coincidan con lo ya escrito\n",
    "«Oh my Zsh!» es una herramienta que nos facilita personalizar el prompt de nuestra shell Zsh.\n",
    "\n",
    "\n",
    "https://hipertextual.com/archivo/2014/09/personalizar-prompt-zsh/\n",
    "    \n",
    "https://github.com/ohmyzsh/ohmyzsh"
   ]
  },
  {
   "cell_type": "code",
   "execution_count": null,
   "id": "universal-youth",
   "metadata": {
    "scrolled": true
   },
   "outputs": [],
   "source": []
  }
 ],
 "metadata": {
  "kernelspec": {
   "display_name": "Python 3",
   "language": "python",
   "name": "python3"
  },
  "language_info": {
   "codemirror_mode": {
    "name": "ipython",
    "version": 3
   },
   "file_extension": ".py",
   "mimetype": "text/x-python",
   "name": "python",
   "nbconvert_exporter": "python",
   "pygments_lexer": "ipython3",
   "version": "3.9.1"
  }
 },
 "nbformat": 4,
 "nbformat_minor": 5
}
