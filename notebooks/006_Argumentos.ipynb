{
 "cells": [
  {
   "cell_type": "markdown",
   "id": "protective-death",
   "metadata": {},
   "source": [
    "### Objetivo\n",
    "El objetivo de esta unidad conocer el uso de argumentos para indicar acciones a los programas."
   ]
  },
  {
   "cell_type": "markdown",
   "id": "efficient-recipe",
   "metadata": {},
   "source": [
    "Temas\n",
    "* Argumentos de línea de comandos\n",
    "* Repaso"
   ]
  },
  {
   "cell_type": "markdown",
   "id": "medieval-difference",
   "metadata": {},
   "source": [
    "1. Argumentos de línea de comandos\n",
    "\n",
    "Si estás acostumbrado a usar programas existentes que tengan una interfaz de usuario de línea de comandos (en contraposición a una interfaz gráfica), probablemente esté familiarizado con los argumentos de la línea de comandos. Estas son las cadenas que escribe en la línea de comandos después del nombre de un programa que desea ejecutar"
   ]
  },
  {
   "cell_type": "code",
   "execution_count": null,
   "id": "homeless-electric",
   "metadata": {},
   "outputs": [],
   "source": [
    "myprogram.py one two three"
   ]
  },
  {
   "cell_type": "markdown",
   "id": "rough-lithuania",
   "metadata": {},
   "source": [
    "En el código anterior, uno dos y tres son las opciones de línea de comandos.\n",
    "\n",
    "Para usar argumentos de línea de comandos en nuestros scripts de Python, importamos el módulo sys. A continuación, podemos acceder a los argumentos de la línea de comandos mediante la lista especial sys.argv. Ejecutar el código siguiente"
   ]
  },
  {
   "cell_type": "code",
   "execution_count": 1,
   "id": "improving-guest",
   "metadata": {},
   "outputs": [],
   "source": [
    "%%bash\n",
    "cd Curso_Python/src/\n",
    "touch myprogram.py"
   ]
  },
  {
   "cell_type": "markdown",
   "id": "arabic-sweet",
   "metadata": {},
   "source": [
    "Agregando la importación de sys a nuestro archivo myprogram.py"
   ]
  },
  {
   "cell_type": "code",
   "execution_count": null,
   "id": "aggregate-tennis",
   "metadata": {},
   "outputs": [],
   "source": [
    "import sys\n",
    "\n",
    "print(sys.argv)"
   ]
  },
  {
   "cell_type": "code",
   "execution_count": null,
   "id": "japanese-relation",
   "metadata": {},
   "outputs": [],
   "source": []
  },
  {
   "cell_type": "code",
   "execution_count": null,
   "id": "accepted-barbados",
   "metadata": {},
   "outputs": [],
   "source": [
    "python myprogram.py one two three"
   ]
  },
  {
   "cell_type": "markdown",
   "id": "compressed-panama",
   "metadata": {},
   "source": [
    "Podemos observar que sys.argv es una lista y que sus elementos son los argumentos dados por línea de comandos."
   ]
  },
  {
   "cell_type": "markdown",
   "id": "prepared-uniform",
   "metadata": {},
   "source": [
    "Fijémonos que el primer elemento de sys.argv es siempre el nombre del propio programa, por lo que el primer argumento de la línea de comandos está en el índice uno, el segundo en el índice dos, etc. Al igual que con la entrada, las opciones y los nombres de archivo dados en la línea de comandos Se almacenan como cadenas, por lo que si, por ejemplo, queremos utilizar un argumento de línea de comandos como un número, tendremos que convertirlo con int.\n",
    "\n",
    "Los argumentos de línea de comandos son una buena forma de obtener información para los programas de Python por varias razones:\n",
    "\n",
    "Todos los datos que su programa necesita estarán presentes al inicio de su programa, para que pueda hacer cualquier validación de entrada necesaria (como comprobar que los archivos estén presentes) antes de iniciar cualquier procesamiento.\n",
    "Además, su programa podrá ejecutarse como parte de un script de shell y las opciones aparecerán en el historial de shell del usuario.\n",
    "Podemos imprimir todos los argumentos:"
   ]
  },
  {
   "cell_type": "code",
   "execution_count": null,
   "id": "canadian-thong",
   "metadata": {},
   "outputs": [],
   "source": [
    "import sys \n",
    "\n",
    "for elements in sys.argv: \n",
    "    print (elements) "
   ]
  },
  {
   "cell_type": "markdown",
   "id": "regular-cookbook",
   "metadata": {},
   "source": [
    "Generalmente, los argumentos necesitan ser mas flexibles, si te fijas en el ejemplo anterior, los argumentos deben cumplir un orden, no podemos olvidar el orden porque sino el programa no funcionará. Pero lo más útil sería pasar la información a nuestro programa usando nombre_argumento = valor, de esta manera no importaria el orden y sería más claro a que argumento le estamos asignando el valor. Un ejemplo clásico es:"
   ]
  },
  {
   "cell_type": "code",
   "execution_count": null,
   "id": "collaborative-observer",
   "metadata": {},
   "outputs": [],
   "source": [
    "$blastp -query cow.small.faa -db human.1.protein.faa -out cow_vs_human_blast_results.txt"
   ]
  },
  {
   "cell_type": "markdown",
   "id": "academic-operator",
   "metadata": {},
   "source": [
    "Si notamos -query cow.small.faa, nos indica que hay un argumento llamado -query que tiene como valor un archivo llamado cow.small.faa.\n",
    "\n",
    "Para hacer que nuestros programas usen argumento nombre=valor, tenemos que usar el módulo argparse ya que facilita la escritura de interfaces de línea de comandos fáciles de usar. El programa tiene que definir qué argumentos requiere, y argparse procesará los argumentos usando sys.argv. El módulo argpars también genera automáticamente mensajes de ayuda y uso y emite errores cuando los usuarios dan al programa argumentos inválidos.\n",
    "\n",
    "El primer paso en el uso de argparse es crear un objeto ArgumentParser:"
   ]
  },
  {
   "cell_type": "code",
   "execution_count": null,
   "id": "satisfactory-values",
   "metadata": {},
   "outputs": [],
   "source": [
    "import argparse\n",
    " \n",
    "parser = argparse.ArgumentParser()"
   ]
  },
  {
   "cell_type": "markdown",
   "id": "recognized-taiwan",
   "metadata": {},
   "source": [
    "El objeto ArgumentParser almacenará toda la información necesaria para analizar la línea de comandos en tipos de datos Python."
   ]
  },
  {
   "cell_type": "markdown",
   "id": "active-evening",
   "metadata": {},
   "source": [
    "<img src=\"./Curso_Python/img/arguments.png\">"
   ]
  },
  {
   "cell_type": "markdown",
   "id": "suspended-handle",
   "metadata": {},
   "source": [
    "Llenar un ArgumentParser con información sobre los argumentos del programa se realiza haciendo llamadas al método add_argument(). Generalmente, estas llamadas le dicen al ArgumentParser cómo tomar las cadenas en la línea de comandos y convertirlas en objetos. Esta información se almacena y se utiliza cuando se llama parse_args()."
   ]
  },
  {
   "cell_type": "code",
   "execution_count": null,
   "id": "played-payday",
   "metadata": {},
   "outputs": [],
   "source": [
    "parser.add_argument( \n",
    "      \"-u\", \"--usage\", \n",
    "            help=\"Programa que lee un archivo: ejemplo de ejecucion\\n python argumentos.py -f dna.txt\", \n",
    "            action=\"store_true\")\n",
    "parser.add_argument(\n",
    "      \"-f\", \"--file\", \n",
    "            help=\"Nombre de archivo a procesar\")\n",
    "            \n",
    "args = parser.parse_args()"
   ]
  },
  {
   "cell_type": "markdown",
   "id": "breathing-utility",
   "metadata": {},
   "source": [
    "Finalmente, una vez que definimos los argumentos a usar en nuestro programa, podemos utilizar el objeto de tipo ArgumentParser, que en el ejemplo esta almacenado en la variable args. En el ejemplo nuestro objeto args usa el argumento file e imprimir el nombre del archivo que esta siendo pasado al programa desde linea de comando:"
   ]
  },
  {
   "cell_type": "code",
   "execution_count": null,
   "id": "infectious-newton",
   "metadata": {},
   "outputs": [],
   "source": [
    "# Aqui procesamos lo que se tiene que hacer con cada argumento\n",
    "if args.file:\n",
    "    print (\"El nombre de archivo a procesar es: \", args.file)\n"
   ]
  },
  {
   "cell_type": "markdown",
   "id": "tracked-class",
   "metadata": {},
   "source": [
    "Ejecución usando el argumento -f :"
   ]
  },
  {
   "cell_type": "code",
   "execution_count": null,
   "id": "effective-surge",
   "metadata": {},
   "outputs": [],
   "source": [
    "python argumentos.py -f dna.txt\n",
    "\n",
    "El nombre de archivo a procesar es:  dna.txt"
   ]
  },
  {
   "cell_type": "markdown",
   "id": "developed-evening",
   "metadata": {},
   "source": [
    "Ejecución usando el argumento -h"
   ]
  },
  {
   "cell_type": "code",
   "execution_count": null,
   "id": "eight-sweet",
   "metadata": {},
   "outputs": [],
   "source": [
    "python argumentos.py -h\n",
    "\n",
    "  -h, --help            show this help message and exit\n",
    "  -u, --usage           Programa que lee un archivo: ejemplo de ejecución\n",
    "                        python argumentos.py -f agenda.txt\n",
    "  -f FILE, --file FILE  Nombre de archivo a procesar"
   ]
  },
  {
   "cell_type": "markdown",
   "id": "first-boring",
   "metadata": {},
   "source": [
    "Realicemos un ejemplo completo:\n",
    "\n",
    "Generar un script que lea los datos de gapminder_gdp_oceania.csv y genere un gráfico de resultado.\n",
    "\n",
    "Utilizar argumentos para solicitar:\n",
    "Archivo de entrada -file\n",
    "Archivo de salida -output\n",
    "\n",
    "Opcional:\n",
    "Argumento para el modo de uso\n",
    "Argumento para desplegar el autor\n",
    "\n",
    "Los dos argumentos serán obligatorios y no podrá seguir la ejecución del programa si no son proporcionados.\n",
    "\n",
    "Ejemplo de modo de ejecución:\n",
    "\n",
    "python3 gapminder_gdp.py -f ../data/gapminder_gdp_oceania.csv -o ../results/"
   ]
  },
  {
   "cell_type": "code",
   "execution_count": null,
   "id": "atomic-shell",
   "metadata": {},
   "outputs": [],
   "source": [
    "import sys\n",
    "import argparse\n",
    " \n",
    "parser = argparse.ArgumentParser()\n",
    "parser.add_argument( \n",
    "      \"-u\", \"--usage\", \n",
    "            help=\"Muestra un ejemplo de ejecutar el programa\", \n",
    "            action=\"store_true\")\n",
    "parser.add_argument(\n",
    "      \"-f\", \"--file\",\n",
    "            help=\"Nombre de archivo a procesar\")\n",
    "parser.add_argument(\n",
    "      \"-o\", \"--output\", \n",
    "            help=\"Ruta de salida de grafico\")\n",
    "parser.add_argument( \n",
    "      \"-a\", \"--author\", \n",
    "            help=\"Muestra el autor\", \n",
    "            action=\"store_true\")\n",
    "            \n",
    "args = parser.parse_args()\n",
    "\n"
   ]
  },
  {
   "cell_type": "markdown",
   "id": "mexican-relationship",
   "metadata": {},
   "source": [
    "### Validamos los argumentos"
   ]
  },
  {
   "cell_type": "code",
   "execution_count": null,
   "id": "neither-sociology",
   "metadata": {},
   "outputs": [],
   "source": [
    "if args.usage:\n",
    "    print(\"Programa que lee un archivo: ejemplo de ejecucion\\npython3 gapminder_gdp.py -f ../data/gapminder_gdp_oceania.csv -o ../results/\")\n",
    "    sys.exit()\n",
    "    \n",
    "if args.author:\n",
    "    print(\"Author: Kevin Alquicira, email: kevin@ier.unam.mx\")\n",
    "    sys.exit()\n",
    "\n",
    "if not args.file:\n",
    "    print(\"Es necesario el argumento y valor -f\")\n",
    "    sys.exit()\n",
    "\n",
    "if not args.output:\n",
    "    print(\"Es necesario el argumento y valor -o\")\n",
    "    sys.exit()"
   ]
  },
  {
   "cell_type": "markdown",
   "id": "bronze-confusion",
   "metadata": {},
   "source": [
    "Leyendo archivo"
   ]
  },
  {
   "cell_type": "code",
   "execution_count": null,
   "id": "cellular-fireplace",
   "metadata": {},
   "outputs": [],
   "source": [
    "import pandas as pd\n",
    "import matplotlib.pyplot as plt\n",
    "data_gdp = pd.read_csv(args.file, index_col='country')\n",
    "\n",
    "\n",
    "years = data_gdp.columns.str.strip('gdpPercap_')\n",
    "\n",
    "# Convert year values to integers, saving results back to dataframe\n",
    "\n",
    "data_gdp.columns = years.astype(int)"
   ]
  },
  {
   "cell_type": "code",
   "execution_count": null,
   "id": "modular-credit",
   "metadata": {},
   "outputs": [],
   "source": [
    "Generando gráfico"
   ]
  },
  {
   "cell_type": "code",
   "execution_count": null,
   "id": "focused-profile",
   "metadata": {},
   "outputs": [],
   "source": [
    "data_gdp.T.plot()\n",
    "plt.ylabel('GDP per capita')\n",
    "\n",
    "fig = plt.gcf() \n",
    "fig.savefig(args.output+'GDP_per_capita.png')\n",
    "plt.show()"
   ]
  },
  {
   "cell_type": "markdown",
   "id": "pediatric-elite",
   "metadata": {},
   "source": [
    "Repaso\n",
    "Importando la librería:\n",
    "\n",
    "sys: librería que permite el uso del método argv\n",
    "argv: método que devuelve en lista los argumentos proporcionados desde línea de comandos\n",
    "\n",
    "argparse: librería que permite la manipulación de argumentos"
   ]
  },
  {
   "cell_type": "markdown",
   "id": "wound-community",
   "metadata": {},
   "source": [
    "Referencias:\n",
    "   http://46.101.4.154/Art%C3%ADculos%20t%C3%A9cnicos/Python/ArgParse.pdf\n",
    "    \n",
    "Parser for command-line options, arguments and sub-commands https://docs.python.org/3/library/argparse.html"
   ]
  }
 ],
 "metadata": {
  "kernelspec": {
   "display_name": "Python 3",
   "language": "python",
   "name": "python3"
  },
  "language_info": {
   "codemirror_mode": {
    "name": "ipython",
    "version": 3
   },
   "file_extension": ".py",
   "mimetype": "text/x-python",
   "name": "python",
   "nbconvert_exporter": "python",
   "pygments_lexer": "ipython3",
   "version": "3.9.1"
  }
 },
 "nbformat": 4,
 "nbformat_minor": 5
}
