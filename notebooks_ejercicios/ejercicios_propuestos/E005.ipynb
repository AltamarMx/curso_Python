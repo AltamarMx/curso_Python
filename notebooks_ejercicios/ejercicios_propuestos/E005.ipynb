{
 "cells": [
  {
   "cell_type": "markdown",
   "metadata": {},
   "source": [
    "# Clases y leyendo archivos\n",
    "\n",
    "Supongamos que la lista \n",
    "```python\n",
    "velocidades = [3,4,3,1,2,4,5,6]\n",
    "```\n",
    "corresponde a mediciones de viento realizadas en algún lugar y queremos realizar un análisis sobre ellas. \n",
    "\n",
    "## 1. Crea una función para cada una de las siguientes operaciones:\n",
    "* Promedio\n",
    "* Cuartiles\n",
    "* Las potencias para un área dada $P = \\frac{1}{2}\\rho v^3A$"
   ]
  },
  {
   "cell_type": "markdown",
   "metadata": {},
   "source": [
    "## 2. Con cada una de las funciones previamente definidas, crea una clase llamada Viento."
   ]
  },
  {
   "cell_type": "markdown",
   "metadata": {},
   "source": [
    "## 3. Importa los datos del archivo temixco_2018\n",
    "Usa los datos de la columna WS, conviertelos a una lista y aplica los métodos de Viento"
   ]
  }
 ],
 "metadata": {
  "kernelspec": {
   "display_name": "Python 3",
   "language": "python",
   "name": "python3"
  },
  "language_info": {
   "codemirror_mode": {
    "name": "ipython",
    "version": 3
   },
   "file_extension": ".py",
   "mimetype": "text/x-python",
   "name": "python",
   "nbconvert_exporter": "python",
   "pygments_lexer": "ipython3",
   "version": "3.8.7"
  }
 },
 "nbformat": 4,
 "nbformat_minor": 4
}
