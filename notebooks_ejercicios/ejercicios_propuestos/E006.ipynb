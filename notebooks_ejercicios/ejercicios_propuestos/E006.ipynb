{
 "cells": [
  {
   "cell_type": "markdown",
   "metadata": {},
   "source": [
    "# Listas vs arrays\n"
   ]
  },
  {
   "cell_type": "code",
   "execution_count": 6,
   "metadata": {},
   "outputs": [],
   "source": [
    "lista = [1,2,3,4,5]"
   ]
  },
  {
   "cell_type": "markdown",
   "metadata": {},
   "source": [
    "## Operaciones con listas"
   ]
  },
  {
   "cell_type": "markdown",
   "metadata": {},
   "source": [
    "### 1. Sumar x cantidad a cada elemento de la lista"
   ]
  },
  {
   "cell_type": "markdown",
   "metadata": {},
   "source": [
    "## Operaciones con arrays"
   ]
  },
  {
   "cell_type": "markdown",
   "metadata": {},
   "source": [
    "### 2. Crea un función que calcule la potencia de cada velocidad en una lista de velocidades"
   ]
  },
  {
   "cell_type": "code",
   "execution_count": 60,
   "metadata": {},
   "outputs": [],
   "source": [
    "## Para una lista\n",
    "def potencia_lista(vels, A=1, rho=1.225):\n",
    "    resultado = []\n",
    "    for elemento in vels:\n",
    "        resultado.append(0.5*rho*A*elemento**3)\n",
    "    return resultado"
   ]
  },
  {
   "cell_type": "markdown",
   "metadata": {},
   "source": [
    "### 3. Crea una función que calcule el producto punto entre dos listas\n",
    "Input\n",
    "```python\n",
    "a = [4,10,-2]\n",
    "b = [-1,5,3]\n",
    "```\n",
    "____\n",
    "Output\n",
    "```python\n",
    "40\n",
    "```"
   ]
  },
  {
   "cell_type": "code",
   "execution_count": 68,
   "metadata": {},
   "outputs": [],
   "source": [
    "a = [4,10,-2]\n",
    "b = [-1,5,3]"
   ]
  },
  {
   "cell_type": "markdown",
   "metadata": {},
   "source": [
    "### 4. Escribe un programa que devuelva una lista de los valores diferentes entre dos listas. La lista de salida regresará, en orden ascendente, los valores únicos que están en la lista 1 pero no en la lista 2.\n",
    "Input\n",
    "```python\n",
    "\n",
    "lista1 = [0,10,20,40,60,80]\n",
    "lista2 = [10,30,40,50,70,90]\n",
    "```\n",
    "____\n",
    "Output\n",
    "\n",
    "[0,20,60,80]"
   ]
  },
  {
   "cell_type": "code",
   "execution_count": 13,
   "metadata": {},
   "outputs": [],
   "source": [
    "lista1 = [0,10,20,40,60,80]\n",
    "lista2 = [10,30,40,50,70,90]"
   ]
  },
  {
   "cell_type": "markdown",
   "metadata": {},
   "source": [
    "### 5. Escribe un programa para hallar el primer índices de los valores máximos y mínimos de una lista unidimensional.\n",
    "Output\n",
    "```python\n",
    "lista = [8,16,2,5,11,10]\n",
    "```\n",
    "___\n",
    "Input:\n",
    "\n",
    "Indice Minimo: 2, Indice Máximo: 1"
   ]
  },
  {
   "cell_type": "code",
   "execution_count": 14,
   "metadata": {},
   "outputs": [],
   "source": [
    "lista = [8,16,2,5,11,10]"
   ]
  }
 ],
 "metadata": {
  "kernelspec": {
   "display_name": "Python 3",
   "language": "python",
   "name": "python3"
  },
  "language_info": {
   "codemirror_mode": {
    "name": "ipython",
    "version": 3
   },
   "file_extension": ".py",
   "mimetype": "text/x-python",
   "name": "python",
   "nbconvert_exporter": "python",
   "pygments_lexer": "ipython3",
   "version": "3.8.7"
  }
 },
 "nbformat": 4,
 "nbformat_minor": 4
}
