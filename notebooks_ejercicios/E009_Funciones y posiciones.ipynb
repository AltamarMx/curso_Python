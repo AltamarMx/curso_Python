{
 "cells": [
  {
   "cell_type": "code",
   "execution_count": 65,
   "metadata": {},
   "outputs": [],
   "source": [
    "import numpy as np\n",
    "import matplotlib.pyplot as plt\n",
    "from ipywidgets import interact\n",
    "\n",
    "from matplotlib.gridspec import GridSpec\n",
    "\n"
   ]
  },
  {
   "cell_type": "code",
   "execution_count": 59,
   "metadata": {},
   "outputs": [],
   "source": [
    "archivo = \"../data/mapa.ill\"\n",
    "datos  = np.genfromtxt(archivo,skip_header=4,delimiter=\",\")\n",
    "todos = datos[:,6:]\n",
    "# print(todos.shape)\n",
    "illuminancia  = todos.reshape((365,24,11,11))\n",
    "illuminancia  = np.around(illuminancia,decimals=0)\n",
    "# illuminancia[0,8]"
   ]
  },
  {
   "cell_type": "code",
   "execution_count": 27,
   "metadata": {},
   "outputs": [
    {
     "data": {
      "text/plain": [
       "Text(0, 0.5, 'y')"
      ]
     },
     "execution_count": 27,
     "metadata": {},
     "output_type": "execute_result"
    },
    {
     "data": {
      "image/png": "[encoded data removed]",
      "text/plain": [
       "<Figure size 432x288 with 1 Axes>"
      ]
     },
     "metadata": {
      "needs_background": "light"
     },
     "output_type": "display_data"
    }
   ],
   "source": [
    "dia    = 0\n",
    "hora   = 8\n",
    "il_max = 100\n",
    "il_min = 0\n",
    "plt.imshow(illuminancia[dia,hora],cmap=\"gray\",\n",
    "           vmin=il_min,vmax=il_max)\n",
    "plt.xlabel(\"x\")\n",
    "plt.ylabel(\"y\")"
   ]
  },
  {
   "cell_type": "code",
   "execution_count": 105,
   "metadata": {},
   "outputs": [
    {
     "data": {
      "application/vnd.jupyter.widget-view+json": {
       "model_id": "2d6f34a893f34827ac8f3599a9f2f5ff",
       "version_major": 2,
       "version_minor": 0
      },
      "text/plain": [
       "interactive(children=(IntSlider(value=182, description='dia', max=365), IntSlider(value=12, description='hora'…"
      ]
     },
     "metadata": {},
     "output_type": "display_data"
    },
    {
     "data": {
      "text/plain": [
       "<function __main__.mapa(dia, hora, il_max, x_pos, y_pos)>"
      ]
     },
     "execution_count": 105,
     "metadata": {},
     "output_type": "execute_result"
    }
   ],
   "source": [
    "dia    = 0\n",
    "hora   = 8\n",
    "il_max = 100\n",
    "il_min = 0\n",
    "x_pos  = 5\n",
    "y_pos  = 1\n",
    "\n",
    "def mapa(dia,hora,il_max,x_pos,y_pos):\n",
    "    il_min = 0\n",
    "    fig = plt.figure()\n",
    "\n",
    "    gs = GridSpec(3, 3, figure=fig)\n",
    "    ax1 = fig.add_subplot(gs[0:2,0:2])\n",
    "    ax2 = fig.add_subplot(gs[0:2,2:3])\n",
    "    ax3 = fig.add_subplot(gs[2:3,0:2])\n",
    "\n",
    "\n",
    "\n",
    "    mapa = ax1.imshow(illuminancia[dia,hora],cmap=\"hot\",\n",
    "               vmin=il_min,vmax=il_max)\n",
    "    \n",
    "    cb_ax = fig.add_axes([.55,.39,0.02,.49])\n",
    "    cbar = fig.colorbar(mapa,cax=cb_ax)\n",
    "\n",
    "\n",
    "    x = illuminancia[dia][hora][:,x_pos]\n",
    "    y = np.arange(len(x))\n",
    "    ax2.plot(x,y[::-1])\n",
    "\n",
    "    y = illuminancia[dia][hora][y_pos,:]\n",
    "    x = np.arange(len(y))\n",
    "    ax3.plot(x,y)\n",
    "\n",
    "    plt.show()\n",
    "    \n",
    "    \n",
    "interact(mapa,dia=(0,365,1),hora=(7,18,1),il_max=(100,50_000,100),\n",
    "         x_pos=(0,10,1),y_pos=(0,10,1))"
   ]
  },
  {
   "cell_type": "code",
   "execution_count": 106,
   "metadata": {},
   "outputs": [
    {
     "data": {
      "application/vnd.jupyter.widget-view+json": {
       "model_id": "1c683ca46b65499298c061a711d99b3d",
       "version_major": 2,
       "version_minor": 0
      },
      "text/plain": [
       "interactive(children=(IntSlider(value=182, description='dia', max=365), IntSlider(value=12, description='hora'…"
      ]
     },
     "metadata": {},
     "output_type": "display_data"
    },
    {
     "data": {
      "text/plain": [
       "<function __main__.mapa(dia, hora, il_max, x_pos, y_pos)>"
      ]
     },
     "execution_count": 106,
     "metadata": {},
     "output_type": "execute_result"
    }
   ],
   "source": [
    "interact(mapa,dia=(0,365,1),hora=(7,18,1),il_max=(100,50_000,100),\n",
    "         x_pos=(0,10,1),y_pos=(0,10,1))"
   ]
  },
  {
   "cell_type": "code",
   "execution_count": 110,
   "metadata": {},
   "outputs": [
    {
     "data": {
      "text/plain": [
       "(11, 11)"
      ]
     },
     "execution_count": 110,
     "metadata": {},
     "output_type": "execute_result"
    }
   ],
   "source": [
    "xmin = -3.93728430403787\n",
    "ymin = 0.0852178967380599\n",
    "xmax = -0.06292206183786986 \n",
    "ymax = 5.9196178967380595 \n",
    "dx   = 0.3522147492909091 \n",
    "dy   = 0.5304\n",
    "\n",
    "Nx = int((xmax - xmin )/ dx)\n",
    "Ny = int((ymax - ymin )/ dy)\n",
    "Nx,Ny"
   ]
  },
  {
   "cell_type": "code",
   "execution_count": null,
   "metadata": {},
   "outputs": [],
   "source": []
  }
 ],
 "metadata": {
  "kernelspec": {
   "display_name": "Python 3",
   "language": "python",
   "name": "python3"
  },
  "language_info": {
   "codemirror_mode": {
    "name": "ipython",
    "version": 3
   },
   "file_extension": ".py",
   "mimetype": "text/x-python",
   "name": "python",
   "nbconvert_exporter": "python",
   "pygments_lexer": "ipython3",
   "version": "3.8.5"
  }
 },
 "nbformat": 4,
 "nbformat_minor": 4
}
